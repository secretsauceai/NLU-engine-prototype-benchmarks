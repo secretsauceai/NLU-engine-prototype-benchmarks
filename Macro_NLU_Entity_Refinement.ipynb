{
 "cells": [
  {
   "cell_type": "code",
   "execution_count": 1,
   "metadata": {},
   "outputs": [],
   "source": [
    "import warnings\n",
    "warnings.filterwarnings(\"ignore\", category=DeprecationWarning)\n",
    "warnings.filterwarnings(\"ignore\", category=FutureWarning)\n",
    "\n",
    "import pandas as pd\n",
    "import nltk\n",
    "\n",
    "from nlu_engine import NLUEngine\n",
    "from nlu_engine import MacroDataRefinement\n",
    "from nlu_engine import MacroEntityRefinement\n",
    "\n",
    "from nlu_engine import DataUtils\n",
    "from nlu_engine import RenderJSON\n",
    "\n",
    "from nlu_engine import Analytics\n",
    "\n",
    "from nlu_engine import EntityExtractor, crf"
   ]
  },
  {
   "cell_type": "markdown",
   "metadata": {},
   "source": [
    "# Macro NLU Data Refinement"
   ]
  },
  {
   "cell_type": "markdown",
   "metadata": {},
   "source": [
    "It's a bit like the TV show [Serverance](https://www.imdb.com/title/tt11280740/) .\n",
    "\n",
    "![Helly R and Mark S](https://media.npr.org/assets/img/2022/02/15/atv_severance_photo_010103-5f8033cc2b219ba64fe265ce893eae4c90e83896-s1100-c50.jpg \"Helly R and Mark G\")\n",
    "\n",
    "*Helly R*: `My job is to scroll through the spreadsheet and look for the numbers that feel scary?`\n",
    "\n",
    "*Mark S*: `I told you, you’ll understand when you see it, so just be patient.`\n",
    "\n",
    "![MDR](https://www.imore.com/sites/imore.com/files/styles/large/public/field/image/2022/03/refinement-software-severance-apple-tv.jpg \"serverance micro data refinement\")\n",
    "\n",
    "*Helly R*: `That was scary. The numbers were scary.`\n",
    "\n",
    "Hopefully the intents and entities that are wrong aren't scary, just a bit frustrating. Let's see if we can find the right ones.\n",
    "\n",
    "NOTE: We will use Logistic Regression with TFIDF features to train our intent models and CRFs for entity exraction. Why? Well, they are very fast and both methods aren't state-of-the-art. This is good, because it is easier to find problems we will need to refine in the dataset than if we were to use a proper NLU engine like Snips or something SOTA like BERT. It is very important to note that some of the the problems we will pick up on, might not be an actual issue, but might be due to the limitations of the models. Refining the real problems and ignoring the limitations of the models is a good way to improve the models. Then when the dataset is ready, we can use some more advanced NLU engine and get the best performance possible.\n",
    "\n",
    "* Macro NLU Data Refinement: Intent\n",
    "* Macro NLU Data Refinement: Entity\n"
   ]
  },
  {
   "cell_type": "markdown",
   "metadata": {},
   "source": [
    "Load the dataset"
   ]
  },
  {
   "cell_type": "code",
   "execution_count": 2,
   "metadata": {},
   "outputs": [
    {
     "name": "stdout",
     "output_type": "stream",
     "text": [
      "Successfully loaded nlu_data_intent_and_entity_refined_df.csv\n"
     ]
    }
   ],
   "source": [
    "try:\n",
    "    nlu_data_refined_df = pd.read_csv(\n",
    "        'data/refined/nlu_data_intent_and_entity_refined_df.csv', index_col=0)\n",
    "    print('Successfully loaded nlu_data_intent_and_entity_refined_df.csv')\n",
    "    removed_nlu_data_refined_df = nlu_data_refined_df[nlu_data_refined_df['remove'] != True]\n",
    "except:\n",
    "    nlu_data_refined_df = pd.read_csv(\n",
    "        'data/refined/nlu_data_refined_df.csv', sep=',', index_col=0)\n",
    "    print('Successfully loaded nlu_data_refined_df.csv')\n",
    "    \n",
    "    nlu_data_refined_df = DataUtils.convert_annotated_utterances_to_normalised_utterances(\n",
    "        nlu_data_refined_df)\n",
    "\n",
    "    removed_nlu_data_refined_df = nlu_data_refined_df[nlu_data_refined_df['remove'] != True]\n"
   ]
  },
  {
   "cell_type": "code",
   "execution_count": null,
   "metadata": {},
   "outputs": [],
   "source": [
    "nlu_data_refined_df"
   ]
  },
  {
   "cell_type": "code",
   "execution_count": null,
   "metadata": {},
   "outputs": [],
   "source": [
    "#TODO: does this NEED to be here, LOL!\n",
    "from matplotlib.pyplot import axis"
   ]
  },
  {
   "cell_type": "markdown",
   "metadata": {},
   "source": [
    "We should remove the unwanted entries for the next few steps."
   ]
  },
  {
   "cell_type": "markdown",
   "metadata": {},
   "source": [
    "# Entity extraction reports"
   ]
  },
  {
   "cell_type": "markdown",
   "metadata": {},
   "source": [
    "The entity extraction could be greatly improved by improving the features it uses. It would be great if someone would take a look at this. Perhaps the CRF features similar to what Snips uses would be better such as Brown clustering (probably)."
   ]
  },
  {
   "cell_type": "code",
   "execution_count": null,
   "metadata": {},
   "outputs": [],
   "source": [
    "#TODO: implement brown clustering to improve entity extraction (see entity_extractor.py)"
   ]
  },
  {
   "cell_type": "markdown",
   "metadata": {},
   "source": [
    "It is important to have the NLTK tokenizer to be able to extract entities."
   ]
  },
  {
   "cell_type": "code",
   "execution_count": null,
   "metadata": {},
   "outputs": [],
   "source": [
    "try:\n",
    "    nltk.data.find('tokenizers/punkt')\n",
    "except LookupError:\n",
    "        nltk.download('punkt')"
   ]
  },
  {
   "cell_type": "markdown",
   "metadata": {},
   "source": [
    "Due to this error featured in [this git issue](https://github.com/TeamHG-Memex/sklearn-crfsuite/issues/60) we have to use an older version of scikit learn (sklearn<0.24), otherwise the latest version would work. Hopefully this gets fixed one day.."
   ]
  },
  {
   "cell_type": "code",
   "execution_count": 3,
   "metadata": {},
   "outputs": [
    {
     "name": "stdout",
     "output_type": "stream",
     "text": [
      "Evaluating entity classifier\n",
      "Cross validating with CRF(algorithm='lbfgs', all_possible_transitions=True, c1=0.1, c2=0.1,\n",
      "    keep_tempfiles=None, max_iterations=100)\n"
     ]
    },
    {
     "name": "stderr",
     "output_type": "stream",
     "text": [
      "<string>:6: VisibleDeprecationWarning: Creating an ndarray from ragged nested sequences (which is a list-or-tuple of lists-or-tuples-or ndarrays with different lengths or shapes) is deprecated. If you meant to do this, you must specify 'dtype=object' when creating the ndarray.\n"
     ]
    },
    {
     "name": "stdout",
     "output_type": "stream",
     "text": [
      "Time it took to cross validate CRF(algorithm='lbfgs', all_possible_transitions=True, c1=0.1, c2=0.1,\n",
      "    keep_tempfiles=None, max_iterations=100): 268.15149188041687\n"
     ]
    },
    {
     "name": "stderr",
     "output_type": "stream",
     "text": [
      "/home/bartmoss/code/NLU-engine-prototype-benchmarks/.venv/lib/python3.7/site-packages/sklearn/metrics/_classification.py:1221: UndefinedMetricWarning: Precision and F-score are ill-defined and being set to 0.0 in labels with no predicted samples. Use `zero_division` parameter to control this behavior.\n",
      "  _warn_prf(average, modifier, msg_start, len(result))\n"
     ]
    }
   ],
   "source": [
    "entity_report_df = NLUEngine.evaluate_entity_classifier(\n",
    "    data_df=removed_nlu_data_refined_df, cv=4)"
   ]
  },
  {
   "cell_type": "code",
   "execution_count": 4,
   "metadata": {},
   "outputs": [
    {
     "data": {
      "text/html": [
       "<div>\n",
       "<style scoped>\n",
       "    .dataframe tbody tr th:only-of-type {\n",
       "        vertical-align: middle;\n",
       "    }\n",
       "\n",
       "    .dataframe tbody tr th {\n",
       "        vertical-align: top;\n",
       "    }\n",
       "\n",
       "    .dataframe thead th {\n",
       "        text-align: right;\n",
       "    }\n",
       "</style>\n",
       "<table border=\"1\" class=\"dataframe\">\n",
       "  <thead>\n",
       "    <tr style=\"text-align: right;\">\n",
       "      <th></th>\n",
       "      <th>entity-type</th>\n",
       "      <th>precision</th>\n",
       "      <th>recall</th>\n",
       "      <th>f1-score</th>\n",
       "      <th>support</th>\n",
       "    </tr>\n",
       "  </thead>\n",
       "  <tbody>\n",
       "    <tr>\n",
       "      <th>0</th>\n",
       "      <td>0</td>\n",
       "      <td>0.874000</td>\n",
       "      <td>0.954648</td>\n",
       "      <td>0.912546</td>\n",
       "      <td>64341.000000</td>\n",
       "    </tr>\n",
       "    <tr>\n",
       "      <th>1</th>\n",
       "      <td>alarm_type</td>\n",
       "      <td>0.000000</td>\n",
       "      <td>0.000000</td>\n",
       "      <td>0.000000</td>\n",
       "      <td>26.000000</td>\n",
       "    </tr>\n",
       "    <tr>\n",
       "      <th>2</th>\n",
       "      <td>app_name</td>\n",
       "      <td>0.909091</td>\n",
       "      <td>0.476190</td>\n",
       "      <td>0.625000</td>\n",
       "      <td>63.000000</td>\n",
       "    </tr>\n",
       "    <tr>\n",
       "      <th>3</th>\n",
       "      <td>artist_name</td>\n",
       "      <td>0.334096</td>\n",
       "      <td>0.260714</td>\n",
       "      <td>0.292879</td>\n",
       "      <td>560.000000</td>\n",
       "    </tr>\n",
       "    <tr>\n",
       "      <th>4</th>\n",
       "      <td>audiobook_author</td>\n",
       "      <td>0.000000</td>\n",
       "      <td>0.000000</td>\n",
       "      <td>0.000000</td>\n",
       "      <td>22.000000</td>\n",
       "    </tr>\n",
       "    <tr>\n",
       "      <th>5</th>\n",
       "      <td>audiobook_name</td>\n",
       "      <td>0.000000</td>\n",
       "      <td>0.000000</td>\n",
       "      <td>0.000000</td>\n",
       "      <td>235.000000</td>\n",
       "    </tr>\n",
       "    <tr>\n",
       "      <th>6</th>\n",
       "      <td>business_name</td>\n",
       "      <td>0.336134</td>\n",
       "      <td>0.163599</td>\n",
       "      <td>0.220083</td>\n",
       "      <td>489.000000</td>\n",
       "    </tr>\n",
       "    <tr>\n",
       "      <th>7</th>\n",
       "      <td>business_type</td>\n",
       "      <td>0.601156</td>\n",
       "      <td>0.299712</td>\n",
       "      <td>0.400000</td>\n",
       "      <td>347.000000</td>\n",
       "    </tr>\n",
       "    <tr>\n",
       "      <th>8</th>\n",
       "      <td>change_amount</td>\n",
       "      <td>0.000000</td>\n",
       "      <td>0.000000</td>\n",
       "      <td>0.000000</td>\n",
       "      <td>148.000000</td>\n",
       "    </tr>\n",
       "    <tr>\n",
       "      <th>9</th>\n",
       "      <td>coffee_type</td>\n",
       "      <td>1.000000</td>\n",
       "      <td>0.155556</td>\n",
       "      <td>0.269231</td>\n",
       "      <td>45.000000</td>\n",
       "    </tr>\n",
       "    <tr>\n",
       "      <th>10</th>\n",
       "      <td>color_type</td>\n",
       "      <td>0.746269</td>\n",
       "      <td>0.306748</td>\n",
       "      <td>0.434783</td>\n",
       "      <td>163.000000</td>\n",
       "    </tr>\n",
       "    <tr>\n",
       "      <th>11</th>\n",
       "      <td>cooking_type</td>\n",
       "      <td>0.000000</td>\n",
       "      <td>0.000000</td>\n",
       "      <td>0.000000</td>\n",
       "      <td>22.000000</td>\n",
       "    </tr>\n",
       "    <tr>\n",
       "      <th>12</th>\n",
       "      <td>currency_name</td>\n",
       "      <td>0.000000</td>\n",
       "      <td>0.000000</td>\n",
       "      <td>0.000000</td>\n",
       "      <td>864.000000</td>\n",
       "    </tr>\n",
       "    <tr>\n",
       "      <th>13</th>\n",
       "      <td>date</td>\n",
       "      <td>0.866438</td>\n",
       "      <td>0.882202</td>\n",
       "      <td>0.874249</td>\n",
       "      <td>4287.000000</td>\n",
       "    </tr>\n",
       "    <tr>\n",
       "      <th>14</th>\n",
       "      <td>definition_word</td>\n",
       "      <td>0.000000</td>\n",
       "      <td>0.000000</td>\n",
       "      <td>0.000000</td>\n",
       "      <td>510.000000</td>\n",
       "    </tr>\n",
       "    <tr>\n",
       "      <th>15</th>\n",
       "      <td>device_type</td>\n",
       "      <td>0.776999</td>\n",
       "      <td>0.706633</td>\n",
       "      <td>0.740147</td>\n",
       "      <td>784.000000</td>\n",
       "    </tr>\n",
       "    <tr>\n",
       "      <th>16</th>\n",
       "      <td>drink_type</td>\n",
       "      <td>0.000000</td>\n",
       "      <td>0.000000</td>\n",
       "      <td>0.000000</td>\n",
       "      <td>20.000000</td>\n",
       "    </tr>\n",
       "    <tr>\n",
       "      <th>17</th>\n",
       "      <td>email_address</td>\n",
       "      <td>0.974194</td>\n",
       "      <td>0.909639</td>\n",
       "      <td>0.940810</td>\n",
       "      <td>166.000000</td>\n",
       "    </tr>\n",
       "    <tr>\n",
       "      <th>18</th>\n",
       "      <td>email_folder</td>\n",
       "      <td>0.980000</td>\n",
       "      <td>0.924528</td>\n",
       "      <td>0.951456</td>\n",
       "      <td>53.000000</td>\n",
       "    </tr>\n",
       "    <tr>\n",
       "      <th>19</th>\n",
       "      <td>event_name</td>\n",
       "      <td>0.475445</td>\n",
       "      <td>0.362701</td>\n",
       "      <td>0.411490</td>\n",
       "      <td>2429.000000</td>\n",
       "    </tr>\n",
       "    <tr>\n",
       "      <th>20</th>\n",
       "      <td>food_type</td>\n",
       "      <td>0.475728</td>\n",
       "      <td>0.287812</td>\n",
       "      <td>0.358646</td>\n",
       "      <td>681.000000</td>\n",
       "    </tr>\n",
       "    <tr>\n",
       "      <th>21</th>\n",
       "      <td>game_name</td>\n",
       "      <td>0.000000</td>\n",
       "      <td>0.000000</td>\n",
       "      <td>0.000000</td>\n",
       "      <td>239.000000</td>\n",
       "    </tr>\n",
       "    <tr>\n",
       "      <th>22</th>\n",
       "      <td>game_type</td>\n",
       "      <td>0.000000</td>\n",
       "      <td>0.000000</td>\n",
       "      <td>0.000000</td>\n",
       "      <td>3.000000</td>\n",
       "    </tr>\n",
       "    <tr>\n",
       "      <th>23</th>\n",
       "      <td>general_frequency</td>\n",
       "      <td>0.736842</td>\n",
       "      <td>0.218750</td>\n",
       "      <td>0.337349</td>\n",
       "      <td>256.000000</td>\n",
       "    </tr>\n",
       "    <tr>\n",
       "      <th>24</th>\n",
       "      <td>house_place</td>\n",
       "      <td>0.841924</td>\n",
       "      <td>0.597561</td>\n",
       "      <td>0.699001</td>\n",
       "      <td>410.000000</td>\n",
       "    </tr>\n",
       "    <tr>\n",
       "      <th>25</th>\n",
       "      <td>ingredient</td>\n",
       "      <td>0.000000</td>\n",
       "      <td>0.000000</td>\n",
       "      <td>0.000000</td>\n",
       "      <td>38.000000</td>\n",
       "    </tr>\n",
       "    <tr>\n",
       "      <th>26</th>\n",
       "      <td>joke_type</td>\n",
       "      <td>0.911765</td>\n",
       "      <td>0.413333</td>\n",
       "      <td>0.568807</td>\n",
       "      <td>75.000000</td>\n",
       "    </tr>\n",
       "    <tr>\n",
       "      <th>27</th>\n",
       "      <td>list_name</td>\n",
       "      <td>0.750000</td>\n",
       "      <td>0.540797</td>\n",
       "      <td>0.628445</td>\n",
       "      <td>527.000000</td>\n",
       "    </tr>\n",
       "    <tr>\n",
       "      <th>28</th>\n",
       "      <td>meal_type</td>\n",
       "      <td>0.764706</td>\n",
       "      <td>0.650000</td>\n",
       "      <td>0.702703</td>\n",
       "      <td>100.000000</td>\n",
       "    </tr>\n",
       "    <tr>\n",
       "      <th>29</th>\n",
       "      <td>media_type</td>\n",
       "      <td>0.311688</td>\n",
       "      <td>0.160356</td>\n",
       "      <td>0.211765</td>\n",
       "      <td>449.000000</td>\n",
       "    </tr>\n",
       "    <tr>\n",
       "      <th>30</th>\n",
       "      <td>movie_name</td>\n",
       "      <td>0.000000</td>\n",
       "      <td>0.000000</td>\n",
       "      <td>0.000000</td>\n",
       "      <td>32.000000</td>\n",
       "    </tr>\n",
       "    <tr>\n",
       "      <th>31</th>\n",
       "      <td>movie_type</td>\n",
       "      <td>0.000000</td>\n",
       "      <td>0.000000</td>\n",
       "      <td>0.000000</td>\n",
       "      <td>19.000000</td>\n",
       "    </tr>\n",
       "    <tr>\n",
       "      <th>32</th>\n",
       "      <td>music_album</td>\n",
       "      <td>0.000000</td>\n",
       "      <td>0.000000</td>\n",
       "      <td>0.000000</td>\n",
       "      <td>7.000000</td>\n",
       "    </tr>\n",
       "    <tr>\n",
       "      <th>33</th>\n",
       "      <td>music_descriptor</td>\n",
       "      <td>0.181818</td>\n",
       "      <td>0.061069</td>\n",
       "      <td>0.091429</td>\n",
       "      <td>131.000000</td>\n",
       "    </tr>\n",
       "    <tr>\n",
       "      <th>34</th>\n",
       "      <td>music_genre</td>\n",
       "      <td>0.763158</td>\n",
       "      <td>0.682353</td>\n",
       "      <td>0.720497</td>\n",
       "      <td>340.000000</td>\n",
       "    </tr>\n",
       "    <tr>\n",
       "      <th>35</th>\n",
       "      <td>news_topic</td>\n",
       "      <td>0.026288</td>\n",
       "      <td>0.049213</td>\n",
       "      <td>0.034270</td>\n",
       "      <td>508.000000</td>\n",
       "    </tr>\n",
       "    <tr>\n",
       "      <th>36</th>\n",
       "      <td>order_type</td>\n",
       "      <td>0.796610</td>\n",
       "      <td>0.516484</td>\n",
       "      <td>0.626667</td>\n",
       "      <td>182.000000</td>\n",
       "    </tr>\n",
       "    <tr>\n",
       "      <th>37</th>\n",
       "      <td>person</td>\n",
       "      <td>0.612155</td>\n",
       "      <td>0.519129</td>\n",
       "      <td>0.561817</td>\n",
       "      <td>1882.000000</td>\n",
       "    </tr>\n",
       "    <tr>\n",
       "      <th>38</th>\n",
       "      <td>personal_info</td>\n",
       "      <td>0.664286</td>\n",
       "      <td>0.479381</td>\n",
       "      <td>0.556886</td>\n",
       "      <td>194.000000</td>\n",
       "    </tr>\n",
       "    <tr>\n",
       "      <th>39</th>\n",
       "      <td>place_name</td>\n",
       "      <td>0.617797</td>\n",
       "      <td>0.625907</td>\n",
       "      <td>0.621826</td>\n",
       "      <td>2895.000000</td>\n",
       "    </tr>\n",
       "    <tr>\n",
       "      <th>40</th>\n",
       "      <td>player_setting</td>\n",
       "      <td>0.453704</td>\n",
       "      <td>0.175627</td>\n",
       "      <td>0.253230</td>\n",
       "      <td>279.000000</td>\n",
       "    </tr>\n",
       "    <tr>\n",
       "      <th>41</th>\n",
       "      <td>playlist_name</td>\n",
       "      <td>0.265823</td>\n",
       "      <td>0.104478</td>\n",
       "      <td>0.150000</td>\n",
       "      <td>201.000000</td>\n",
       "    </tr>\n",
       "    <tr>\n",
       "      <th>42</th>\n",
       "      <td>podcast_descriptor</td>\n",
       "      <td>0.000000</td>\n",
       "      <td>0.000000</td>\n",
       "      <td>0.000000</td>\n",
       "      <td>269.000000</td>\n",
       "    </tr>\n",
       "    <tr>\n",
       "      <th>43</th>\n",
       "      <td>podcast_name</td>\n",
       "      <td>0.020619</td>\n",
       "      <td>0.010929</td>\n",
       "      <td>0.014286</td>\n",
       "      <td>183.000000</td>\n",
       "    </tr>\n",
       "    <tr>\n",
       "      <th>44</th>\n",
       "      <td>radio_name</td>\n",
       "      <td>0.000000</td>\n",
       "      <td>0.000000</td>\n",
       "      <td>0.000000</td>\n",
       "      <td>914.000000</td>\n",
       "    </tr>\n",
       "    <tr>\n",
       "      <th>45</th>\n",
       "      <td>relation</td>\n",
       "      <td>0.835913</td>\n",
       "      <td>0.669975</td>\n",
       "      <td>0.743802</td>\n",
       "      <td>403.000000</td>\n",
       "    </tr>\n",
       "    <tr>\n",
       "      <th>46</th>\n",
       "      <td>song_name</td>\n",
       "      <td>0.111260</td>\n",
       "      <td>0.147950</td>\n",
       "      <td>0.127008</td>\n",
       "      <td>561.000000</td>\n",
       "    </tr>\n",
       "    <tr>\n",
       "      <th>47</th>\n",
       "      <td>sport_type</td>\n",
       "      <td>0.000000</td>\n",
       "      <td>0.000000</td>\n",
       "      <td>0.000000</td>\n",
       "      <td>13.000000</td>\n",
       "    </tr>\n",
       "    <tr>\n",
       "      <th>48</th>\n",
       "      <td>time</td>\n",
       "      <td>0.812431</td>\n",
       "      <td>0.810631</td>\n",
       "      <td>0.811530</td>\n",
       "      <td>2709.000000</td>\n",
       "    </tr>\n",
       "    <tr>\n",
       "      <th>49</th>\n",
       "      <td>time_zone</td>\n",
       "      <td>0.456522</td>\n",
       "      <td>0.157895</td>\n",
       "      <td>0.234637</td>\n",
       "      <td>133.000000</td>\n",
       "    </tr>\n",
       "    <tr>\n",
       "      <th>50</th>\n",
       "      <td>timeofday</td>\n",
       "      <td>0.847826</td>\n",
       "      <td>0.904872</td>\n",
       "      <td>0.875421</td>\n",
       "      <td>431.000000</td>\n",
       "    </tr>\n",
       "    <tr>\n",
       "      <th>51</th>\n",
       "      <td>transport_agency</td>\n",
       "      <td>0.000000</td>\n",
       "      <td>0.000000</td>\n",
       "      <td>0.000000</td>\n",
       "      <td>72.000000</td>\n",
       "    </tr>\n",
       "    <tr>\n",
       "      <th>52</th>\n",
       "      <td>transport_descriptor</td>\n",
       "      <td>0.000000</td>\n",
       "      <td>0.000000</td>\n",
       "      <td>0.000000</td>\n",
       "      <td>33.000000</td>\n",
       "    </tr>\n",
       "    <tr>\n",
       "      <th>53</th>\n",
       "      <td>transport_name</td>\n",
       "      <td>0.000000</td>\n",
       "      <td>0.000000</td>\n",
       "      <td>0.000000</td>\n",
       "      <td>52.000000</td>\n",
       "    </tr>\n",
       "    <tr>\n",
       "      <th>54</th>\n",
       "      <td>transport_type</td>\n",
       "      <td>0.000000</td>\n",
       "      <td>0.000000</td>\n",
       "      <td>0.000000</td>\n",
       "      <td>508.000000</td>\n",
       "    </tr>\n",
       "    <tr>\n",
       "      <th>55</th>\n",
       "      <td>weather_descriptor</td>\n",
       "      <td>0.624150</td>\n",
       "      <td>0.504814</td>\n",
       "      <td>0.558175</td>\n",
       "      <td>727.000000</td>\n",
       "    </tr>\n",
       "    <tr>\n",
       "      <th>56</th>\n",
       "      <td>accuracy</td>\n",
       "      <td>0.813289</td>\n",
       "      <td>0.813289</td>\n",
       "      <td>0.813289</td>\n",
       "      <td>0.813289</td>\n",
       "    </tr>\n",
       "    <tr>\n",
       "      <th>57</th>\n",
       "      <td>macro avg</td>\n",
       "      <td>0.388515</td>\n",
       "      <td>0.280218</td>\n",
       "      <td>0.313587</td>\n",
       "      <td>92030.000000</td>\n",
       "    </tr>\n",
       "    <tr>\n",
       "      <th>58</th>\n",
       "      <td>weighted avg</td>\n",
       "      <td>0.776083</td>\n",
       "      <td>0.813289</td>\n",
       "      <td>0.790815</td>\n",
       "      <td>92030.000000</td>\n",
       "    </tr>\n",
       "  </tbody>\n",
       "</table>\n",
       "</div>"
      ],
      "text/plain": [
       "             entity-type  precision    recall  f1-score       support\n",
       "0                      0   0.874000  0.954648  0.912546  64341.000000\n",
       "1             alarm_type   0.000000  0.000000  0.000000     26.000000\n",
       "2               app_name   0.909091  0.476190  0.625000     63.000000\n",
       "3            artist_name   0.334096  0.260714  0.292879    560.000000\n",
       "4       audiobook_author   0.000000  0.000000  0.000000     22.000000\n",
       "5         audiobook_name   0.000000  0.000000  0.000000    235.000000\n",
       "6          business_name   0.336134  0.163599  0.220083    489.000000\n",
       "7          business_type   0.601156  0.299712  0.400000    347.000000\n",
       "8          change_amount   0.000000  0.000000  0.000000    148.000000\n",
       "9            coffee_type   1.000000  0.155556  0.269231     45.000000\n",
       "10            color_type   0.746269  0.306748  0.434783    163.000000\n",
       "11          cooking_type   0.000000  0.000000  0.000000     22.000000\n",
       "12         currency_name   0.000000  0.000000  0.000000    864.000000\n",
       "13                  date   0.866438  0.882202  0.874249   4287.000000\n",
       "14       definition_word   0.000000  0.000000  0.000000    510.000000\n",
       "15           device_type   0.776999  0.706633  0.740147    784.000000\n",
       "16            drink_type   0.000000  0.000000  0.000000     20.000000\n",
       "17         email_address   0.974194  0.909639  0.940810    166.000000\n",
       "18          email_folder   0.980000  0.924528  0.951456     53.000000\n",
       "19            event_name   0.475445  0.362701  0.411490   2429.000000\n",
       "20             food_type   0.475728  0.287812  0.358646    681.000000\n",
       "21             game_name   0.000000  0.000000  0.000000    239.000000\n",
       "22             game_type   0.000000  0.000000  0.000000      3.000000\n",
       "23     general_frequency   0.736842  0.218750  0.337349    256.000000\n",
       "24           house_place   0.841924  0.597561  0.699001    410.000000\n",
       "25            ingredient   0.000000  0.000000  0.000000     38.000000\n",
       "26             joke_type   0.911765  0.413333  0.568807     75.000000\n",
       "27             list_name   0.750000  0.540797  0.628445    527.000000\n",
       "28             meal_type   0.764706  0.650000  0.702703    100.000000\n",
       "29            media_type   0.311688  0.160356  0.211765    449.000000\n",
       "30            movie_name   0.000000  0.000000  0.000000     32.000000\n",
       "31            movie_type   0.000000  0.000000  0.000000     19.000000\n",
       "32           music_album   0.000000  0.000000  0.000000      7.000000\n",
       "33      music_descriptor   0.181818  0.061069  0.091429    131.000000\n",
       "34           music_genre   0.763158  0.682353  0.720497    340.000000\n",
       "35            news_topic   0.026288  0.049213  0.034270    508.000000\n",
       "36            order_type   0.796610  0.516484  0.626667    182.000000\n",
       "37                person   0.612155  0.519129  0.561817   1882.000000\n",
       "38         personal_info   0.664286  0.479381  0.556886    194.000000\n",
       "39            place_name   0.617797  0.625907  0.621826   2895.000000\n",
       "40        player_setting   0.453704  0.175627  0.253230    279.000000\n",
       "41         playlist_name   0.265823  0.104478  0.150000    201.000000\n",
       "42    podcast_descriptor   0.000000  0.000000  0.000000    269.000000\n",
       "43          podcast_name   0.020619  0.010929  0.014286    183.000000\n",
       "44            radio_name   0.000000  0.000000  0.000000    914.000000\n",
       "45              relation   0.835913  0.669975  0.743802    403.000000\n",
       "46             song_name   0.111260  0.147950  0.127008    561.000000\n",
       "47            sport_type   0.000000  0.000000  0.000000     13.000000\n",
       "48                  time   0.812431  0.810631  0.811530   2709.000000\n",
       "49             time_zone   0.456522  0.157895  0.234637    133.000000\n",
       "50             timeofday   0.847826  0.904872  0.875421    431.000000\n",
       "51      transport_agency   0.000000  0.000000  0.000000     72.000000\n",
       "52  transport_descriptor   0.000000  0.000000  0.000000     33.000000\n",
       "53        transport_name   0.000000  0.000000  0.000000     52.000000\n",
       "54        transport_type   0.000000  0.000000  0.000000    508.000000\n",
       "55    weather_descriptor   0.624150  0.504814  0.558175    727.000000\n",
       "56              accuracy   0.813289  0.813289  0.813289      0.813289\n",
       "57             macro avg   0.388515  0.280218  0.313587  92030.000000\n",
       "58          weighted avg   0.776083  0.813289  0.790815  92030.000000"
      ]
     },
     "execution_count": 4,
     "metadata": {},
     "output_type": "execute_result"
    }
   ],
   "source": [
    "entity_report_df"
   ]
  },
  {
   "cell_type": "markdown",
   "metadata": {},
   "source": [
    "Let's have a look at the report plotted for us"
   ]
  },
  {
   "cell_type": "code",
   "execution_count": 5,
   "metadata": {},
   "outputs": [
    {
     "data": {
      "image/png": "[encoded data removed]",
      "text/plain": [
       "<Figure size 864x1152 with 1 Axes>"
      ]
     },
     "metadata": {
      "needs_background": "light"
     },
     "output_type": "display_data"
    }
   ],
   "source": [
    "Analytics.plot_report(entity_report_df)"
   ]
  },
  {
   "cell_type": "markdown",
   "metadata": {},
   "source": [
    "We will need to extract out the entity types from the dataset. We need this to calculate the precentage of entities, to filter out any domains that have too few entities for benchmarking by domain instead of all domains together."
   ]
  },
  {
   "cell_type": "code",
   "execution_count": 6,
   "metadata": {},
   "outputs": [],
   "source": [
    "nlu_data_refined_df['entities'] = nlu_data_refined_df['answer_annotation'].apply(\n",
    "    EntityExtractor.extract_entities)"
   ]
  },
  {
   "cell_type": "code",
   "execution_count": 7,
   "metadata": {},
   "outputs": [],
   "source": [
    "nlu_data_refined_df['entity_types'] = nlu_data_refined_df['entities'].apply(\n",
    "    EntityExtractor.extract_entity_types)"
   ]
  },
  {
   "cell_type": "code",
   "execution_count": null,
   "metadata": {},
   "outputs": [],
   "source": [
    "#TODO: add this as a method to the entity extractor class (should I still do this? YES!)"
   ]
  },
  {
   "cell_type": "code",
   "execution_count": 8,
   "metadata": {},
   "outputs": [],
   "source": [
    "import numpy as np\n",
    "nlu_data_refined_df['entity_types'] = nlu_data_refined_df['entity_types'].apply(lambda y: np.nan if len(y)==0 else y)\n",
    "nlu_data_refined_df['entities'] = nlu_data_refined_df['entities'].apply(lambda y: np.nan if len(y)==0 else y)"
   ]
  },
  {
   "cell_type": "code",
   "execution_count": 9,
   "metadata": {},
   "outputs": [],
   "source": [
    "removed_nlu_data_refined_df = nlu_data_refined_df[nlu_data_refined_df['remove'] != True]\n"
   ]
  },
  {
   "cell_type": "code",
   "execution_count": 10,
   "metadata": {},
   "outputs": [
    {
     "name": "stdout",
     "output_type": "stream",
     "text": [
      "Evaluating entity classifier for alarm\n",
      "Evaluating entity classifier\n",
      "Cross validating with CRF(algorithm='lbfgs', all_possible_transitions=True, c1=0.1, c2=0.1,\n",
      "    keep_tempfiles=None, max_iterations=100)\n"
     ]
    },
    {
     "name": "stderr",
     "output_type": "stream",
     "text": [
      "<string>:6: VisibleDeprecationWarning: Creating an ndarray from ragged nested sequences (which is a list-or-tuple of lists-or-tuples-or ndarrays with different lengths or shapes) is deprecated. If you meant to do this, you must specify 'dtype=object' when creating the ndarray.\n",
      "/home/bartmoss/code/NLU-engine-prototype-benchmarks/.venv/lib/python3.7/site-packages/sklearn/metrics/_classification.py:1221: UndefinedMetricWarning: Precision and F-score are ill-defined and being set to 0.0 in labels with no predicted samples. Use `zero_division` parameter to control this behavior.\n",
      "  _warn_prf(average, modifier, msg_start, len(result))\n",
      "/home/bartmoss/code/NLU-engine-prototype-benchmarks/nlu_engine/main.py:190: SettingWithCopyWarning: \n",
      "A value is trying to be set on a copy of a slice from a DataFrame.\n",
      "Try using .loc[row_indexer,col_indexer] = value instead\n",
      "\n",
      "See the caveats in the documentation: https://pandas.pydata.org/pandas-docs/stable/user_guide/indexing.html#returning-a-view-versus-a-copy\n",
      "  domain_scores_df['domain'] = domain\n"
     ]
    },
    {
     "name": "stdout",
     "output_type": "stream",
     "text": [
      "Time it took to cross validate CRF(algorithm='lbfgs', all_possible_transitions=True, c1=0.1, c2=0.1,\n",
      "    keep_tempfiles=None, max_iterations=100): 0.5684628486633301\n",
      "Evaluating entity classifier for audio\n",
      "Evaluating entity classifier\n",
      "Cross validating with CRF(algorithm='lbfgs', all_possible_transitions=True, c1=0.1, c2=0.1,\n",
      "    keep_tempfiles=None, max_iterations=100)\n",
      "Time it took to cross validate CRF(algorithm='lbfgs', all_possible_transitions=True, c1=0.1, c2=0.1,\n",
      "    keep_tempfiles=None, max_iterations=100): 0.0753638744354248\n",
      "Evaluating entity classifier for iot\n",
      "Evaluating entity classifier\n",
      "Cross validating with CRF(algorithm='lbfgs', all_possible_transitions=True, c1=0.1, c2=0.1,\n",
      "    keep_tempfiles=None, max_iterations=100)\n",
      "Time it took to cross validate CRF(algorithm='lbfgs', all_possible_transitions=True, c1=0.1, c2=0.1,\n",
      "    keep_tempfiles=None, max_iterations=100): 1.2700600624084473\n",
      "Evaluating entity classifier for calendar\n",
      "Evaluating entity classifier\n",
      "Cross validating with CRF(algorithm='lbfgs', all_possible_transitions=True, c1=0.1, c2=0.1,\n",
      "    keep_tempfiles=None, max_iterations=100)\n",
      "Time it took to cross validate CRF(algorithm='lbfgs', all_possible_transitions=True, c1=0.1, c2=0.1,\n",
      "    keep_tempfiles=None, max_iterations=100): 6.0613250732421875\n",
      "Evaluating entity classifier for play\n",
      "Evaluating entity classifier\n",
      "Cross validating with CRF(algorithm='lbfgs', all_possible_transitions=True, c1=0.1, c2=0.1,\n",
      "    keep_tempfiles=None, max_iterations=100)\n",
      "Time it took to cross validate CRF(algorithm='lbfgs', all_possible_transitions=True, c1=0.1, c2=0.1,\n",
      "    keep_tempfiles=None, max_iterations=100): 5.636632204055786\n",
      "Evaluating entity classifier for general\n",
      "general has 0.9534007195477129% non-entities. It is too sparse to evaluate.\n",
      "Evaluating entity classifier for datetime\n",
      "Evaluating entity classifier\n",
      "Cross validating with CRF(algorithm='lbfgs', all_possible_transitions=True, c1=0.1, c2=0.1,\n",
      "    keep_tempfiles=None, max_iterations=100)\n",
      "Time it took to cross validate CRF(algorithm='lbfgs', all_possible_transitions=True, c1=0.1, c2=0.1,\n",
      "    keep_tempfiles=None, max_iterations=100): 0.6955933570861816\n",
      "Evaluating entity classifier for takeaway\n",
      "Evaluating entity classifier\n",
      "Cross validating with CRF(algorithm='lbfgs', all_possible_transitions=True, c1=0.1, c2=0.1,\n",
      "    keep_tempfiles=None, max_iterations=100)\n",
      "Time it took to cross validate CRF(algorithm='lbfgs', all_possible_transitions=True, c1=0.1, c2=0.1,\n",
      "    keep_tempfiles=None, max_iterations=100): 0.760883092880249\n",
      "Evaluating entity classifier for news\n",
      "Evaluating entity classifier\n",
      "Cross validating with CRF(algorithm='lbfgs', all_possible_transitions=True, c1=0.1, c2=0.1,\n",
      "    keep_tempfiles=None, max_iterations=100)\n",
      "Time it took to cross validate CRF(algorithm='lbfgs', all_possible_transitions=True, c1=0.1, c2=0.1,\n",
      "    keep_tempfiles=None, max_iterations=100): 1.0062789916992188\n",
      "Evaluating entity classifier for music\n",
      "Evaluating entity classifier\n",
      "Cross validating with CRF(algorithm='lbfgs', all_possible_transitions=True, c1=0.1, c2=0.1,\n",
      "    keep_tempfiles=None, max_iterations=100)\n",
      "Time it took to cross validate CRF(algorithm='lbfgs', all_possible_transitions=True, c1=0.1, c2=0.1,\n",
      "    keep_tempfiles=None, max_iterations=100): 0.13237905502319336\n",
      "Evaluating entity classifier for weather\n",
      "Evaluating entity classifier\n",
      "Cross validating with CRF(algorithm='lbfgs', all_possible_transitions=True, c1=0.1, c2=0.1,\n",
      "    keep_tempfiles=None, max_iterations=100)\n",
      "Time it took to cross validate CRF(algorithm='lbfgs', all_possible_transitions=True, c1=0.1, c2=0.1,\n",
      "    keep_tempfiles=None, max_iterations=100): 1.315324306488037\n",
      "Evaluating entity classifier for qa\n",
      "Evaluating entity classifier\n",
      "Cross validating with CRF(algorithm='lbfgs', all_possible_transitions=True, c1=0.1, c2=0.1,\n",
      "    keep_tempfiles=None, max_iterations=100)\n",
      "Time it took to cross validate CRF(algorithm='lbfgs', all_possible_transitions=True, c1=0.1, c2=0.1,\n",
      "    keep_tempfiles=None, max_iterations=100): 3.1484293937683105\n",
      "Evaluating entity classifier for recommendation\n",
      "Evaluating entity classifier\n",
      "Cross validating with CRF(algorithm='lbfgs', all_possible_transitions=True, c1=0.1, c2=0.1,\n",
      "    keep_tempfiles=None, max_iterations=100)\n",
      "Time it took to cross validate CRF(algorithm='lbfgs', all_possible_transitions=True, c1=0.1, c2=0.1,\n",
      "    keep_tempfiles=None, max_iterations=100): 1.1222591400146484\n",
      "Evaluating entity classifier for cooking\n",
      "Evaluating entity classifier\n",
      "Cross validating with CRF(algorithm='lbfgs', all_possible_transitions=True, c1=0.1, c2=0.1,\n",
      "    keep_tempfiles=None, max_iterations=100)\n",
      "Time it took to cross validate CRF(algorithm='lbfgs', all_possible_transitions=True, c1=0.1, c2=0.1,\n",
      "    keep_tempfiles=None, max_iterations=100): 0.5362169742584229\n",
      "Evaluating entity classifier for email\n",
      "Evaluating entity classifier\n",
      "Cross validating with CRF(algorithm='lbfgs', all_possible_transitions=True, c1=0.1, c2=0.1,\n",
      "    keep_tempfiles=None, max_iterations=100)\n",
      "Time it took to cross validate CRF(algorithm='lbfgs', all_possible_transitions=True, c1=0.1, c2=0.1,\n",
      "    keep_tempfiles=None, max_iterations=100): 3.1048197746276855\n",
      "Evaluating entity classifier for transport\n",
      "Evaluating entity classifier\n",
      "Cross validating with CRF(algorithm='lbfgs', all_possible_transitions=True, c1=0.1, c2=0.1,\n",
      "    keep_tempfiles=None, max_iterations=100)\n",
      "Time it took to cross validate CRF(algorithm='lbfgs', all_possible_transitions=True, c1=0.1, c2=0.1,\n",
      "    keep_tempfiles=None, max_iterations=100): 2.0218470096588135\n",
      "Evaluating entity classifier for lists\n",
      "Evaluating entity classifier\n",
      "Cross validating with CRF(algorithm='lbfgs', all_possible_transitions=True, c1=0.1, c2=0.1,\n",
      "    keep_tempfiles=None, max_iterations=100)\n",
      "Time it took to cross validate CRF(algorithm='lbfgs', all_possible_transitions=True, c1=0.1, c2=0.1,\n",
      "    keep_tempfiles=None, max_iterations=100): 0.7470438480377197\n"
     ]
    }
   ],
   "source": [
    "domain_entity_reports_df = NLUEngine.get_entity_reports_for_domains(removed_nlu_data_refined_df)"
   ]
  },
  {
   "cell_type": "code",
   "execution_count": 11,
   "metadata": {},
   "outputs": [],
   "source": [
    "domain_entity_reports_df = domain_entity_reports_df[domain_entity_reports_df['entity-type'].str.contains(\n",
    "    'weighted avg')].sort_values(by='f1-score', ascending=True)"
   ]
  },
  {
   "cell_type": "code",
   "execution_count": 12,
   "metadata": {},
   "outputs": [
    {
     "data": {
      "text/html": [
       "<div>\n",
       "<style scoped>\n",
       "    .dataframe tbody tr th:only-of-type {\n",
       "        vertical-align: middle;\n",
       "    }\n",
       "\n",
       "    .dataframe tbody tr th {\n",
       "        vertical-align: top;\n",
       "    }\n",
       "\n",
       "    .dataframe thead th {\n",
       "        text-align: right;\n",
       "    }\n",
       "</style>\n",
       "<table border=\"1\" class=\"dataframe\">\n",
       "  <thead>\n",
       "    <tr style=\"text-align: right;\">\n",
       "      <th></th>\n",
       "      <th>entity-type</th>\n",
       "      <th>precision</th>\n",
       "      <th>recall</th>\n",
       "      <th>f1-score</th>\n",
       "      <th>support</th>\n",
       "      <th>domain</th>\n",
       "    </tr>\n",
       "  </thead>\n",
       "  <tbody>\n",
       "    <tr>\n",
       "      <th>27</th>\n",
       "      <td>weighted avg</td>\n",
       "      <td>0.644421</td>\n",
       "      <td>0.685911</td>\n",
       "      <td>0.659549</td>\n",
       "      <td>11051.0</td>\n",
       "      <td>play</td>\n",
       "    </tr>\n",
       "    <tr>\n",
       "      <th>14</th>\n",
       "      <td>weighted avg</td>\n",
       "      <td>0.684923</td>\n",
       "      <td>0.782016</td>\n",
       "      <td>0.725743</td>\n",
       "      <td>367.0</td>\n",
       "      <td>music</td>\n",
       "    </tr>\n",
       "    <tr>\n",
       "      <th>16</th>\n",
       "      <td>weighted avg</td>\n",
       "      <td>0.838414</td>\n",
       "      <td>0.846966</td>\n",
       "      <td>0.839535</td>\n",
       "      <td>2274.0</td>\n",
       "      <td>takeaway</td>\n",
       "    </tr>\n",
       "    <tr>\n",
       "      <th>18</th>\n",
       "      <td>weighted avg</td>\n",
       "      <td>0.844779</td>\n",
       "      <td>0.866175</td>\n",
       "      <td>0.852882</td>\n",
       "      <td>3527.0</td>\n",
       "      <td>recommendation</td>\n",
       "    </tr>\n",
       "    <tr>\n",
       "      <th>20</th>\n",
       "      <td>weighted avg</td>\n",
       "      <td>0.884246</td>\n",
       "      <td>0.888836</td>\n",
       "      <td>0.885063</td>\n",
       "      <td>18819.0</td>\n",
       "      <td>calendar</td>\n",
       "    </tr>\n",
       "    <tr>\n",
       "      <th>12</th>\n",
       "      <td>weighted avg</td>\n",
       "      <td>0.890012</td>\n",
       "      <td>0.892921</td>\n",
       "      <td>0.888886</td>\n",
       "      <td>4492.0</td>\n",
       "      <td>news</td>\n",
       "    </tr>\n",
       "    <tr>\n",
       "      <th>18</th>\n",
       "      <td>weighted avg</td>\n",
       "      <td>0.881286</td>\n",
       "      <td>0.900264</td>\n",
       "      <td>0.889026</td>\n",
       "      <td>2647.0</td>\n",
       "      <td>lists</td>\n",
       "    </tr>\n",
       "    <tr>\n",
       "      <th>16</th>\n",
       "      <td>weighted avg</td>\n",
       "      <td>0.878675</td>\n",
       "      <td>0.905823</td>\n",
       "      <td>0.890492</td>\n",
       "      <td>1975.0</td>\n",
       "      <td>cooking</td>\n",
       "    </tr>\n",
       "    <tr>\n",
       "      <th>11</th>\n",
       "      <td>weighted avg</td>\n",
       "      <td>0.909339</td>\n",
       "      <td>0.915642</td>\n",
       "      <td>0.912069</td>\n",
       "      <td>6508.0</td>\n",
       "      <td>weather</td>\n",
       "    </tr>\n",
       "    <tr>\n",
       "      <th>17</th>\n",
       "      <td>weighted avg</td>\n",
       "      <td>0.915545</td>\n",
       "      <td>0.921031</td>\n",
       "      <td>0.916768</td>\n",
       "      <td>4850.0</td>\n",
       "      <td>iot</td>\n",
       "    </tr>\n",
       "    <tr>\n",
       "      <th>9</th>\n",
       "      <td>weighted avg</td>\n",
       "      <td>0.919165</td>\n",
       "      <td>0.922014</td>\n",
       "      <td>0.918569</td>\n",
       "      <td>4052.0</td>\n",
       "      <td>datetime</td>\n",
       "    </tr>\n",
       "    <tr>\n",
       "      <th>18</th>\n",
       "      <td>weighted avg</td>\n",
       "      <td>0.918154</td>\n",
       "      <td>0.925614</td>\n",
       "      <td>0.919751</td>\n",
       "      <td>6762.0</td>\n",
       "      <td>transport</td>\n",
       "    </tr>\n",
       "    <tr>\n",
       "      <th>7</th>\n",
       "      <td>weighted avg</td>\n",
       "      <td>0.919051</td>\n",
       "      <td>0.921739</td>\n",
       "      <td>0.920187</td>\n",
       "      <td>345.0</td>\n",
       "      <td>audio</td>\n",
       "    </tr>\n",
       "    <tr>\n",
       "      <th>19</th>\n",
       "      <td>weighted avg</td>\n",
       "      <td>0.918911</td>\n",
       "      <td>0.923835</td>\n",
       "      <td>0.920545</td>\n",
       "      <td>10661.0</td>\n",
       "      <td>qa</td>\n",
       "    </tr>\n",
       "    <tr>\n",
       "      <th>21</th>\n",
       "      <td>weighted avg</td>\n",
       "      <td>0.929788</td>\n",
       "      <td>0.935575</td>\n",
       "      <td>0.931526</td>\n",
       "      <td>9251.0</td>\n",
       "      <td>email</td>\n",
       "    </tr>\n",
       "    <tr>\n",
       "      <th>12</th>\n",
       "      <td>weighted avg</td>\n",
       "      <td>0.949521</td>\n",
       "      <td>0.950988</td>\n",
       "      <td>0.944100</td>\n",
       "      <td>2530.0</td>\n",
       "      <td>alarm</td>\n",
       "    </tr>\n",
       "  </tbody>\n",
       "</table>\n",
       "</div>"
      ],
      "text/plain": [
       "     entity-type  precision    recall  f1-score  support          domain\n",
       "27  weighted avg   0.644421  0.685911  0.659549  11051.0            play\n",
       "14  weighted avg   0.684923  0.782016  0.725743    367.0           music\n",
       "16  weighted avg   0.838414  0.846966  0.839535   2274.0        takeaway\n",
       "18  weighted avg   0.844779  0.866175  0.852882   3527.0  recommendation\n",
       "20  weighted avg   0.884246  0.888836  0.885063  18819.0        calendar\n",
       "12  weighted avg   0.890012  0.892921  0.888886   4492.0            news\n",
       "18  weighted avg   0.881286  0.900264  0.889026   2647.0           lists\n",
       "16  weighted avg   0.878675  0.905823  0.890492   1975.0         cooking\n",
       "11  weighted avg   0.909339  0.915642  0.912069   6508.0         weather\n",
       "17  weighted avg   0.915545  0.921031  0.916768   4850.0             iot\n",
       "9   weighted avg   0.919165  0.922014  0.918569   4052.0        datetime\n",
       "18  weighted avg   0.918154  0.925614  0.919751   6762.0       transport\n",
       "7   weighted avg   0.919051  0.921739  0.920187    345.0           audio\n",
       "19  weighted avg   0.918911  0.923835  0.920545  10661.0              qa\n",
       "21  weighted avg   0.929788  0.935575  0.931526   9251.0           email\n",
       "12  weighted avg   0.949521  0.950988  0.944100   2530.0           alarm"
      ]
     },
     "execution_count": 12,
     "metadata": {},
     "output_type": "execute_result"
    }
   ],
   "source": [
    "domain_entity_reports_df"
   ]
  },
  {
   "cell_type": "code",
   "execution_count": 13,
   "metadata": {},
   "outputs": [],
   "source": [
    "import matplotlib.pyplot as plt"
   ]
  },
  {
   "cell_type": "code",
   "execution_count": 14,
   "metadata": {},
   "outputs": [
    {
     "data": {
      "image/png": "[encoded data removed]",
      "text/plain": [
       "<Figure size 864x1152 with 1 Axes>"
      ]
     },
     "metadata": {
      "needs_background": "light"
     },
     "output_type": "display_data"
    }
   ],
   "source": [
    "#TODO: rename plot_report to plot_intent_report and this code below should be a method called plot_entity_report\n",
    "label = domain_entity_reports_df.columns[5]\n",
    "\n",
    "fig, ax = plt.subplots()\n",
    "graph_report_df = domain_entity_reports_df.sort_values(\n",
    "            by='f1-score', ascending=True)\n",
    "y_axis = np.arange(len(graph_report_df[label]))\n",
    "\n",
    "ax.barh(y_axis, graph_report_df['f1-score'],\n",
    "        align='center', color='b')\n",
    "\n",
    "fig.set_figheight(16)\n",
    "fig.set_figwidth(12)\n",
    "\n",
    "ax.set_title(f'f1-scores by {label}', fontsize=24)\n",
    "ax.set_xlabel(\"f1-score\", fontsize=18)\n",
    "ax.tick_params(axis='x', labelsize=18)\n",
    "ax.set_ylabel(label, fontsize=18)\n",
    "ax.set_yticks(y_axis, graph_report_df[label], fontsize=16)\n",
    "fig.tight_layout()"
   ]
  },
  {
   "cell_type": "markdown",
   "metadata": {},
   "source": [
    "## entity classification \n",
    "\n",
    "We can get the `predicted_tagging` and find all of the entities that are being incorrectly classified."
   ]
  },
  {
   "cell_type": "markdown",
   "metadata": {},
   "source": [
    "If you don't already have a saved model (for the default data set there is already one), you can train a model and save it."
   ]
  },
  {
   "cell_type": "code",
   "execution_count": null,
   "metadata": {},
   "outputs": [],
   "source": [
    "crf_model = NLUEngine.train_entity_classifier(removed_nlu_data_refined_df)"
   ]
  },
  {
   "cell_type": "code",
   "execution_count": null,
   "metadata": {},
   "outputs": [],
   "source": [
    "model_path = 'models/analytics/entity_tagger.sav'"
   ]
  },
  {
   "cell_type": "code",
   "execution_count": null,
   "metadata": {},
   "outputs": [],
   "source": [
    "DataUtils.pickle_model(classifier=crf_model, model_path=model_path)"
   ]
  },
  {
   "cell_type": "markdown",
   "metadata": {},
   "source": [
    "You can open it from here."
   ]
  },
  {
   "cell_type": "code",
   "execution_count": 15,
   "metadata": {},
   "outputs": [],
   "source": [
    "model_path = 'models/analytics/entity_tagger.sav'"
   ]
  },
  {
   "cell_type": "code",
   "execution_count": 16,
   "metadata": {},
   "outputs": [],
   "source": [
    "crf_model = DataUtils.import_pickled_model(model_path)"
   ]
  },
  {
   "cell_type": "markdown",
   "metadata": {},
   "source": [
    "Now, let's run it across our data set to get the `predicted_tagging`."
   ]
  },
  {
   "cell_type": "code",
   "execution_count": 17,
   "metadata": {},
   "outputs": [],
   "source": [
    "nlu_data_refined_df['predicted_tagging'] = nlu_data_refined_df['answer_normalised'].apply(\n",
    "    lambda x: NLUEngine.create_entity_tagged_utterance(x, crf_model))"
   ]
  },
  {
   "cell_type": "code",
   "execution_count": 18,
   "metadata": {},
   "outputs": [],
   "source": [
    "removed_nlu_data_refined_df = nlu_data_refined_df[nlu_data_refined_df['remove'] != True]"
   ]
  },
  {
   "cell_type": "markdown",
   "metadata": {},
   "source": [
    "We can now load a dataset of all of the incorrectly predicted entities."
   ]
  },
  {
   "cell_type": "code",
   "execution_count": 19,
   "metadata": {},
   "outputs": [],
   "source": [
    "#TODO: I might move this out since it is only being done after the overlapping entities have been removed\n",
    "incorrect_predicted_entities_df = removed_nlu_data_refined_df[removed_nlu_data_refined_df['answer_annotation']\n",
    "                            != removed_nlu_data_refined_df['predicted_tagging']]"
   ]
  },
  {
   "cell_type": "code",
   "execution_count": null,
   "metadata": {},
   "outputs": [],
   "source": [
    "incorrect_predicted_entities_df"
   ]
  },
  {
   "cell_type": "markdown",
   "metadata": {},
   "source": [
    "# Domain specific entity analysis"
   ]
  },
  {
   "cell_type": "markdown",
   "metadata": {},
   "source": [
    "For a new domain start here!\n",
    "\n",
    "Pick a domain to start."
   ]
  },
  {
   "cell_type": "code",
   "execution_count": 20,
   "metadata": {},
   "outputs": [],
   "source": [
    "domain_selection = MacroDataRefinement.list_and_select_domain(\n",
    "    removed_nlu_data_refined_df)"
   ]
  },
  {
   "cell_type": "code",
   "execution_count": 21,
   "metadata": {},
   "outputs": [
    {
     "name": "stdout",
     "output_type": "stream",
     "text": [
      "Successfully loaded dataframe\n"
     ]
    }
   ],
   "source": [
    "domain_df = DataUtils.get_domain_df(\n",
    "    removed_nlu_data_refined_df, domain_selection)"
   ]
  },
  {
   "cell_type": "code",
   "execution_count": 22,
   "metadata": {},
   "outputs": [
    {
     "data": {
      "text/html": [
       "<div>\n",
       "<style scoped>\n",
       "    .dataframe tbody tr th:only-of-type {\n",
       "        vertical-align: middle;\n",
       "    }\n",
       "\n",
       "    .dataframe tbody tr th {\n",
       "        vertical-align: top;\n",
       "    }\n",
       "\n",
       "    .dataframe thead th {\n",
       "        text-align: right;\n",
       "    }\n",
       "</style>\n",
       "<table border=\"1\" class=\"dataframe\">\n",
       "  <thead>\n",
       "    <tr style=\"text-align: right;\">\n",
       "      <th></th>\n",
       "      <th>question</th>\n",
       "      <th>answer_normalised</th>\n",
       "      <th>scenario</th>\n",
       "      <th>intent</th>\n",
       "      <th>predicted_label</th>\n",
       "      <th>answer_annotation</th>\n",
       "      <th>entities</th>\n",
       "      <th>entity_types</th>\n",
       "      <th>predicted_tagging</th>\n",
       "    </tr>\n",
       "  </thead>\n",
       "  <tbody>\n",
       "    <tr>\n",
       "      <th>7</th>\n",
       "      <td>How would you ask your PDA to change the light...</td>\n",
       "      <td>make the lighting a bit more warm here</td>\n",
       "      <td>iot</td>\n",
       "      <td>hue_lightchange</td>\n",
       "      <td>hue_lightup</td>\n",
       "      <td>make the lighting a bit more [color_type : war...</td>\n",
       "      <td>[{'type': 'color_type', 'words': ['warm']}]</td>\n",
       "      <td>color_type</td>\n",
       "      <td>make the lighting a bit more [color_type : war...</td>\n",
       "    </tr>\n",
       "    <tr>\n",
       "      <th>9</th>\n",
       "      <td>How would you ask your PDA to turn the lights ...</td>\n",
       "      <td>turn the lights off please</td>\n",
       "      <td>iot</td>\n",
       "      <td>hue_lightoff</td>\n",
       "      <td>hue_lightoff</td>\n",
       "      <td>turn the lights off please</td>\n",
       "      <td>NaN</td>\n",
       "      <td>NaN</td>\n",
       "      <td>turn the lights off please</td>\n",
       "    </tr>\n",
       "    <tr>\n",
       "      <th>12</th>\n",
       "      <td>How would you ask your PDA to turn the lights ...</td>\n",
       "      <td>turn off the light in the bathroom</td>\n",
       "      <td>iot</td>\n",
       "      <td>hue_lightoff</td>\n",
       "      <td>hue_lightoff</td>\n",
       "      <td>turn off the light in the [house_place : bathr...</td>\n",
       "      <td>[{'type': 'house_place', 'words': ['bathroom']}]</td>\n",
       "      <td>house_place</td>\n",
       "      <td>turn off the light in the [house_place : bathr...</td>\n",
       "    </tr>\n",
       "    <tr>\n",
       "      <th>13</th>\n",
       "      <td>How would you ask your PDA to turn the lights ...</td>\n",
       "      <td>dim the lights in the hall</td>\n",
       "      <td>iot</td>\n",
       "      <td>hue_lightdim</td>\n",
       "      <td>hue_lightdim</td>\n",
       "      <td>dim the lights in the [house_place : hall]</td>\n",
       "      <td>[{'type': 'house_place', 'words': ['hall']}]</td>\n",
       "      <td>house_place</td>\n",
       "      <td>dim the lights in the [house_place : hall]</td>\n",
       "    </tr>\n",
       "    <tr>\n",
       "      <th>14</th>\n",
       "      <td>How would you ask your PDA to turn the lights ...</td>\n",
       "      <td>turn the lights off in the bedroom</td>\n",
       "      <td>iot</td>\n",
       "      <td>hue_lightoff</td>\n",
       "      <td>hue_lightoff</td>\n",
       "      <td>turn the lights off in the [house_place : bedr...</td>\n",
       "      <td>[{'type': 'house_place', 'words': ['bedroom']}]</td>\n",
       "      <td>house_place</td>\n",
       "      <td>turn the lights off in the [house_place : bedr...</td>\n",
       "    </tr>\n",
       "    <tr>\n",
       "      <th>...</th>\n",
       "      <td>...</td>\n",
       "      <td>...</td>\n",
       "      <td>...</td>\n",
       "      <td>...</td>\n",
       "      <td>...</td>\n",
       "      <td>...</td>\n",
       "      <td>...</td>\n",
       "      <td>...</td>\n",
       "      <td>...</td>\n",
       "    </tr>\n",
       "    <tr>\n",
       "      <th>7180</th>\n",
       "      <td>How would you ask your PDA to turn off or on a...</td>\n",
       "      <td>turn off on wemo outlet</td>\n",
       "      <td>iot</td>\n",
       "      <td>wemo_off</td>\n",
       "      <td>wemo_off</td>\n",
       "      <td>turn off on [device_type : wemo outlet]</td>\n",
       "      <td>[{'type': 'device_type', 'words': ['wemo', 'ou...</td>\n",
       "      <td>device_type</td>\n",
       "      <td>turn off on [device_type : wemo outlet]</td>\n",
       "    </tr>\n",
       "    <tr>\n",
       "      <th>7181</th>\n",
       "      <td>How would you ask your PDA to turn off or on a...</td>\n",
       "      <td>outlet on</td>\n",
       "      <td>iot</td>\n",
       "      <td>wemo_on</td>\n",
       "      <td>quirky</td>\n",
       "      <td>[device_type : outlet] on</td>\n",
       "      <td>[{'type': 'device_type', 'words': ['outlet']}]</td>\n",
       "      <td>device_type</td>\n",
       "      <td>[device_type : outlet] on</td>\n",
       "    </tr>\n",
       "    <tr>\n",
       "      <th>7182</th>\n",
       "      <td>NaN</td>\n",
       "      <td>outlet off</td>\n",
       "      <td>iot</td>\n",
       "      <td>wemo_off</td>\n",
       "      <td>wemo_off</td>\n",
       "      <td>[device_type : outlet] off</td>\n",
       "      <td>[{'type': 'device_type', 'words': ['outlet']}]</td>\n",
       "      <td>device_type</td>\n",
       "      <td>[device_type : outlet] off</td>\n",
       "    </tr>\n",
       "    <tr>\n",
       "      <th>7200</th>\n",
       "      <td>Write what you would tell your PDA in the foll...</td>\n",
       "      <td>make it brighter in here</td>\n",
       "      <td>iot</td>\n",
       "      <td>hue_lightup</td>\n",
       "      <td>hue_lightup</td>\n",
       "      <td>make it brighter in here</td>\n",
       "      <td>NaN</td>\n",
       "      <td>NaN</td>\n",
       "      <td>make it brighter in here</td>\n",
       "    </tr>\n",
       "    <tr>\n",
       "      <th>16191</th>\n",
       "      <td>Type any question you can think of, which you ...</td>\n",
       "      <td>i'd like you to turn turn on the tv</td>\n",
       "      <td>iot</td>\n",
       "      <td>wemo_on</td>\n",
       "      <td>wemo_on</td>\n",
       "      <td>i'd like you to turn turn on the tv</td>\n",
       "      <td>NaN</td>\n",
       "      <td>NaN</td>\n",
       "      <td>i'd like you to turn turn on the [device_type ...</td>\n",
       "    </tr>\n",
       "  </tbody>\n",
       "</table>\n",
       "<p>1181 rows × 9 columns</p>\n",
       "</div>"
      ],
      "text/plain": [
       "                                                question  \\\n",
       "7      How would you ask your PDA to change the light...   \n",
       "9      How would you ask your PDA to turn the lights ...   \n",
       "12     How would you ask your PDA to turn the lights ...   \n",
       "13     How would you ask your PDA to turn the lights ...   \n",
       "14     How would you ask your PDA to turn the lights ...   \n",
       "...                                                  ...   \n",
       "7180   How would you ask your PDA to turn off or on a...   \n",
       "7181   How would you ask your PDA to turn off or on a...   \n",
       "7182                                                 NaN   \n",
       "7200   Write what you would tell your PDA in the foll...   \n",
       "16191  Type any question you can think of, which you ...   \n",
       "\n",
       "                            answer_normalised scenario           intent  \\\n",
       "7      make the lighting a bit more warm here      iot  hue_lightchange   \n",
       "9                  turn the lights off please      iot     hue_lightoff   \n",
       "12         turn off the light in the bathroom      iot     hue_lightoff   \n",
       "13                 dim the lights in the hall      iot     hue_lightdim   \n",
       "14         turn the lights off in the bedroom      iot     hue_lightoff   \n",
       "...                                       ...      ...              ...   \n",
       "7180                  turn off on wemo outlet      iot         wemo_off   \n",
       "7181                                outlet on      iot          wemo_on   \n",
       "7182                               outlet off      iot         wemo_off   \n",
       "7200                 make it brighter in here      iot      hue_lightup   \n",
       "16191     i'd like you to turn turn on the tv      iot          wemo_on   \n",
       "\n",
       "      predicted_label                                  answer_annotation  \\\n",
       "7         hue_lightup  make the lighting a bit more [color_type : war...   \n",
       "9        hue_lightoff                         turn the lights off please   \n",
       "12       hue_lightoff  turn off the light in the [house_place : bathr...   \n",
       "13       hue_lightdim         dim the lights in the [house_place : hall]   \n",
       "14       hue_lightoff  turn the lights off in the [house_place : bedr...   \n",
       "...               ...                                                ...   \n",
       "7180         wemo_off            turn off on [device_type : wemo outlet]   \n",
       "7181           quirky                          [device_type : outlet] on   \n",
       "7182         wemo_off                         [device_type : outlet] off   \n",
       "7200      hue_lightup                           make it brighter in here   \n",
       "16191         wemo_on                i'd like you to turn turn on the tv   \n",
       "\n",
       "                                                entities entity_types  \\\n",
       "7            [{'type': 'color_type', 'words': ['warm']}]   color_type   \n",
       "9                                                    NaN          NaN   \n",
       "12      [{'type': 'house_place', 'words': ['bathroom']}]  house_place   \n",
       "13          [{'type': 'house_place', 'words': ['hall']}]  house_place   \n",
       "14       [{'type': 'house_place', 'words': ['bedroom']}]  house_place   \n",
       "...                                                  ...          ...   \n",
       "7180   [{'type': 'device_type', 'words': ['wemo', 'ou...  device_type   \n",
       "7181      [{'type': 'device_type', 'words': ['outlet']}]  device_type   \n",
       "7182      [{'type': 'device_type', 'words': ['outlet']}]  device_type   \n",
       "7200                                                 NaN          NaN   \n",
       "16191                                                NaN          NaN   \n",
       "\n",
       "                                       predicted_tagging  \n",
       "7      make the lighting a bit more [color_type : war...  \n",
       "9                             turn the lights off please  \n",
       "12     turn off the light in the [house_place : bathr...  \n",
       "13            dim the lights in the [house_place : hall]  \n",
       "14     turn the lights off in the [house_place : bedr...  \n",
       "...                                                  ...  \n",
       "7180             turn off on [device_type : wemo outlet]  \n",
       "7181                           [device_type : outlet] on  \n",
       "7182                          [device_type : outlet] off  \n",
       "7200                            make it brighter in here  \n",
       "16191  i'd like you to turn turn on the [device_type ...  \n",
       "\n",
       "[1181 rows x 9 columns]"
      ]
     },
     "execution_count": 22,
     "metadata": {},
     "output_type": "execute_result"
    }
   ],
   "source": [
    "domain_df"
   ]
  },
  {
   "cell_type": "markdown",
   "metadata": {},
   "source": [
    "Incorrectly predicted entities report"
   ]
  },
  {
   "cell_type": "code",
   "execution_count": 23,
   "metadata": {},
   "outputs": [
    {
     "name": "stdout",
     "output_type": "stream",
     "text": [
      "Entity type: change_amount\n",
      "Correct entities: 26\n",
      "Incorrect entities: 2\n",
      "Total entities: 28\n",
      "Entity type: timeofday\n",
      "Correct entities: 1\n",
      "Incorrect entities: 0\n",
      "Total entities: 1\n",
      "Entity type: business_name\n",
      "Correct entities: 0\n",
      "Incorrect entities: 1\n",
      "Total entities: 1\n",
      "Entity type: coffee_type\n",
      "Correct entities: 24\n",
      "Incorrect entities: 8\n",
      "Total entities: 32\n",
      "Entity type: general_frequency\n",
      "Correct entities: 0\n",
      "Incorrect entities: 3\n",
      "Total entities: 3\n",
      "Entity type: device_type\n",
      "Correct entities: 305\n",
      "Incorrect entities: 47\n",
      "Total entities: 352\n",
      "Entity type: relation\n",
      "Correct entities: 0\n",
      "Incorrect entities: 1\n",
      "Total entities: 1\n",
      "Entity type: date\n",
      "Correct entities: 4\n",
      "Incorrect entities: 1\n",
      "Total entities: 5\n",
      "Entity type: place_name\n",
      "Correct entities: 0\n",
      "Incorrect entities: 1\n",
      "Total entities: 1\n",
      "Entity type: house_place\n",
      "Correct entities: 261\n",
      "Incorrect entities: 39\n",
      "Total entities: 300\n",
      "Entity type: player_setting\n",
      "Correct entities: 1\n",
      "Incorrect entities: 0\n",
      "Total entities: 1\n",
      "Entity type: person\n",
      "Correct entities: 1\n",
      "Incorrect entities: 0\n",
      "Total entities: 1\n",
      "Entity type: color_type\n",
      "Correct entities: 126\n",
      "Incorrect entities: 19\n",
      "Total entities: 145\n",
      "Entity type: business_type\n",
      "Correct entities: 0\n",
      "Incorrect entities: 2\n",
      "Total entities: 2\n",
      "Entity type: time\n",
      "Correct entities: 28\n",
      "Incorrect entities: 14\n",
      "Total entities: 42\n"
     ]
    }
   ],
   "source": [
    "incorrect_predicted_entities_report = MacroEntityRefinement.get_incorrect_predicted_entities_report(\n",
    "    domain_df, entity_report_df, domain_entity_reports_df)"
   ]
  },
  {
   "cell_type": "markdown",
   "metadata": {},
   "source": [
    "Let's have a better look at this report of incorrectly predicted entities."
   ]
  },
  {
   "cell_type": "code",
   "execution_count": 24,
   "metadata": {},
   "outputs": [
    {
     "data": {
      "text/html": [
       "<div id=\"464e950b-570b-4461-88ee-a4ca4b98315e\" style=\"height: 600px; width:100%;\"></div>"
      ]
     },
     "metadata": {},
     "output_type": "display_data"
    },
    {
     "data": {
      "application/javascript": "\n        require([\"https://rawgit.com/caldwell/renderjson/master/renderjson.js\"], function() {\n        document.getElementById('464e950b-570b-4461-88ee-a4ca4b98315e').appendChild(renderjson({\"change_amount\": {\"f1-score\": 0.0, \"total_count\": 28, \"total_incorrect_count\": 2, \"correct utterance\": \"set lights [change_amount : to twenty percent]\", \"incorrect utterance\": \"please turn up the [device_type : screen] brightness [change_amount : all the way]\"}, \"timeofday\": {\"f1-score\": 0.8754208754208755, \"total_count\": 1, \"total_incorrect_count\": 0, \"correct utterance\": \"brew coffee at [timeofday : noon]\", \"incorrect utterance\": \"There are no incorrect utterances!\"}, \"business_name\": {\"f1-score\": 0.22008253094910596, \"total_count\": 1, \"total_incorrect_count\": 1, \"correct utterance\": \"There are no correct utterances!\", \"incorrect utterance\": \"order one coffee to [business_name : starbucks] [business_type : coffee shop]\"}, \"coffee_type\": {\"f1-score\": 0.2692307692307693, \"total_count\": 32, \"total_incorrect_count\": 8, \"correct utterance\": \"can you bring me a [coffee_type : nice] coffee\", \"incorrect utterance\": \"can i please have a cafe [coffee_type : americano]\"}, \"general_frequency\": {\"f1-score\": 0.3373493975903615, \"total_count\": 3, \"total_incorrect_count\": 3, \"correct utterance\": \"There are no correct utterances!\", \"incorrect utterance\": \"start my [device_type : robot vacuum cleaner] by [time : ten] to [time : eleven am] [general_frequency : daily]\"}, \"device_type\": {\"f1-score\": 0.7401469605878424, \"total_count\": 352, \"total_incorrect_count\": 47, \"correct utterance\": \"hey start [device_type : vacuum cleaner robot]\", \"incorrect utterance\": \"brighten the [device_type : lamp next to the sofa]\"}, \"relation\": {\"f1-score\": 0.743801652892562, \"total_count\": 1, \"total_incorrect_count\": 1, \"correct utterance\": \"There are no correct utterances!\", \"incorrect utterance\": \"turn on my [relation : son's] [house_place : room] [device_type : plug] socket on off\"}, \"date\": {\"f1-score\": 0.8742487286176607, \"total_count\": 5, \"total_incorrect_count\": 1, \"correct utterance\": \"start the [device_type : robot vacuum cleaner] at [time : one pm] [date : today]\", \"incorrect utterance\": \"can you set the [device_type : coffee machine] to make coffee at [time : three pm] time [date : every week day]\"}, \"place_name\": {\"f1-score\": 0.6218256691832533, \"total_count\": 1, \"total_incorrect_count\": 1, \"correct utterance\": \"There are no correct utterances!\", \"incorrect utterance\": \"please clean the [place_name : floor]\"}, \"house_place\": {\"f1-score\": 0.6990014265335235, \"total_count\": 300, \"total_incorrect_count\": 39, \"correct utterance\": \"turn off the light in the [house_place : bathroom]\", \"incorrect utterance\": \"cleaning is good dust is so bad do now your magic clean my [house_place : carpet]\"}, \"player_setting\": {\"f1-score\": 0.2532299741602067, \"total_count\": 1, \"total_incorrect_count\": 0, \"correct utterance\": \"can you [player_setting : shuffle] the light colors in the [house_place : house]\", \"incorrect utterance\": \"There are no incorrect utterances!\"}, \"person\": {\"f1-score\": 0.5618171362852215, \"total_count\": 1, \"total_incorrect_count\": 0, \"correct utterance\": \"[person : greg] wants [coffee_type : black] coffee can you make one\", \"incorrect utterance\": \"There are no incorrect utterances!\"}, \"color_type\": {\"f1-score\": 0.4347826086956522, \"total_count\": 145, \"total_incorrect_count\": 19, \"correct utterance\": \"make the lighting a bit more [color_type : warm] here\", \"incorrect utterance\": \"change my room lights to [color_type : blue]\"}, \"business_type\": {\"f1-score\": 0.39999999999999997, \"total_count\": 2, \"total_incorrect_count\": 2, \"correct utterance\": \"There are no correct utterances!\", \"incorrect utterance\": \"order one coffee to [business_name : starbucks] [business_type : coffee shop]\"}, \"time\": {\"f1-score\": 0.8115299334811531, \"total_count\": 42, \"total_incorrect_count\": 14, \"correct utterance\": \"make coffee at [time : eight am]\", \"incorrect utterance\": \"[time : during the daytime] [device_type : all lights] has to be turned off\"}}))\n        });\n        renderjson.set_show_to_level(1)\n        "
     },
     "metadata": {},
     "output_type": "display_data"
    }
   ],
   "source": [
    "RenderJSON(incorrect_predicted_entities_report)"
   ]
  },
  {
   "cell_type": "code",
   "execution_count": 25,
   "metadata": {},
   "outputs": [
    {
     "data": {
      "text/plain": [
       "dict_keys(['change_amount', 'timeofday', 'business_name', 'coffee_type', 'general_frequency', 'device_type', 'relation', 'date', 'place_name', 'house_place', 'player_setting', 'person', 'color_type', 'business_type', 'time'])"
      ]
     },
     "execution_count": 25,
     "metadata": {},
     "output_type": "execute_result"
    }
   ],
   "source": [
    "# create list of f1-scores and total count for all of the entities in the incorrect_predicted_entities_report.keys()\n",
    "entity_f1_scores = []\n",
    "entity_counts = []\n",
    "for entity in incorrect_predicted_entities_report.keys():\n",
    "    entity_f1_scores.append(incorrect_predicted_entities_report[entity]['f1-score'])\n",
    "    entity_counts.append(incorrect_predicted_entities_report[entity]['count'])\n",
    "\n",
    "# create list comprehension of above code\n",
    "entity_f1_scores = [incorrect_predicted_entities_report[entity]['f1-score'] for entity in incorrect_predicted_entities_report.keys()]\n",
    "entity_counts = [incorrect_predicted_entities_report[entity]['count'] for entity in incorrect_predicted_entities_report.keys()]\n",
    "\n"
   ]
  },
  {
   "cell_type": "code",
   "execution_count": 29,
   "metadata": {},
   "outputs": [],
   "source": [
    "entity_f1_scores = [incorrect_predicted_entities_report[entity]['f1-score']\n",
    "                    for entity in incorrect_predicted_entities_report.keys()]\n",
    "entity_counts = [incorrect_predicted_entities_report[entity]['total_count']\n",
    "                 for entity in incorrect_predicted_entities_report.keys()]\n",
    "entity_types = [entity for entity in incorrect_predicted_entities_report.keys()]"
   ]
  },
  {
   "cell_type": "code",
   "execution_count": 33,
   "metadata": {},
   "outputs": [
    {
     "data": {
      "image/png": "[encoded data removed]",
      "text/plain": [
       "<Figure size 1152x576 with 2 Axes>"
      ]
     },
     "metadata": {
      "needs_background": "light"
     },
     "output_type": "display_data"
    }
   ],
   "source": [
    "# create a graph of subplots with two columns: the subplot on the left is a graph of entities by total count, the subplot on the right is entities by f1-score\n",
    "fig, (ax1, ax2) = plt.subplots(1, 2, figsize=(16, 8))\n",
    "\n",
    "# create a bar chart of the entities by total count\n",
    "ax1.barh(entity_types, entity_counts, align='center', color='b')\n",
    "ax1.set_title('Entities by Total Count', fontsize=24)\n",
    "ax1.set_xlabel(\"Total Count\", fontsize=18)\n",
    "ax1.tick_params(axis='x', labelsize=18)\n",
    "ax1.set_ylabel(\"Entity\", fontsize=18)\n",
    "ax1.set_yticks(entity_types, fontsize=16)\n",
    "\n",
    "# create a bar chart of the entities by f1-score\n",
    "ax2.barh(entity_types, entity_f1_scores, align='center', color='b')\n",
    "ax2.set_title('Entities by F1-Score', fontsize=24)\n",
    "ax2.set_xlabel(\"F1-Score\", fontsize=18)\n",
    "ax2.tick_params(axis='x', labelsize=18)\n",
    "ax2.set_ylabel(\"Entity\", fontsize=18)\n",
    "ax2.set_yticks(entity_types, fontsize=16)\n",
    "\n",
    "fig.tight_layout()"
   ]
  },
  {
   "cell_type": "code",
   "execution_count": 56,
   "metadata": {},
   "outputs": [],
   "source": [
    "entity_types_and_counts = zip(entity_types, entity_counts)"
   ]
  },
  {
   "cell_type": "code",
   "execution_count": 55,
   "metadata": {},
   "outputs": [
    {
     "data": {
      "text/plain": [
       "[('device_type', 352),\n",
       " ('house_place', 300),\n",
       " ('color_type', 145),\n",
       " ('time', 42),\n",
       " ('coffee_type', 32),\n",
       " ('change_amount', 28),\n",
       " ('date', 5),\n",
       " ('general_frequency', 3),\n",
       " ('business_type', 2),\n",
       " ('timeofday', 1),\n",
       " ('business_name', 1),\n",
       " ('relation', 1),\n",
       " ('place_name', 1),\n",
       " ('player_setting', 1),\n",
       " ('person', 1)]"
      ]
     },
     "execution_count": 55,
     "metadata": {},
     "output_type": "execute_result"
    }
   ],
   "source": [
    "# arrange the entities in entity_types by total count in ascending order\n",
    "entity_types_and_counts = sorted(entity_types_and_counts, key=lambda x: x[1])\n",
    "\n",
    "# create a list of the entities in entity_types in ascending order of total count\n",
    "entity_types = [entity_type for entity_type, count in entity_types_and_counts]\n",
    "\n",
    "# create a list of the total counts of the entities in entity_types in ascending order of total count\n",
    "entity_counts = [count for entity_type, count in entity_types_and_counts]\n",
    "\n",
    "# refactor above code to be more compact\n"
   ]
  },
  {
   "cell_type": "code",
   "execution_count": 84,
   "metadata": {},
   "outputs": [
    {
     "data": {
      "text/plain": [
       "[28, 1, 1, 32, 3, 352, 1, 5, 1, 300, 1, 1, 145, 2, 42]"
      ]
     },
     "execution_count": 84,
     "metadata": {},
     "output_type": "execute_result"
    }
   ],
   "source": [
    "entity_counts"
   ]
  },
  {
   "cell_type": "code",
   "execution_count": 85,
   "metadata": {},
   "outputs": [],
   "source": [
    "sorted_entity_types = [entity_type for entity_type, count in sorted(\n",
    "    zip(entity_types, entity_counts), key=lambda x: x[1])]\n",
    "sorted_entity_counts = [count for entity_type, count in sorted(\n",
    "    zip(entity_types, entity_counts), key=lambda x: x[1])]\n",
    "sorted_entity_types_and_counts = zip(\n",
    "    sorted_entity_types, sorted_entity_counts)"
   ]
  },
  {
   "cell_type": "code",
   "execution_count": 78,
   "metadata": {},
   "outputs": [
    {
     "name": "stdout",
     "output_type": "stream",
     "text": [
      "timeofday 1\n",
      "business_name 1\n",
      "relation 1\n",
      "place_name 1\n",
      "player_setting 1\n",
      "person 1\n",
      "business_type 2\n",
      "general_frequency 3\n",
      "date 5\n",
      "change_amount 28\n",
      "coffee_type 32\n",
      "time 42\n",
      "color_type 145\n",
      "house_place 300\n",
      "device_type 352\n"
     ]
    }
   ],
   "source": [
    "for entity_type, count in sorted_entity_types_and_counts:\n",
    "    print(entity_type, count)"
   ]
  },
  {
   "cell_type": "code",
   "execution_count": 59,
   "metadata": {},
   "outputs": [
    {
     "name": "stdout",
     "output_type": "stream",
     "text": [
      "Entity type:timeofday\n",
      "Entity count:1\n",
      "\n",
      "Entity type:business_name\n",
      "Entity count:1\n",
      "\n",
      "Entity type:relation\n",
      "Entity count:1\n",
      "\n",
      "Entity type:place_name\n",
      "Entity count:1\n",
      "\n",
      "Entity type:player_setting\n",
      "Entity count:1\n",
      "\n",
      "Entity type:person\n",
      "Entity count:1\n",
      "\n",
      "Entity type:business_type\n",
      "Entity count:2\n",
      "\n",
      "Entity type:general_frequency\n",
      "Entity count:3\n",
      "\n",
      "Entity type:date\n",
      "Entity count:5\n",
      "\n",
      "Entity type:change_amount\n",
      "Entity count:28\n",
      "\n",
      "Entity type:coffee_type\n",
      "Entity count:32\n",
      "\n",
      "Entity type:time\n",
      "Entity count:42\n",
      "\n",
      "Entity type:color_type\n",
      "Entity count:145\n",
      "\n",
      "Entity type:house_place\n",
      "Entity count:300\n",
      "\n",
      "Entity type:device_type\n",
      "Entity count:352\n",
      "\n"
     ]
    }
   ],
   "source": [
    "# Sort entities by total count asending and for each entity type with less than 32 total count, ask if those entities should be removed or merged\n",
    "for entity_type, entity_count in sorted_entity_types_and_counts:\n",
    "    print(\n",
    "        f'Entity type:{entity_type}\\nEntity count:{entity_count}\\n')\n",
    "    if entity_count < 32:\n",
    "        remove_or_merge = input(\n",
    "            'Would you like to remove or merge this entity? (r/m): ')\n",
    "        if remove_or_merge == 'r':\n",
    "            MacroEntityRefinement.remove_entity_type(\n",
    "                domain_df, entity_type)\n",
    "        elif remove_or_merge == 'm':\n",
    "            MacroEntityRefinement.merge_entity_type(\n",
    "                domain_df, entity_type)\n",
    "\n",
    "\n",
    "# The above flow needs to improved for user experience\n",
    "# 1. The user should be able to select the entity type they want to remove or merge or skip\n",
    "# 2. The user should be able to select the entity type they want to merge with\n",
    "# 3. The user should be able to select the entity type they want to remove\n",
    "# 4. The user should be able to select the entity type they want to skip\n",
    "\n"
   ]
  },
  {
   "cell_type": "code",
   "execution_count": 66,
   "metadata": {},
   "outputs": [
    {
     "data": {
      "text/plain": [
       "<zip at 0x7f9109b060f0>"
      ]
     },
     "execution_count": 66,
     "metadata": {},
     "output_type": "execute_result"
    }
   ],
   "source": [
    "sorted_entity_types_and_counts"
   ]
  },
  {
   "cell_type": "code",
   "execution_count": 113,
   "metadata": {},
   "outputs": [],
   "source": [
    "sorted_entity_types = [entity_type for entity_type, count in sorted(\n",
    "    zip(entity_types, entity_counts), key=lambda x: x[1])]\n",
    "sorted_entity_counts = [count for entity_type, count in sorted(\n",
    "    zip(entity_types, entity_counts), key=lambda x: x[1])]\n",
    "sorted_entity_types_and_counts = zip(\n",
    "    sorted_entity_types, sorted_entity_counts)"
   ]
  },
  {
   "cell_type": "code",
   "execution_count": 100,
   "metadata": {},
   "outputs": [
    {
     "data": {
      "text/html": [
       "<div>\n",
       "<style scoped>\n",
       "    .dataframe tbody tr th:only-of-type {\n",
       "        vertical-align: middle;\n",
       "    }\n",
       "\n",
       "    .dataframe tbody tr th {\n",
       "        vertical-align: top;\n",
       "    }\n",
       "\n",
       "    .dataframe thead th {\n",
       "        text-align: right;\n",
       "    }\n",
       "</style>\n",
       "<table border=\"1\" class=\"dataframe\">\n",
       "  <thead>\n",
       "    <tr style=\"text-align: right;\">\n",
       "      <th></th>\n",
       "      <th>question</th>\n",
       "      <th>answer_normalised</th>\n",
       "      <th>scenario</th>\n",
       "      <th>intent</th>\n",
       "      <th>predicted_label</th>\n",
       "      <th>answer_annotation</th>\n",
       "      <th>entities</th>\n",
       "      <th>entity_types</th>\n",
       "      <th>predicted_tagging</th>\n",
       "    </tr>\n",
       "  </thead>\n",
       "  <tbody>\n",
       "    <tr>\n",
       "      <th>7</th>\n",
       "      <td>How would you ask your PDA to change the light...</td>\n",
       "      <td>make the lighting a bit more warm here</td>\n",
       "      <td>iot</td>\n",
       "      <td>hue_lightchange</td>\n",
       "      <td>hue_lightup</td>\n",
       "      <td>make the lighting a bit more [color_type : war...</td>\n",
       "      <td>[{'type': 'color_type', 'words': ['warm']}]</td>\n",
       "      <td>color_type</td>\n",
       "      <td>make the lighting a bit more [color_type : war...</td>\n",
       "    </tr>\n",
       "    <tr>\n",
       "      <th>9</th>\n",
       "      <td>How would you ask your PDA to turn the lights ...</td>\n",
       "      <td>turn the lights off please</td>\n",
       "      <td>iot</td>\n",
       "      <td>hue_lightoff</td>\n",
       "      <td>hue_lightoff</td>\n",
       "      <td>turn the lights off please</td>\n",
       "      <td>NaN</td>\n",
       "      <td>NaN</td>\n",
       "      <td>turn the lights off please</td>\n",
       "    </tr>\n",
       "    <tr>\n",
       "      <th>12</th>\n",
       "      <td>How would you ask your PDA to turn the lights ...</td>\n",
       "      <td>turn off the light in the bathroom</td>\n",
       "      <td>iot</td>\n",
       "      <td>hue_lightoff</td>\n",
       "      <td>hue_lightoff</td>\n",
       "      <td>turn off the light in the [house_place : bathr...</td>\n",
       "      <td>[{'type': 'house_place', 'words': ['bathroom']}]</td>\n",
       "      <td>house_place</td>\n",
       "      <td>turn off the light in the [house_place : bathr...</td>\n",
       "    </tr>\n",
       "    <tr>\n",
       "      <th>13</th>\n",
       "      <td>How would you ask your PDA to turn the lights ...</td>\n",
       "      <td>dim the lights in the hall</td>\n",
       "      <td>iot</td>\n",
       "      <td>hue_lightdim</td>\n",
       "      <td>hue_lightdim</td>\n",
       "      <td>dim the lights in the [house_place : hall]</td>\n",
       "      <td>[{'type': 'house_place', 'words': ['hall']}]</td>\n",
       "      <td>house_place</td>\n",
       "      <td>dim the lights in the [house_place : hall]</td>\n",
       "    </tr>\n",
       "    <tr>\n",
       "      <th>14</th>\n",
       "      <td>How would you ask your PDA to turn the lights ...</td>\n",
       "      <td>turn the lights off in the bedroom</td>\n",
       "      <td>iot</td>\n",
       "      <td>hue_lightoff</td>\n",
       "      <td>hue_lightoff</td>\n",
       "      <td>turn the lights off in the [house_place : bedr...</td>\n",
       "      <td>[{'type': 'house_place', 'words': ['bedroom']}]</td>\n",
       "      <td>house_place</td>\n",
       "      <td>turn the lights off in the [house_place : bedr...</td>\n",
       "    </tr>\n",
       "  </tbody>\n",
       "</table>\n",
       "</div>"
      ],
      "text/plain": [
       "                                             question  \\\n",
       "7   How would you ask your PDA to change the light...   \n",
       "9   How would you ask your PDA to turn the lights ...   \n",
       "12  How would you ask your PDA to turn the lights ...   \n",
       "13  How would you ask your PDA to turn the lights ...   \n",
       "14  How would you ask your PDA to turn the lights ...   \n",
       "\n",
       "                         answer_normalised scenario           intent  \\\n",
       "7   make the lighting a bit more warm here      iot  hue_lightchange   \n",
       "9               turn the lights off please      iot     hue_lightoff   \n",
       "12      turn off the light in the bathroom      iot     hue_lightoff   \n",
       "13              dim the lights in the hall      iot     hue_lightdim   \n",
       "14      turn the lights off in the bedroom      iot     hue_lightoff   \n",
       "\n",
       "   predicted_label                                  answer_annotation  \\\n",
       "7      hue_lightup  make the lighting a bit more [color_type : war...   \n",
       "9     hue_lightoff                         turn the lights off please   \n",
       "12    hue_lightoff  turn off the light in the [house_place : bathr...   \n",
       "13    hue_lightdim         dim the lights in the [house_place : hall]   \n",
       "14    hue_lightoff  turn the lights off in the [house_place : bedr...   \n",
       "\n",
       "                                            entities entity_types  \\\n",
       "7        [{'type': 'color_type', 'words': ['warm']}]   color_type   \n",
       "9                                                NaN          NaN   \n",
       "12  [{'type': 'house_place', 'words': ['bathroom']}]  house_place   \n",
       "13      [{'type': 'house_place', 'words': ['hall']}]  house_place   \n",
       "14   [{'type': 'house_place', 'words': ['bedroom']}]  house_place   \n",
       "\n",
       "                                    predicted_tagging  \n",
       "7   make the lighting a bit more [color_type : war...  \n",
       "9                          turn the lights off please  \n",
       "12  turn off the light in the [house_place : bathr...  \n",
       "13         dim the lights in the [house_place : hall]  \n",
       "14  turn the lights off in the [house_place : bedr...  "
      ]
     },
     "execution_count": 100,
     "metadata": {},
     "output_type": "execute_result"
    }
   ],
   "source": [
    "domain_df.head()"
   ]
  },
  {
   "cell_type": "code",
   "execution_count": 112,
   "metadata": {},
   "outputs": [
    {
     "data": {
      "text/html": [
       "<div>\n",
       "<style scoped>\n",
       "    .dataframe tbody tr th:only-of-type {\n",
       "        vertical-align: middle;\n",
       "    }\n",
       "\n",
       "    .dataframe tbody tr th {\n",
       "        vertical-align: top;\n",
       "    }\n",
       "\n",
       "    .dataframe thead th {\n",
       "        text-align: right;\n",
       "    }\n",
       "</style>\n",
       "<table border=\"1\" class=\"dataframe\">\n",
       "  <thead>\n",
       "    <tr style=\"text-align: right;\">\n",
       "      <th></th>\n",
       "      <th>question</th>\n",
       "      <th>answer_normalised</th>\n",
       "      <th>scenario</th>\n",
       "      <th>intent</th>\n",
       "      <th>predicted_label</th>\n",
       "      <th>answer_annotation</th>\n",
       "      <th>entities</th>\n",
       "      <th>entity_types</th>\n",
       "      <th>predicted_tagging</th>\n",
       "    </tr>\n",
       "  </thead>\n",
       "  <tbody>\n",
       "    <tr>\n",
       "      <th>3516</th>\n",
       "      <td>How would you ask your PDA to make you a coffee?</td>\n",
       "      <td>greg wants black coffee can you make one</td>\n",
       "      <td>iot</td>\n",
       "      <td>coffee</td>\n",
       "      <td>coffee</td>\n",
       "      <td>[person : greg] wants [coffee_type : black] co...</td>\n",
       "      <td>[{'type': 'person', 'words': ['greg']}, {'type...</td>\n",
       "      <td>person,coffee_type</td>\n",
       "      <td>[person : greg] wants [coffee_type : black] co...</td>\n",
       "    </tr>\n",
       "  </tbody>\n",
       "</table>\n",
       "</div>"
      ],
      "text/plain": [
       "                                              question  \\\n",
       "3516  How would you ask your PDA to make you a coffee?   \n",
       "\n",
       "                             answer_normalised scenario  intent  \\\n",
       "3516  greg wants black coffee can you make one      iot  coffee   \n",
       "\n",
       "     predicted_label                                  answer_annotation  \\\n",
       "3516          coffee  [person : greg] wants [coffee_type : black] co...   \n",
       "\n",
       "                                               entities        entity_types  \\\n",
       "3516  [{'type': 'person', 'words': ['greg']}, {'type...  person,coffee_type   \n",
       "\n",
       "                                      predicted_tagging  \n",
       "3516  [person : greg] wants [coffee_type : black] co...  "
      ]
     },
     "execution_count": 112,
     "metadata": {},
     "output_type": "execute_result"
    }
   ],
   "source": [
    "domain_df[domain_df['entity_types'].str.contains('person', na=False)]"
   ]
  },
  {
   "cell_type": "code",
   "execution_count": 110,
   "metadata": {},
   "outputs": [],
   "source": [
    "# From sorted_entity_types get all entities with less than 5 total count and output a dataframe of entries in domain_df with those entities\n",
    "\n",
    "def get_entries_with_sparse_total(domain_df, sorted_entity_types_and_counts):\n",
    "    entity_types_with_sparse_total = []\n",
    "    entity_counts_with_sparse_total = []\n",
    "    for entity_type, entity_count in sorted_entity_types_and_counts:\n",
    "        if entity_count < 5:\n",
    "            print(f'Entity type: {entity_type}, Total count: {entity_count}')\n",
    "            entity_types_with_sparse_total.append(entity_type)\n",
    "            entity_counts_with_sparse_total.append(entity_count)\n",
    "    if len(entity_types_with_sparse_total) > 0:\n",
    "        sparse_total_df = pd.DataFrame(\n",
    "            {\n",
    "                'entity_type': entity_types_with_sparse_total,\n",
    "                'total_count': entity_counts_with_sparse_total\n",
    "                })\n",
    "\n",
    "        sparse_entity_entries_df = domain_df[domain_df['entity_types'].str.contains(\n",
    "            ('|').join(entity_types_with_sparse_total), na=False)]\n",
    "        return sparse_total_df, sparse_entity_entries_df\n",
    "    else: \n",
    "        return None\n"
   ]
  },
  {
   "cell_type": "code",
   "execution_count": 114,
   "metadata": {},
   "outputs": [
    {
     "name": "stdout",
     "output_type": "stream",
     "text": [
      "Entity type: timeofday, Total count: 1\n",
      "Entity type: business_name, Total count: 1\n",
      "Entity type: relation, Total count: 1\n",
      "Entity type: place_name, Total count: 1\n",
      "Entity type: player_setting, Total count: 1\n",
      "Entity type: person, Total count: 1\n",
      "Entity type: business_type, Total count: 2\n",
      "Entity type: general_frequency, Total count: 3\n"
     ]
    },
    {
     "data": {
      "text/html": [
       "<div>\n",
       "<style scoped>\n",
       "    .dataframe tbody tr th:only-of-type {\n",
       "        vertical-align: middle;\n",
       "    }\n",
       "\n",
       "    .dataframe tbody tr th {\n",
       "        vertical-align: top;\n",
       "    }\n",
       "\n",
       "    .dataframe thead th {\n",
       "        text-align: right;\n",
       "    }\n",
       "</style>\n",
       "<table border=\"1\" class=\"dataframe\">\n",
       "  <thead>\n",
       "    <tr style=\"text-align: right;\">\n",
       "      <th></th>\n",
       "      <th>question</th>\n",
       "      <th>answer_normalised</th>\n",
       "      <th>scenario</th>\n",
       "      <th>intent</th>\n",
       "      <th>predicted_label</th>\n",
       "      <th>answer_annotation</th>\n",
       "      <th>entities</th>\n",
       "      <th>entity_types</th>\n",
       "      <th>predicted_tagging</th>\n",
       "    </tr>\n",
       "  </thead>\n",
       "  <tbody>\n",
       "    <tr>\n",
       "      <th>392</th>\n",
       "      <td>Write what you would tell your PDA in the foll...</td>\n",
       "      <td>can you shuffle the light colors in the house</td>\n",
       "      <td>iot</td>\n",
       "      <td>hue_lightchange</td>\n",
       "      <td>hue_lightchange</td>\n",
       "      <td>can you [player_setting : shuffle] the light c...</td>\n",
       "      <td>[{'type': 'player_setting', 'words': ['shuffle...</td>\n",
       "      <td>player_setting,house_place</td>\n",
       "      <td>can you [player_setting : shuffle] the light c...</td>\n",
       "    </tr>\n",
       "    <tr>\n",
       "      <th>850</th>\n",
       "      <td>How would you ask your PDA to make you a coffee?</td>\n",
       "      <td>brew coffee at noon</td>\n",
       "      <td>iot</td>\n",
       "      <td>coffee</td>\n",
       "      <td>coffee</td>\n",
       "      <td>brew coffee at [timeofday : noon]</td>\n",
       "      <td>[{'type': 'timeofday', 'words': ['noon']}]</td>\n",
       "      <td>timeofday</td>\n",
       "      <td>brew coffee at [timeofday : noon]</td>\n",
       "    </tr>\n",
       "    <tr>\n",
       "      <th>1843</th>\n",
       "      <td>Write what you would tell your PDA in the foll...</td>\n",
       "      <td>start my robot vacuum cleaner by ten to eleven...</td>\n",
       "      <td>iot</td>\n",
       "      <td>cleaning</td>\n",
       "      <td>cleaning</td>\n",
       "      <td>start my [device_type : robot vacuum cleaner] ...</td>\n",
       "      <td>[{'type': 'device_type', 'words': ['robot', 'v...</td>\n",
       "      <td>device_type,time,time,general_frequency</td>\n",
       "      <td>start my [device_type : robot vacuum cleaner] ...</td>\n",
       "    </tr>\n",
       "    <tr>\n",
       "      <th>1844</th>\n",
       "      <td>Write what you would tell your PDA in the foll...</td>\n",
       "      <td>by ten to eleven am daily start my vacuum cleaner</td>\n",
       "      <td>iot</td>\n",
       "      <td>cleaning</td>\n",
       "      <td>cleaning</td>\n",
       "      <td>by [time : ten] to [time : eleven am] [general...</td>\n",
       "      <td>[{'type': 'time', 'words': ['ten']}, {'type': ...</td>\n",
       "      <td>time,time,general_frequency,device_type</td>\n",
       "      <td>by [time : ten to eleven am] [general_frequenc...</td>\n",
       "    </tr>\n",
       "    <tr>\n",
       "      <th>1845</th>\n",
       "      <td>Write what you would tell your PDA in the foll...</td>\n",
       "      <td>my vacuum cleaner should start between ten to ...</td>\n",
       "      <td>iot</td>\n",
       "      <td>cleaning</td>\n",
       "      <td>cleaning</td>\n",
       "      <td>my [device_type : vacuum cleaner] should start...</td>\n",
       "      <td>[{'type': 'device_type', 'words': ['vacuum', '...</td>\n",
       "      <td>device_type,time,time,general_frequency</td>\n",
       "      <td>my [device_type : vacuum cleaner] should start...</td>\n",
       "    </tr>\n",
       "    <tr>\n",
       "      <th>1985</th>\n",
       "      <td>How would you ask your PDA to make you a coffee?</td>\n",
       "      <td>order one coffee to starbucks coffee shop</td>\n",
       "      <td>iot</td>\n",
       "      <td>coffee</td>\n",
       "      <td>coffee</td>\n",
       "      <td>order one coffee to [business_name : starbucks...</td>\n",
       "      <td>[{'type': 'business_name', 'words': ['starbuck...</td>\n",
       "      <td>business_name,business_type</td>\n",
       "      <td>order one [business_type : coffee] to [busines...</td>\n",
       "    </tr>\n",
       "    <tr>\n",
       "      <th>1986</th>\n",
       "      <td>How would you ask your PDA to make you a coffee?</td>\n",
       "      <td>order one coffee from nearest coffee shop</td>\n",
       "      <td>iot</td>\n",
       "      <td>coffee</td>\n",
       "      <td>coffee</td>\n",
       "      <td>order one coffee from nearest [business_type :...</td>\n",
       "      <td>[{'type': 'business_type', 'words': ['coffee',...</td>\n",
       "      <td>business_type</td>\n",
       "      <td>order one [business_type : coffee] from neares...</td>\n",
       "    </tr>\n",
       "    <tr>\n",
       "      <th>2291</th>\n",
       "      <td>Write what you would tell your PDA in the foll...</td>\n",
       "      <td>turn on my son's room plug socket on off</td>\n",
       "      <td>iot</td>\n",
       "      <td>wemo_on</td>\n",
       "      <td>wemo_on</td>\n",
       "      <td>turn on my [relation : son's] [house_place : r...</td>\n",
       "      <td>[{'type': 'relation', 'words': ['son's']}, {'t...</td>\n",
       "      <td>relation,house_place,device_type</td>\n",
       "      <td>turn on my son's [house_place : room] [device_...</td>\n",
       "    </tr>\n",
       "    <tr>\n",
       "      <th>3213</th>\n",
       "      <td>Write what you would tell your PDA in the foll...</td>\n",
       "      <td>please clean the floor</td>\n",
       "      <td>iot</td>\n",
       "      <td>cleaning</td>\n",
       "      <td>cleaning</td>\n",
       "      <td>please clean the [place_name : floor]</td>\n",
       "      <td>[{'type': 'place_name', 'words': ['floor']}]</td>\n",
       "      <td>place_name</td>\n",
       "      <td>please clean the [house_place : floor]</td>\n",
       "    </tr>\n",
       "    <tr>\n",
       "      <th>3516</th>\n",
       "      <td>How would you ask your PDA to make you a coffee?</td>\n",
       "      <td>greg wants black coffee can you make one</td>\n",
       "      <td>iot</td>\n",
       "      <td>coffee</td>\n",
       "      <td>coffee</td>\n",
       "      <td>[person : greg] wants [coffee_type : black] co...</td>\n",
       "      <td>[{'type': 'person', 'words': ['greg']}, {'type...</td>\n",
       "      <td>person,coffee_type</td>\n",
       "      <td>[person : greg] wants [coffee_type : black] co...</td>\n",
       "    </tr>\n",
       "  </tbody>\n",
       "</table>\n",
       "</div>"
      ],
      "text/plain": [
       "                                               question  \\\n",
       "392   Write what you would tell your PDA in the foll...   \n",
       "850    How would you ask your PDA to make you a coffee?   \n",
       "1843  Write what you would tell your PDA in the foll...   \n",
       "1844  Write what you would tell your PDA in the foll...   \n",
       "1845  Write what you would tell your PDA in the foll...   \n",
       "1985   How would you ask your PDA to make you a coffee?   \n",
       "1986   How would you ask your PDA to make you a coffee?   \n",
       "2291  Write what you would tell your PDA in the foll...   \n",
       "3213  Write what you would tell your PDA in the foll...   \n",
       "3516   How would you ask your PDA to make you a coffee?   \n",
       "\n",
       "                                      answer_normalised scenario  \\\n",
       "392       can you shuffle the light colors in the house      iot   \n",
       "850                                 brew coffee at noon      iot   \n",
       "1843  start my robot vacuum cleaner by ten to eleven...      iot   \n",
       "1844  by ten to eleven am daily start my vacuum cleaner      iot   \n",
       "1845  my vacuum cleaner should start between ten to ...      iot   \n",
       "1985          order one coffee to starbucks coffee shop      iot   \n",
       "1986          order one coffee from nearest coffee shop      iot   \n",
       "2291           turn on my son's room plug socket on off      iot   \n",
       "3213                             please clean the floor      iot   \n",
       "3516           greg wants black coffee can you make one      iot   \n",
       "\n",
       "               intent  predicted_label  \\\n",
       "392   hue_lightchange  hue_lightchange   \n",
       "850            coffee           coffee   \n",
       "1843         cleaning         cleaning   \n",
       "1844         cleaning         cleaning   \n",
       "1845         cleaning         cleaning   \n",
       "1985           coffee           coffee   \n",
       "1986           coffee           coffee   \n",
       "2291          wemo_on          wemo_on   \n",
       "3213         cleaning         cleaning   \n",
       "3516           coffee           coffee   \n",
       "\n",
       "                                      answer_annotation  \\\n",
       "392   can you [player_setting : shuffle] the light c...   \n",
       "850                   brew coffee at [timeofday : noon]   \n",
       "1843  start my [device_type : robot vacuum cleaner] ...   \n",
       "1844  by [time : ten] to [time : eleven am] [general...   \n",
       "1845  my [device_type : vacuum cleaner] should start...   \n",
       "1985  order one coffee to [business_name : starbucks...   \n",
       "1986  order one coffee from nearest [business_type :...   \n",
       "2291  turn on my [relation : son's] [house_place : r...   \n",
       "3213              please clean the [place_name : floor]   \n",
       "3516  [person : greg] wants [coffee_type : black] co...   \n",
       "\n",
       "                                               entities  \\\n",
       "392   [{'type': 'player_setting', 'words': ['shuffle...   \n",
       "850          [{'type': 'timeofday', 'words': ['noon']}]   \n",
       "1843  [{'type': 'device_type', 'words': ['robot', 'v...   \n",
       "1844  [{'type': 'time', 'words': ['ten']}, {'type': ...   \n",
       "1845  [{'type': 'device_type', 'words': ['vacuum', '...   \n",
       "1985  [{'type': 'business_name', 'words': ['starbuck...   \n",
       "1986  [{'type': 'business_type', 'words': ['coffee',...   \n",
       "2291  [{'type': 'relation', 'words': ['son's']}, {'t...   \n",
       "3213       [{'type': 'place_name', 'words': ['floor']}]   \n",
       "3516  [{'type': 'person', 'words': ['greg']}, {'type...   \n",
       "\n",
       "                                 entity_types  \\\n",
       "392                player_setting,house_place   \n",
       "850                                 timeofday   \n",
       "1843  device_type,time,time,general_frequency   \n",
       "1844  time,time,general_frequency,device_type   \n",
       "1845  device_type,time,time,general_frequency   \n",
       "1985              business_name,business_type   \n",
       "1986                            business_type   \n",
       "2291         relation,house_place,device_type   \n",
       "3213                               place_name   \n",
       "3516                       person,coffee_type   \n",
       "\n",
       "                                      predicted_tagging  \n",
       "392   can you [player_setting : shuffle] the light c...  \n",
       "850                   brew coffee at [timeofday : noon]  \n",
       "1843  start my [device_type : robot vacuum cleaner] ...  \n",
       "1844  by [time : ten to eleven am] [general_frequenc...  \n",
       "1845  my [device_type : vacuum cleaner] should start...  \n",
       "1985  order one [business_type : coffee] to [busines...  \n",
       "1986  order one [business_type : coffee] from neares...  \n",
       "2291  turn on my son's [house_place : room] [device_...  \n",
       "3213             please clean the [house_place : floor]  \n",
       "3516  [person : greg] wants [coffee_type : black] co...  "
      ]
     },
     "execution_count": 114,
     "metadata": {},
     "output_type": "execute_result"
    }
   ],
   "source": [
    "sparse_total_df, sparse_entries_df = get_entries_with_sparse_total(\n",
    "    domain_df, sorted_entity_types_and_counts)\n",
    "# create a ipysheet for sparse_total_df with boolean buttons for merge, remove, untag\n",
    "# Should the merge be multiple buttons, one for each entity type to merge with?\n",
    "sparse_entries_df"
   ]
  },
  {
   "cell_type": "code",
   "execution_count": 115,
   "metadata": {},
   "outputs": [],
   "source": [
    "import ipysheet"
   ]
  },
  {
   "cell_type": "code",
   "execution_count": 116,
   "metadata": {},
   "outputs": [],
   "source": [
    "def create_sparse_entity_review_sheet(sparse_total_df):\n",
    "    '''\n",
    "    Create a sheet with the entity types and total counts of entities with boolean columns for whether the entity should be removed, merged, or untagged\n",
    "    :param sparse_total_df: a dataframe with the entity types and total counts of entities with less than 5 total count\n",
    "    :return: an ipysheet with the entity types and total counts of entities with boolean columns for whether the entity should be removed, merged, or untagged\n",
    "    '''\n",
    "\n",
    "    to_review_df = sparse_total_df.copy()\n",
    "    to_review_df = to_review_df.assign(remove=None)\n",
    "    to_review_df['remove'] = to_review_df['remove'].astype('bool')\n",
    "    to_review_df = to_review_df.assign(merge=None)\n",
    "    to_review_df['merge'] = to_review_df['merge'].astype('bool')\n",
    "    to_review_df = to_review_df.assign(untag_entity=None)\n",
    "    to_review_df['untag_entity'] = to_review_df['untag_entity'].astype('bool')\n",
    "    return ipysheet.from_dataframe(to_review_df)\n"
   ]
  },
  {
   "cell_type": "code",
   "execution_count": 120,
   "metadata": {},
   "outputs": [
    {
     "data": {
      "application/vnd.jupyter.widget-view+json": {
       "model_id": "9b34b7fd0cf84907b60d3627bc5058b2",
       "version_major": 2,
       "version_minor": 0
      },
      "text/plain": [
       "Sheet(cells=(Cell(column_end=0, column_start=0, numeric_format=None, row_end=7, row_start=0, squeeze_row=False…"
      ]
     },
     "metadata": {},
     "output_type": "display_data"
    }
   ],
   "source": [
    "sparse_entity_review_sheet = create_sparse_entity_review_sheet(sparse_total_df)\n",
    "sparse_entity_review_sheet\n"
   ]
  },
  {
   "cell_type": "code",
   "execution_count": 149,
   "metadata": {},
   "outputs": [],
   "source": [
    "def split_entity_types(domain_df):\n",
    "    '''\n",
    "    Split entity types by , and group entries by split entity types\n",
    "    :param domain_df: a dataframe with entries in the entity_types column\n",
    "    :return: a dataframe with entries grouped by entity type\n",
    "    '''\n",
    "    split_entity_types_df = domain_df.copy()\n",
    "    split_entity_types_df['entity_types'] = split_entity_types_df['entity_types'].str.split(\n",
    "        ',')\n",
    "    split_entity_types_df = split_entity_types_df.explode(\n",
    "        'entity_types').reset_index(drop=True)\n",
    "    return split_entity_types_df"
   ]
  },
  {
   "cell_type": "code",
   "execution_count": 172,
   "metadata": {},
   "outputs": [
    {
     "data": {
      "text/plain": [
       "MultiIndex([('hue_lightchange',    'player_setting', ...),\n",
       "            ('hue_lightchange',       'house_place', ...),\n",
       "            (         'coffee',         'timeofday', ...),\n",
       "            (       'cleaning',       'device_type', ...),\n",
       "            (       'cleaning',              'time', ...),\n",
       "            (       'cleaning',              'time', ...),\n",
       "            (       'cleaning', 'general_frequency', ...),\n",
       "            (       'cleaning',              'time', ...),\n",
       "            (       'cleaning',              'time', ...),\n",
       "            (       'cleaning', 'general_frequency', ...),\n",
       "            (       'cleaning',       'device_type', ...),\n",
       "            (       'cleaning',       'device_type', ...),\n",
       "            (       'cleaning',              'time', ...),\n",
       "            (       'cleaning',              'time', ...),\n",
       "            (       'cleaning', 'general_frequency', ...),\n",
       "            (         'coffee',     'business_name', ...),\n",
       "            (         'coffee',     'business_type', ...),\n",
       "            (         'coffee',     'business_type', ...),\n",
       "            (        'wemo_on',          'relation', ...),\n",
       "            (        'wemo_on',       'house_place', ...),\n",
       "            (        'wemo_on',       'device_type', ...),\n",
       "            (       'cleaning',        'place_name', ...),\n",
       "            (         'coffee',            'person', ...),\n",
       "            (         'coffee',       'coffee_type', ...)],\n",
       "           names=['intent', 'entity_types', 'answer_annotation', 'predicted_tagging'])"
      ]
     },
     "execution_count": 172,
     "metadata": {},
     "output_type": "execute_result"
    }
   ],
   "source": [
    "# create multi index from sparse_entries_df with frame with the split entity_types and the answer_annotation as the sub column\n",
    "\n",
    "split_entity_types_df = split_entity_types(sparse_entries_df)\n",
    "\n",
    "split_entity_types_df = split_entity_types_df[['intent', 'entity_types', 'answer_annotation', 'predicted_tagging']]\n",
    "split_entity_types_df\n",
    "\n",
    "# TODO: make the entity_type the index and then group all of the answer_annotations by entity_type and then count the number of each answer_annotation\n",
    "# Do I need to use a multi index for this?\n",
    "pd.MultiIndex.from_frame(split_entity_types_df)\n"
   ]
  },
  {
   "cell_type": "code",
   "execution_count": 144,
   "metadata": {},
   "outputs": [
    {
     "data": {
      "text/plain": [
       "392     player_setting   \n",
       "392     house_place      \n",
       "850     timeofday        \n",
       "1843    device_type      \n",
       "1843    time             \n",
       "1843    time             \n",
       "1843    general_frequency\n",
       "1844    time             \n",
       "1844    time             \n",
       "1844    general_frequency\n",
       "1844    device_type      \n",
       "1845    device_type      \n",
       "1845    time             \n",
       "1845    time             \n",
       "1845    general_frequency\n",
       "1985    business_name    \n",
       "1985    business_type    \n",
       "1986    business_type    \n",
       "2291    relation         \n",
       "2291    house_place      \n",
       "2291    device_type      \n",
       "3213    place_name       \n",
       "3516    person           \n",
       "3516    coffee_type      \n",
       "Name: entity_type, dtype: object"
      ]
     },
     "execution_count": 144,
     "metadata": {},
     "output_type": "execute_result"
    }
   ],
   "source": [
    "entity_types"
   ]
  },
  {
   "cell_type": "code",
   "execution_count": 146,
   "metadata": {},
   "outputs": [
    {
     "ename": "ValueError",
     "evalue": "Other Series must have a name",
     "output_type": "error",
     "traceback": [
      "\u001b[0;31m---------------------------------------------------------------------------\u001b[0m",
      "\u001b[0;31mValueError\u001b[0m                                Traceback (most recent call last)",
      "\u001b[0;32m/tmp/ipykernel_692015/3348104439.py\u001b[0m in \u001b[0;36m<module>\u001b[0;34m\u001b[0m\n\u001b[0;32m----> 1\u001b[0;31m \u001b[0msplit_entity_types_df\u001b[0m \u001b[0;34m=\u001b[0m \u001b[0mcreate_entity_type_df\u001b[0m\u001b[0;34m(\u001b[0m\u001b[0msparse_entries_df\u001b[0m\u001b[0;34m)\u001b[0m\u001b[0;34m\u001b[0m\u001b[0;34m\u001b[0m\u001b[0m\n\u001b[0m\u001b[1;32m      2\u001b[0m \u001b[0msplit_entity_types_df\u001b[0m\u001b[0;34m\u001b[0m\u001b[0;34m\u001b[0m\u001b[0m\n",
      "\u001b[0;32m/tmp/ipykernel_692015/2544459491.py\u001b[0m in \u001b[0;36mcreate_entity_type_df\u001b[0;34m(domain_df)\u001b[0m\n\u001b[1;32m     10\u001b[0m         ',', expand=True).stack().reset_index(level=1, drop=True)\n\u001b[1;32m     11\u001b[0m     entity_types_df = domain_df.drop('entity_types', axis=1).join(\n\u001b[0;32m---> 12\u001b[0;31m         entity_types).rename(columns={0: 'entity_types'})\n\u001b[0m\u001b[1;32m     13\u001b[0m     \u001b[0;32mreturn\u001b[0m \u001b[0mentity_types_df\u001b[0m\u001b[0;34m\u001b[0m\u001b[0;34m\u001b[0m\u001b[0m\n",
      "\u001b[0;32m~/code/NLU-engine-prototype-benchmarks/.venv/lib/python3.7/site-packages/pandas/core/frame.py\u001b[0m in \u001b[0;36mjoin\u001b[0;34m(self, other, on, how, lsuffix, rsuffix, sort)\u001b[0m\n\u001b[1;32m   9098\u001b[0m         \"\"\"\n\u001b[1;32m   9099\u001b[0m         return self._join_compat(\n\u001b[0;32m-> 9100\u001b[0;31m             \u001b[0mother\u001b[0m\u001b[0;34m,\u001b[0m \u001b[0mon\u001b[0m\u001b[0;34m=\u001b[0m\u001b[0mon\u001b[0m\u001b[0;34m,\u001b[0m \u001b[0mhow\u001b[0m\u001b[0;34m=\u001b[0m\u001b[0mhow\u001b[0m\u001b[0;34m,\u001b[0m \u001b[0mlsuffix\u001b[0m\u001b[0;34m=\u001b[0m\u001b[0mlsuffix\u001b[0m\u001b[0;34m,\u001b[0m \u001b[0mrsuffix\u001b[0m\u001b[0;34m=\u001b[0m\u001b[0mrsuffix\u001b[0m\u001b[0;34m,\u001b[0m \u001b[0msort\u001b[0m\u001b[0;34m=\u001b[0m\u001b[0msort\u001b[0m\u001b[0;34m\u001b[0m\u001b[0;34m\u001b[0m\u001b[0m\n\u001b[0m\u001b[1;32m   9101\u001b[0m         )\n\u001b[1;32m   9102\u001b[0m \u001b[0;34m\u001b[0m\u001b[0m\n",
      "\u001b[0;32m~/code/NLU-engine-prototype-benchmarks/.venv/lib/python3.7/site-packages/pandas/core/frame.py\u001b[0m in \u001b[0;36m_join_compat\u001b[0;34m(self, other, on, how, lsuffix, rsuffix, sort)\u001b[0m\n\u001b[1;32m   9115\u001b[0m         \u001b[0;32mif\u001b[0m \u001b[0misinstance\u001b[0m\u001b[0;34m(\u001b[0m\u001b[0mother\u001b[0m\u001b[0;34m,\u001b[0m \u001b[0mSeries\u001b[0m\u001b[0;34m)\u001b[0m\u001b[0;34m:\u001b[0m\u001b[0;34m\u001b[0m\u001b[0;34m\u001b[0m\u001b[0m\n\u001b[1;32m   9116\u001b[0m             \u001b[0;32mif\u001b[0m \u001b[0mother\u001b[0m\u001b[0;34m.\u001b[0m\u001b[0mname\u001b[0m \u001b[0;32mis\u001b[0m \u001b[0;32mNone\u001b[0m\u001b[0;34m:\u001b[0m\u001b[0;34m\u001b[0m\u001b[0;34m\u001b[0m\u001b[0m\n\u001b[0;32m-> 9117\u001b[0;31m                 \u001b[0;32mraise\u001b[0m \u001b[0mValueError\u001b[0m\u001b[0;34m(\u001b[0m\u001b[0;34m\"Other Series must have a name\"\u001b[0m\u001b[0;34m)\u001b[0m\u001b[0;34m\u001b[0m\u001b[0;34m\u001b[0m\u001b[0m\n\u001b[0m\u001b[1;32m   9118\u001b[0m             \u001b[0mother\u001b[0m \u001b[0;34m=\u001b[0m \u001b[0mDataFrame\u001b[0m\u001b[0;34m(\u001b[0m\u001b[0;34m{\u001b[0m\u001b[0mother\u001b[0m\u001b[0;34m.\u001b[0m\u001b[0mname\u001b[0m\u001b[0;34m:\u001b[0m \u001b[0mother\u001b[0m\u001b[0;34m}\u001b[0m\u001b[0;34m)\u001b[0m\u001b[0;34m\u001b[0m\u001b[0;34m\u001b[0m\u001b[0m\n\u001b[1;32m   9119\u001b[0m \u001b[0;34m\u001b[0m\u001b[0m\n",
      "\u001b[0;31mValueError\u001b[0m: Other Series must have a name"
     ]
    }
   ],
   "source": [
    "split_entity_types_df = create_entity_type_df(sparse_entries_df)\n",
    "split_entity_types_df"
   ]
  },
  {
   "cell_type": "code",
   "execution_count": 130,
   "metadata": {},
   "outputs": [
    {
     "data": {
      "text/html": [
       "<div>\n",
       "<style scoped>\n",
       "    .dataframe tbody tr th:only-of-type {\n",
       "        vertical-align: middle;\n",
       "    }\n",
       "\n",
       "    .dataframe tbody tr th {\n",
       "        vertical-align: top;\n",
       "    }\n",
       "\n",
       "    .dataframe thead th {\n",
       "        text-align: right;\n",
       "    }\n",
       "</style>\n",
       "<table border=\"1\" class=\"dataframe\">\n",
       "  <thead>\n",
       "    <tr style=\"text-align: right;\">\n",
       "      <th></th>\n",
       "      <th>intent</th>\n",
       "      <th>predicted_label</th>\n",
       "      <th>answer_annotation</th>\n",
       "      <th>predicted_tagging</th>\n",
       "    </tr>\n",
       "  </thead>\n",
       "  <tbody>\n",
       "    <tr>\n",
       "      <th>392</th>\n",
       "      <td>hue_lightchange</td>\n",
       "      <td>hue_lightchange</td>\n",
       "      <td>can you [player_setting : shuffle] the light colors in the [house_place : house]</td>\n",
       "      <td>can you [player_setting : shuffle] the light colors in the [house_place : house]</td>\n",
       "    </tr>\n",
       "    <tr>\n",
       "      <th>850</th>\n",
       "      <td>coffee</td>\n",
       "      <td>coffee</td>\n",
       "      <td>brew coffee at [timeofday : noon]</td>\n",
       "      <td>brew coffee at [timeofday : noon]</td>\n",
       "    </tr>\n",
       "    <tr>\n",
       "      <th>1843</th>\n",
       "      <td>cleaning</td>\n",
       "      <td>cleaning</td>\n",
       "      <td>start my [device_type : robot vacuum cleaner] by [time : ten] to [time : eleven am] [general_frequency : daily]</td>\n",
       "      <td>start my [device_type : robot vacuum cleaner] by [time : ten to eleven am] [general_frequency : daily]</td>\n",
       "    </tr>\n",
       "    <tr>\n",
       "      <th>1844</th>\n",
       "      <td>cleaning</td>\n",
       "      <td>cleaning</td>\n",
       "      <td>by [time : ten] to [time : eleven am] [general_frequency : daily] start my [device_type : vacuum cleaner]</td>\n",
       "      <td>by [time : ten to eleven am] [general_frequency : daily] start my [device_type : vacuum cleaner]</td>\n",
       "    </tr>\n",
       "    <tr>\n",
       "      <th>1845</th>\n",
       "      <td>cleaning</td>\n",
       "      <td>cleaning</td>\n",
       "      <td>my [device_type : vacuum cleaner] should start between [time : ten] to [time : eleven am] [general_frequency : everyday]</td>\n",
       "      <td>my [device_type : vacuum cleaner] should start between [time : ten to eleven am] [general_frequency : everyday]</td>\n",
       "    </tr>\n",
       "    <tr>\n",
       "      <th>1985</th>\n",
       "      <td>coffee</td>\n",
       "      <td>coffee</td>\n",
       "      <td>order one coffee to [business_name : starbucks] [business_type : coffee shop]</td>\n",
       "      <td>order one [business_type : coffee] to [business_name : starbucks] [business_type : coffee shop]</td>\n",
       "    </tr>\n",
       "    <tr>\n",
       "      <th>1986</th>\n",
       "      <td>coffee</td>\n",
       "      <td>coffee</td>\n",
       "      <td>order one coffee from nearest [business_type : coffee shop]</td>\n",
       "      <td>order one [business_type : coffee] from nearest [business_type : coffee shop]</td>\n",
       "    </tr>\n",
       "    <tr>\n",
       "      <th>2291</th>\n",
       "      <td>wemo_on</td>\n",
       "      <td>wemo_on</td>\n",
       "      <td>turn on my [relation : son's] [house_place : room] [device_type : plug] socket on off</td>\n",
       "      <td>turn on my son's [house_place : room] [device_type : plug socket] on off</td>\n",
       "    </tr>\n",
       "    <tr>\n",
       "      <th>3213</th>\n",
       "      <td>cleaning</td>\n",
       "      <td>cleaning</td>\n",
       "      <td>please clean the [place_name : floor]</td>\n",
       "      <td>please clean the [house_place : floor]</td>\n",
       "    </tr>\n",
       "    <tr>\n",
       "      <th>3516</th>\n",
       "      <td>coffee</td>\n",
       "      <td>coffee</td>\n",
       "      <td>[person : greg] wants [coffee_type : black] coffee can you make one</td>\n",
       "      <td>[person : greg] wants [coffee_type : black] coffee can you make one</td>\n",
       "    </tr>\n",
       "  </tbody>\n",
       "</table>\n",
       "</div>"
      ],
      "text/plain": [
       "               intent  predicted_label  \\\n",
       "392   hue_lightchange  hue_lightchange   \n",
       "850   coffee           coffee            \n",
       "1843  cleaning         cleaning          \n",
       "1844  cleaning         cleaning          \n",
       "1845  cleaning         cleaning          \n",
       "1985  coffee           coffee            \n",
       "1986  coffee           coffee            \n",
       "2291  wemo_on          wemo_on           \n",
       "3213  cleaning         cleaning          \n",
       "3516  coffee           coffee            \n",
       "\n",
       "                                                                                                             answer_annotation  \\\n",
       "392   can you [player_setting : shuffle] the light colors in the [house_place : house]                                           \n",
       "850   brew coffee at [timeofday : noon]                                                                                          \n",
       "1843  start my [device_type : robot vacuum cleaner] by [time : ten] to [time : eleven am] [general_frequency : daily]            \n",
       "1844  by [time : ten] to [time : eleven am] [general_frequency : daily] start my [device_type : vacuum cleaner]                  \n",
       "1845  my [device_type : vacuum cleaner] should start between [time : ten] to [time : eleven am] [general_frequency : everyday]   \n",
       "1985  order one coffee to [business_name : starbucks] [business_type : coffee shop]                                              \n",
       "1986  order one coffee from nearest [business_type : coffee shop]                                                                \n",
       "2291  turn on my [relation : son's] [house_place : room] [device_type : plug] socket on off                                      \n",
       "3213  please clean the [place_name : floor]                                                                                      \n",
       "3516  [person : greg] wants [coffee_type : black] coffee can you make one                                                        \n",
       "\n",
       "                                                                                                    predicted_tagging  \n",
       "392   can you [player_setting : shuffle] the light colors in the [house_place : house]                                 \n",
       "850   brew coffee at [timeofday : noon]                                                                                \n",
       "1843  start my [device_type : robot vacuum cleaner] by [time : ten to eleven am] [general_frequency : daily]           \n",
       "1844  by [time : ten to eleven am] [general_frequency : daily] start my [device_type : vacuum cleaner]                 \n",
       "1845  my [device_type : vacuum cleaner] should start between [time : ten to eleven am] [general_frequency : everyday]  \n",
       "1985  order one [business_type : coffee] to [business_name : starbucks] [business_type : coffee shop]                  \n",
       "1986  order one [business_type : coffee] from nearest [business_type : coffee shop]                                    \n",
       "2291  turn on my son's [house_place : room] [device_type : plug socket] on off                                         \n",
       "3213  please clean the [house_place : floor]                                                                           \n",
       "3516  [person : greg] wants [coffee_type : black] coffee can you make one                                              "
      ]
     },
     "metadata": {},
     "output_type": "display_data"
    }
   ],
   "source": [
    "# TODO: the entries should be arranged in the same order as the entity types in sparse_total_df\n",
    "# TODO: add use predicted tagging column as boolean?\n",
    "# TODO: make df that only has intent, predicted label, answer annotation, predicted tagging\n",
    "df = sparse_entries_df[['intent', 'predicted_label', 'answer_annotation', 'predicted_tagging']]\n",
    "\n",
    "# display the entire columns for answer_annotation and predicted_tagging\n",
    "with pd.option_context('display.max_rows', None, 'display.max_columns', None):\n",
    "    display(df)"
   ]
  },
  {
   "cell_type": "code",
   "execution_count": null,
   "metadata": {},
   "outputs": [],
   "source": [
    "#TODO: From here we will want to create an ipysheet of the above, and allow the user to select entries to remove or if there is an entity from the list to be untagged or merged:\n",
    "# Option 1: Remove entry\n",
    "# Option 2: Merge entry (how to get which one?)\n",
    "# Option 3: Untag entry (how to get which one?)"
   ]
  },
  {
   "cell_type": "code",
   "execution_count": null,
   "metadata": {},
   "outputs": [],
   "source": [
    "# TODO: place_name -> house_place\n",
    "# Add in ability to change a whole entity type to another. e.g. place_name -> house_place"
   ]
  },
  {
   "cell_type": "markdown",
   "metadata": {},
   "source": [
    "## Entity overlap refinement\n",
    "We want to find the entities that have overlapping entity types. Entities (the words themselves that get tagged), should very rarely have more than one entity type in a domain. If they do, then we need to refine the dataset."
   ]
  },
  {
   "cell_type": "markdown",
   "metadata": {},
   "source": [
    "take the `domain_df['entities']` and get a list of dictionaries for:\n",
    "* `id`: the original index of the row\n",
    "* `entity_type`: the entity type\n",
    "* `entity_words`: the joined words with spaces that make up the entity\n",
    "\n",
    "and then drop it into a dataframe"
   ]
  },
  {
   "cell_type": "code",
   "execution_count": null,
   "metadata": {},
   "outputs": [],
   "source": [
    "correct_entity_types, incorrect_entity_types, overlapping_entity_words = MacroEntityRefinement.pick_correct_entity_type_for_overlapping_entities(\n",
    "    domain_df)\n",
    "\n",
    "    #TODO: add option to just press enter to skip picking a correct entity type (i.e. coffee type black but color black)"
   ]
  },
  {
   "cell_type": "markdown",
   "metadata": {},
   "source": [
    "We have the `correct_entity_types`. We will need those to know what to change the `entity_type` to."
   ]
  },
  {
   "cell_type": "code",
   "execution_count": null,
   "metadata": {},
   "outputs": [],
   "source": [
    "correct_entity_types"
   ]
  },
  {
   "cell_type": "markdown",
   "metadata": {},
   "source": [
    "We should probably get a list of the `incorrect_entity_types` to go along with our `correct_entity_types`, so we know what to replace."
   ]
  },
  {
   "cell_type": "code",
   "execution_count": null,
   "metadata": {},
   "outputs": [],
   "source": [
    "incorrect_entity_types"
   ]
  },
  {
   "cell_type": "markdown",
   "metadata": {},
   "source": [
    "How about we for loop over the zip of `incorrect_entity_types` and `correct_entity_types` and replace the `entity_type` in `overlapping_domain_df` with the `correct_entity_type`."
   ]
  },
  {
   "cell_type": "code",
   "execution_count": null,
   "metadata": {},
   "outputs": [],
   "source": [
    "refined_overlapping_domain_df = MacroEntityRefinement.refine_overlapping_entity_types(\n",
    "    domain_df, correct_entity_types, incorrect_entity_types, overlapping_entity_words)"
   ]
  },
  {
   "cell_type": "markdown",
   "metadata": {},
   "source": [
    "## Entity refinement\n",
    "We will want to refine all of the entries that have the incorrect entity types."
   ]
  },
  {
   "cell_type": "code",
   "execution_count": null,
   "metadata": {},
   "outputs": [],
   "source": [
    "domain_incorrect_predicted_entities_df = refined_overlapping_domain_df[refined_overlapping_domain_df['answer_annotation']\n",
    "                                                              != refined_overlapping_domain_df['predicted_tagging']]\n"
   ]
  },
  {
   "cell_type": "code",
   "execution_count": null,
   "metadata": {},
   "outputs": [],
   "source": []
  },
  {
   "cell_type": "code",
   "execution_count": null,
   "metadata": {},
   "outputs": [],
   "source": [
    "to_review_sheet = MacroDataRefinement.create_sheet(\n",
    "    domain_incorrect_predicted_entities_df)\n",
    "to_review_sheet"
   ]
  },
  {
   "cell_type": "code",
   "execution_count": null,
   "metadata": {},
   "outputs": [],
   "source": [
    "# TODO: start from here, refine then save to CSV the changes. Repeat until all domains have been refined."
   ]
  },
  {
   "cell_type": "code",
   "execution_count": null,
   "metadata": {},
   "outputs": [],
   "source": [
    "reviewed_domain_entities_df = MacroDataRefinement.convert_sheet_to_dataframe(to_review_sheet)"
   ]
  },
  {
   "cell_type": "code",
   "execution_count": null,
   "metadata": {},
   "outputs": [],
   "source": [
    "refined_domain_entities_df = reviewed_domain_entities_df.apply(\n",
    "    MacroDataRefinement.replace_annotated_utterance_with_predicted_tagging, axis=1)"
   ]
  },
  {
   "cell_type": "code",
   "execution_count": null,
   "metadata": {},
   "outputs": [],
   "source": [
    "refined_domain_entities_df.to_csv(\n",
    "    f'data/refined/entities/{domain_selection}_refined_entities_df.csv')"
   ]
  },
  {
   "cell_type": "code",
   "execution_count": null,
   "metadata": {},
   "outputs": [],
   "source": [
    "refined_domain_entities_df = MacroDataRefinement.mark_entries_as_refined(\n",
    "    refined_dataframe=refined_domain_entities_df, refined_type='entity')"
   ]
  },
  {
   "cell_type": "code",
   "execution_count": null,
   "metadata": {},
   "outputs": [],
   "source": [
    "nlu_data_refined_df.update(refined_domain_entities_df)"
   ]
  },
  {
   "cell_type": "code",
   "execution_count": null,
   "metadata": {},
   "outputs": [],
   "source": [
    "removed_nlu_data_refined_df = nlu_data_refined_df[nlu_data_refined_df['remove'] != True]"
   ]
  },
  {
   "cell_type": "code",
   "execution_count": null,
   "metadata": {},
   "outputs": [],
   "source": [
    "nlu_data_refined_df.to_csv(\n",
    "    f'data/refined/nlu_data_intent_and_entity_refined_df.csv')"
   ]
  },
  {
   "cell_type": "code",
   "execution_count": null,
   "metadata": {},
   "outputs": [],
   "source": [
    "# FROM HERE: loop back for each domain to refine the entities until done."
   ]
  },
  {
   "cell_type": "code",
   "execution_count": null,
   "metadata": {},
   "outputs": [],
   "source": [
    "# TODO: once all of the refinements of each domain have been completed the nlu_data_refined_df should be updated with the refined data from removed_nlu_data_refined_df!\n",
    "# Don't forget: The removed entries are no longer in the removed_nlu_data_refined_df so they need to be added back into the nlu_data_refined_df from the files!"
   ]
  },
  {
   "cell_type": "code",
   "execution_count": null,
   "metadata": {},
   "outputs": [],
   "source": [
    "nlu_data_df = pd.read_csv(\n",
    "    'data/refined/nlu_data_refined_df.csv', sep=',', index_col=0)"
   ]
  },
  {
   "cell_type": "code",
   "execution_count": null,
   "metadata": {},
   "outputs": [],
   "source": [
    "nlu_data_df = DataUtils.convert_annotated_utterances_to_normalised_utterances(\n",
    "    nlu_data_df)"
   ]
  },
  {
   "cell_type": "code",
   "execution_count": null,
   "metadata": {},
   "outputs": [],
   "source": [
    "import glob"
   ]
  },
  {
   "cell_type": "code",
   "execution_count": null,
   "metadata": {},
   "outputs": [],
   "source": [
    "# load and concat all csv files in the data/refined/entities folder\n",
    "path = 'data/refined/entities'\n",
    "all_files = glob.glob(path + \"/*.csv\")\n",
    "\n",
    "df = pd.concat((pd.read_csv(f, index_col=0)\n",
    "               for f in all_files))\n"
   ]
  },
  {
   "cell_type": "code",
   "execution_count": null,
   "metadata": {},
   "outputs": [],
   "source": [
    "refined_df = MacroDataRefinement.mark_entries_as_refined(\n",
    "    refined_dataframe=df, refined_type='entity')\n"
   ]
  },
  {
   "cell_type": "code",
   "execution_count": null,
   "metadata": {},
   "outputs": [],
   "source": [
    "refined_df = refined_df[refined_df['scenario'] != 'iot']\n"
   ]
  },
  {
   "cell_type": "code",
   "execution_count": null,
   "metadata": {},
   "outputs": [],
   "source": [
    "nlu_data_df.update(refined_df)"
   ]
  },
  {
   "cell_type": "code",
   "execution_count": null,
   "metadata": {},
   "outputs": [],
   "source": [
    "nlu_data_df.to_csv('data/refined/nlu_data_intent_and_entity_refined_df.csv')\n",
    "#FROM HERE!\n",
    "#TODO use this for the flow from the start instead of the removed_nlu_data_refined_updated_df!\n",
    "#TODO: test this on the flow and make sure it works before going to refinement\n",
    "#TODO: change after the report on entities with JSON to get a simple output of all the entities in the domain and examples like in the report but have the user see if any entities need to be totally removed as labels or merged with others before continuing to the refinement stage!"
   ]
  },
  {
   "cell_type": "code",
   "execution_count": null,
   "metadata": {},
   "outputs": [],
   "source": [
    "#TODO: refactor intent refinement to dump the csvs into a sub dir called intents!"
   ]
  },
  {
   "cell_type": "code",
   "execution_count": null,
   "metadata": {},
   "outputs": [],
   "source": [
    "#TODO: It is probably a good idea to drop all of the ones that lack a good support.\n",
    "#NOTE: But it didn't work to fix the problem.\n",
    "remove_entities = [\n",
    "    'music_album',\n",
    "    'game_type',\n",
    "    \n",
    "]\n",
    "removed_nlu_data_refined__entities_cleaned_df = removed_nlu_data_refined_df[~removed_nlu_data_refined_df['answer_annotation'].str.contains('|'.join(remove_entities))]"
   ]
  },
  {
   "cell_type": "code",
   "execution_count": null,
   "metadata": {},
   "outputs": [],
   "source": [
    "Analytics.plot_report(entity_report_df)"
   ]
  },
  {
   "cell_type": "code",
   "execution_count": null,
   "metadata": {},
   "outputs": [],
   "source": [
    "#TODO: Remove/replace worst: add in state features like here: https://sklearn-crfsuite.readthedocs.io/en/latest/tutorial.html#let-s-check-what-classifier-learned\n",
    "# Specifically, we want print_state_features()"
   ]
  },
  {
   "cell_type": "code",
   "execution_count": null,
   "metadata": {},
   "outputs": [],
   "source": [
    "def print_state_features(state_features):\n",
    "    for (attr, label), weight in state_features:\n",
    "        print(\"%0.6f %-8s %s\" % (weight, label, attr))\n"
   ]
  },
  {
   "cell_type": "code",
   "execution_count": null,
   "metadata": {},
   "outputs": [],
   "source": [
    "from nlu_engine import crf\n",
    "from collections import Counter"
   ]
  },
  {
   "cell_type": "code",
   "execution_count": null,
   "metadata": {},
   "outputs": [],
   "source": [
    "crf_model.state_features_"
   ]
  },
  {
   "cell_type": "code",
   "execution_count": null,
   "metadata": {},
   "outputs": [],
   "source": [
    "print_state_features(Counter(crf.state_features_).most_common(100))"
   ]
  },
  {
   "cell_type": "code",
   "execution_count": null,
   "metadata": {},
   "outputs": [],
   "source": [
    "# TODO: review the most common features, none of them are the word parts (chunks) or POS tags, are these even needed or helpful?\n",
    "# Can we remove them and speed up the process?\n",
    "# What other features could be used? Word2vec? Brown clustering?"
   ]
  },
  {
   "cell_type": "code",
   "execution_count": null,
   "metadata": {},
   "outputs": [],
   "source": [
    "domain_selection = MacroDataRefinement.list_and_select_domain(nlu_data_df)"
   ]
  },
  {
   "cell_type": "markdown",
   "metadata": {},
   "source": [
    "As we have seen from the entity extraction report, the entity extraction is not working for the alarm_type."
   ]
  },
  {
   "cell_type": "code",
   "execution_count": null,
   "metadata": {},
   "outputs": [],
   "source": [
    "#TODO: review all scoring 0, see if they can be completely dropped or what\n",
    "entity_to_refine = 'alarm_type'\n",
    "nlu_scenario_df = removed_nlu_data_refined_df[removed_nlu_data_refined_df['answer_annotation'].str.contains(\n",
    "    entity_to_refine)]"
   ]
  },
  {
   "cell_type": "code",
   "execution_count": null,
   "metadata": {},
   "outputs": [],
   "source": [
    "nlu_scenario_df"
   ]
  },
  {
   "cell_type": "code",
   "execution_count": null,
   "metadata": {},
   "outputs": [],
   "source": [
    "def remove_entity(df, entity_to_remove):\n",
    "    \"\"\"\n",
    "        Remove all entries of an entity type from the dataframe.\n",
    "        :param df: pandas dataframe\n",
    "        :return: pandas dataframe\n",
    "        \"\"\"\n",
    "    updated_df = df.copy()\n",
    "    updated_df.loc[updated_df['answer_annotation'].str.contains(\n",
    "        entity_to_remove), 'remove'] = True\n",
    "    return updated_df\n"
   ]
  },
  {
   "cell_type": "code",
   "execution_count": null,
   "metadata": {},
   "outputs": [],
   "source": [
    "updated_df = remove_entity(removed_nlu_data_refined_df, entity_to_refine)"
   ]
  },
  {
   "cell_type": "code",
   "execution_count": null,
   "metadata": {},
   "outputs": [],
   "source": [
    "removed_nlu_data_refined_df[removed_nlu_data_refined_df['answer_annotation'].str.contains(\n",
    "    entity_to_refine)]"
   ]
  },
  {
   "cell_type": "markdown",
   "metadata": {},
   "source": [
    "## Entity Convert to ipysheet and review\n",
    "TODO: add in description of the types of fixes we can do to the NLU data for entity\n"
   ]
  },
  {
   "cell_type": "code",
   "execution_count": null,
   "metadata": {},
   "outputs": [],
   "source": [
    "\n",
    "# TODO: same as above for intents but with predicted entities: report on them, break them down into a dictionary of dataframes and refine them.."
   ]
  },
  {
   "cell_type": "markdown",
   "metadata": {},
   "source": [
    "For the example with 'alarm' and the alarm_type:\n",
    "* We see that the alarm_type entities are really event_name(ie wake up, soccer practice) except for ID 5879, we will need to change them to event_name and remove ID 5879.\n",
    "* The last one(ID 6320) is a mistake. Someone got confused with the prompt and assumed alarm is a security system. This is out of scope for the alarm domain, as the alarms are ones set on a phone or other device. We will drop this utterance.\n",
    "Once you are done reviewing, you convert it back to a dataframe and check to make sure it looks okay.\n",
    "Let's change all alarm_type entities to event_name."
   ]
  },
  {
   "cell_type": "code",
   "execution_count": null,
   "metadata": {},
   "outputs": [],
   "source": [
    "\n",
    "reviewed_scenario_df['answer_annotation'] = reviewed_scenario_df['answer_annotation'].str.replace(\n",
    "    'alarm_type', 'event_name')\n",
    "reviewed_scenario_df\n"
   ]
  },
  {
   "cell_type": "markdown",
   "metadata": {},
   "source": [
    "Okay dokey, now we can merge this with the original data set and see if it made a difference already(well of course it did!)."
   ]
  },
  {
   "cell_type": "code",
   "execution_count": null,
   "metadata": {},
   "outputs": [],
   "source": [
    "nlu_data_df.drop(\n",
    "    reviewed_scenario_df[reviewed_scenario_df['remove'] == True].index, inplace=True)\n",
    "\n",
    "reviewed_scenario_df = reviewed_scenario_df[~reviewed_scenario_df['remove'] == True]\n",
    "\n",
    "nlu_data_df.loc[nlu_data_df.index.intersection(\n",
    "    reviewed_scenario_df.index), 'answer_annotation'] = reviewed_scenario_df['answer_annotation']\n",
    "\n",
    "nlu_data_df[(nlu_data_df['scenario'].str.contains('alarm')) & (nlu_data_df['answer_annotation'].str.contains(\n",
    "    'event_name'))]\n"
   ]
  },
  {
   "cell_type": "markdown",
   "metadata": {},
   "source": [
    "### Benchmark changed data set\n",
    "TODO: repeat reports for the changed data set for domain and entities and compare\n"
   ]
  },
  {
   "cell_type": "code",
   "execution_count": null,
   "metadata": {},
   "outputs": [],
   "source": [
    "\n",
    "entity_reviewed_report_df = NLUEngine.evaluate_entity_classifier(\n",
    "    data_df=nlu_data_df)\n",
    "entity_reviewed_report_df.sort_values(by=['f1-score'])"
   ]
  },
  {
   "cell_type": "markdown",
   "metadata": {},
   "source": [
    "If you are sure it is okay, you can save it as a csv file, make sure to name it correctly(i.e. `alarm_domain_first_review.csv`)"
   ]
  },
  {
   "cell_type": "code",
   "execution_count": null,
   "metadata": {},
   "outputs": [],
   "source": [
    "reviewed_scenario_df.to_csv('alarm_domain_first_review.csv')"
   ]
  },
  {
   "cell_type": "markdown",
   "metadata": {},
   "source": [
    "Load it back up and check to make sure it looks okay. Make sure to give it the right name!\n"
   ]
  },
  {
   "cell_type": "code",
   "execution_count": null,
   "metadata": {},
   "outputs": [],
   "source": [
    "audio_domain_first_review_df = pd.read_csv(\n",
    "    'alarm_domain_first_review.csv', index_col=0)\n",
    "audio_domain_first_review_df.tail(50)\n"
   ]
  },
  {
   "cell_type": "code",
   "execution_count": null,
   "metadata": {},
   "outputs": [],
   "source": [
    "# TODO: implement the evaluate_classifier in the NLU engine to check f1 score for intents and entities in the domain vs original NLU data of domain!\n",
    "# Value: benchmark!\n",
    "#TODO: implement a flow for getting the domains with the lowest f1 scores by intent/domain and entities and cleaning them by the order of the lowest f1 scores\n",
    "# TODO: concat all reviewed dfs and save to csv\n",
    "# TODO: add benchmark for whole NLU data set before and after cleaning! (by intents and domains!)\n",
    "# TODO: review the review marked entries\n",
    "# TODO: add new column for notes\n",
    "# TODO: change flow of review for only ones that should be reviewed, not all of the ones that have been changed (track changes by comparing against the original data set)\n",
    "# TODO: do the changed utterances have to be changed in other fields too or is it just enough for the tagged utterancve field?\n",
    "# TODO: add visualizations of domains, their intents, keywords in utterances, and entities to top\n"
   ]
  }
 ],
 "metadata": {
  "interpreter": {
   "hash": "f1ecf1ecc6a840da86e8b827c66035ad900dc97d6a10e234826dd106c37257af"
  },
  "kernelspec": {
   "display_name": "Python 3.7.7 ('.venv': venv)",
   "language": "python",
   "name": "python3"
  },
  "language_info": {
   "codemirror_mode": {
    "name": "ipython",
    "version": 3
   },
   "file_extension": ".py",
   "mimetype": "text/x-python",
   "name": "python",
   "nbconvert_exporter": "python",
   "pygments_lexer": "ipython3",
   "version": "3.7.7"
  },
  "orig_nbformat": 4
 },
 "nbformat": 4,
 "nbformat_minor": 2
}
