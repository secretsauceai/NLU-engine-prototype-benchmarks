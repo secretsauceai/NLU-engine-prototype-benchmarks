{
 "cells": [
  {
   "cell_type": "code",
   "execution_count": 1,
   "metadata": {},
   "outputs": [],
   "source": [
    "import warnings\n",
    "warnings.filterwarnings(\"ignore\", category=DeprecationWarning)\n",
    "warnings.filterwarnings(\"ignore\", category=FutureWarning)\n",
    "\n",
    "import pandas as pd\n",
    "import nltk\n",
    "\n",
    "from nlu_engine import NLUEngine\n",
    "from nlu_engine import MacroDataRefinement\n",
    "from nlu_engine import MacroEntityRefinement\n",
    "\n",
    "from nlu_engine import DataUtils\n",
    "from nlu_engine import RenderJSON\n",
    "\n",
    "from nlu_engine import Analytics\n",
    "\n",
    "from nlu_engine import EntityExtractor, crf"
   ]
  },
  {
   "cell_type": "markdown",
   "metadata": {},
   "source": [
    "# Macro NLU Data Refinement"
   ]
  },
  {
   "cell_type": "markdown",
   "metadata": {},
   "source": [
    "It's a bit like the TV show [Serverance](https://www.imdb.com/title/tt11280740/) .\n",
    "\n",
    "![Helly R and Mark S](https://media.npr.org/assets/img/2022/02/15/atv_severance_photo_010103-5f8033cc2b219ba64fe265ce893eae4c90e83896-s1100-c50.jpg \"Helly R and Mark G\")\n",
    "\n",
    "*Helly R*: `My job is to scroll through the spreadsheet and look for the numbers that feel scary?`\n",
    "\n",
    "*Mark S*: `I told you, you’ll understand when you see it, so just be patient.`\n",
    "\n",
    "![MDR](https://www.imore.com/sites/imore.com/files/styles/large/public/field/image/2022/03/refinement-software-severance-apple-tv.jpg \"serverance micro data refinement\")\n",
    "\n",
    "*Helly R*: `That was scary. The numbers were scary.`\n",
    "\n",
    "Hopefully the intents and entities that are wrong aren't scary, just a bit frustrating. Let's see if we can find the right ones.\n",
    "\n",
    "NOTE: We will use Logistic Regression with TFIDF features to train our intent models and CRFs for entity exraction. Why? Well, they are very fast and both methods aren't state-of-the-art. This is good, because it is easier to find problems we will need to refine in the dataset than if we were to use a proper NLU engine like Snips or something SOTA like BERT. It is very important to note that some of the the problems we will pick up on, might not be an actual issue, but might be due to the limitations of the models. Refining the real problems and ignoring the limitations of the models is a good way to improve the models. Then when the dataset is ready, we can use some more advanced NLU engine and get the best performance possible.\n",
    "\n",
    "* Macro NLU Data Refinement: Intent\n",
    "* Macro NLU Data Refinement: Entity\n"
   ]
  },
  {
   "cell_type": "markdown",
   "metadata": {},
   "source": [
    "Load the dataset"
   ]
  },
  {
   "cell_type": "code",
   "execution_count": 2,
   "metadata": {},
   "outputs": [
    {
     "name": "stdout",
     "output_type": "stream",
     "text": [
      "Successfully loaded nlu_data_intent_and_entity_refined_df.csv\n"
     ]
    }
   ],
   "source": [
    "try:\n",
    "    nlu_data_refined_df = pd.read_csv(\n",
    "        'data/refined/nlu_data_intent_and_entity_refined_df.csv', index_col=0)\n",
    "    print('Successfully loaded nlu_data_intent_and_entity_refined_df.csv')\n",
    "    removed_nlu_data_refined_df = nlu_data_refined_df[nlu_data_refined_df['remove'] != True]\n",
    "except:\n",
    "    nlu_data_refined_df = pd.read_csv(\n",
    "        'data/refined/nlu_data_refined_df.csv', sep=',', index_col=0)\n",
    "    print('Successfully loaded nlu_data_refined_df.csv')\n",
    "    \n",
    "    nlu_data_refined_df = DataUtils.convert_annotated_utterances_to_normalised_utterances(\n",
    "        nlu_data_refined_df)\n",
    "\n",
    "    removed_nlu_data_refined_df = nlu_data_refined_df[nlu_data_refined_df['remove'] != True]\n"
   ]
  },
  {
   "cell_type": "code",
   "execution_count": null,
   "metadata": {},
   "outputs": [],
   "source": [
    "nlu_data_refined_df"
   ]
  },
  {
   "cell_type": "code",
   "execution_count": null,
   "metadata": {},
   "outputs": [],
   "source": [
    "#TODO: does this NEED to be here, LOL!\n",
    "from matplotlib.pyplot import axis"
   ]
  },
  {
   "cell_type": "markdown",
   "metadata": {},
   "source": [
    "We should remove the unwanted entries for the next few steps."
   ]
  },
  {
   "cell_type": "markdown",
   "metadata": {},
   "source": [
    "# Entity extraction reports"
   ]
  },
  {
   "cell_type": "markdown",
   "metadata": {},
   "source": [
    "The entity extraction could be greatly improved by improving the features it uses. It would be great if someone would take a look at this. Perhaps the CRF features similar to what Snips uses would be better such as Brown clustering (probably)."
   ]
  },
  {
   "cell_type": "code",
   "execution_count": null,
   "metadata": {},
   "outputs": [],
   "source": [
    "#TODO: implement brown clustering to improve entity extraction (see entity_extractor.py)"
   ]
  },
  {
   "cell_type": "markdown",
   "metadata": {},
   "source": [
    "It is important to have the NLTK tokenizer to be able to extract entities."
   ]
  },
  {
   "cell_type": "code",
   "execution_count": null,
   "metadata": {},
   "outputs": [],
   "source": [
    "try:\n",
    "    nltk.data.find('tokenizers/punkt')\n",
    "except LookupError:\n",
    "        nltk.download('punkt')"
   ]
  },
  {
   "cell_type": "markdown",
   "metadata": {},
   "source": [
    "Due to this error featured in [this git issue](https://github.com/TeamHG-Memex/sklearn-crfsuite/issues/60) we have to use an older version of scikit learn (sklearn<0.24), otherwise the latest version would work. Hopefully this gets fixed one day.."
   ]
  },
  {
   "cell_type": "code",
   "execution_count": 23,
   "metadata": {},
   "outputs": [
    {
     "name": "stdout",
     "output_type": "stream",
     "text": [
      "Evaluating entity classifier\n",
      "Cross validating with CRF(algorithm='lbfgs', all_possible_transitions=True, c1=0.1, c2=0.1,\n",
      "    keep_tempfiles=None, max_iterations=100)\n"
     ]
    },
    {
     "name": "stderr",
     "output_type": "stream",
     "text": [
      "<string>:6: VisibleDeprecationWarning: Creating an ndarray from ragged nested sequences (which is a list-or-tuple of lists-or-tuples-or ndarrays with different lengths or shapes) is deprecated. If you meant to do this, you must specify 'dtype=object' when creating the ndarray.\n"
     ]
    },
    {
     "name": "stdout",
     "output_type": "stream",
     "text": [
      "Time it took to cross validate CRF(algorithm='lbfgs', all_possible_transitions=True, c1=0.1, c2=0.1,\n",
      "    keep_tempfiles=None, max_iterations=100): 242.6177694797516\n"
     ]
    },
    {
     "name": "stderr",
     "output_type": "stream",
     "text": [
      "/home/bartmoss/code/NLU-engine-prototype-benchmarks/.venv/lib/python3.7/site-packages/sklearn/metrics/_classification.py:1221: UndefinedMetricWarning: Precision and F-score are ill-defined and being set to 0.0 in labels with no predicted samples. Use `zero_division` parameter to control this behavior.\n",
      "  _warn_prf(average, modifier, msg_start, len(result))\n"
     ]
    }
   ],
   "source": [
    "entity_report_df = NLUEngine.evaluate_entity_classifier(\n",
    "    data_df=removed_nlu_data_refined_df, cv=4)"
   ]
  },
  {
   "cell_type": "code",
   "execution_count": null,
   "metadata": {},
   "outputs": [],
   "source": [
    "entity_report_df"
   ]
  },
  {
   "cell_type": "markdown",
   "metadata": {},
   "source": [
    "Let's have a look at the report plotted for us"
   ]
  },
  {
   "cell_type": "code",
   "execution_count": null,
   "metadata": {},
   "outputs": [],
   "source": [
    "Analytics.plot_report(entity_report_df)"
   ]
  },
  {
   "cell_type": "markdown",
   "metadata": {},
   "source": [
    "We will need to extract out the entity types from the dataset. We need this to calculate the precentage of entities, to filter out any domains that have too few entities for benchmarking by domain instead of all domains together."
   ]
  },
  {
   "cell_type": "code",
   "execution_count": 3,
   "metadata": {},
   "outputs": [],
   "source": [
    "nlu_data_refined_df['entities'] = nlu_data_refined_df['answer_annotation'].apply(\n",
    "    EntityExtractor.extract_entities)"
   ]
  },
  {
   "cell_type": "code",
   "execution_count": 4,
   "metadata": {},
   "outputs": [],
   "source": [
    "nlu_data_refined_df['entity_types'] = nlu_data_refined_df['entities'].apply(\n",
    "    EntityExtractor.extract_entity_types)"
   ]
  },
  {
   "cell_type": "code",
   "execution_count": 5,
   "metadata": {},
   "outputs": [],
   "source": [
    "#TODO: add this as a method to the entity extractor class (should I still do this? YES!)"
   ]
  },
  {
   "cell_type": "code",
   "execution_count": 6,
   "metadata": {},
   "outputs": [],
   "source": [
    "import numpy as np\n",
    "nlu_data_refined_df['entity_types'] = nlu_data_refined_df['entity_types'].apply(lambda y: np.nan if len(y)==0 else y)\n",
    "nlu_data_refined_df['entities'] = nlu_data_refined_df['entities'].apply(lambda y: np.nan if len(y)==0 else y)"
   ]
  },
  {
   "cell_type": "code",
   "execution_count": 7,
   "metadata": {},
   "outputs": [],
   "source": [
    "removed_nlu_data_refined_df = nlu_data_refined_df[nlu_data_refined_df['remove'] != True]\n"
   ]
  },
  {
   "cell_type": "code",
   "execution_count": 24,
   "metadata": {},
   "outputs": [
    {
     "name": "stdout",
     "output_type": "stream",
     "text": [
      "Evaluating entity classifier for alarm\n",
      "Evaluating entity classifier\n",
      "Cross validating with CRF(algorithm='lbfgs', all_possible_transitions=True, c1=0.1, c2=0.1,\n",
      "    keep_tempfiles=None, max_iterations=100)\n",
      "Time it took to cross validate CRF(algorithm='lbfgs', all_possible_transitions=True, c1=0.1, c2=0.1,\n",
      "    keep_tempfiles=None, max_iterations=100): 0.5360743999481201\n",
      "Evaluating entity classifier for audio\n",
      "Evaluating entity classifier\n"
     ]
    },
    {
     "name": "stderr",
     "output_type": "stream",
     "text": [
      "/home/bartmoss/code/NLU-engine-prototype-benchmarks/nlu_engine/main.py:190: SettingWithCopyWarning: \n",
      "A value is trying to be set on a copy of a slice from a DataFrame.\n",
      "Try using .loc[row_indexer,col_indexer] = value instead\n",
      "\n",
      "See the caveats in the documentation: https://pandas.pydata.org/pandas-docs/stable/user_guide/indexing.html#returning-a-view-versus-a-copy\n",
      "  domain_scores_df['domain'] = domain\n"
     ]
    },
    {
     "name": "stdout",
     "output_type": "stream",
     "text": [
      "Cross validating with CRF(algorithm='lbfgs', all_possible_transitions=True, c1=0.1, c2=0.1,\n",
      "    keep_tempfiles=None, max_iterations=100)\n",
      "Time it took to cross validate CRF(algorithm='lbfgs', all_possible_transitions=True, c1=0.1, c2=0.1,\n",
      "    keep_tempfiles=None, max_iterations=100): 0.06911921501159668\n",
      "Evaluating entity classifier for iot\n",
      "Evaluating entity classifier\n",
      "Cross validating with CRF(algorithm='lbfgs', all_possible_transitions=True, c1=0.1, c2=0.1,\n",
      "    keep_tempfiles=None, max_iterations=100)\n",
      "Time it took to cross validate CRF(algorithm='lbfgs', all_possible_transitions=True, c1=0.1, c2=0.1,\n",
      "    keep_tempfiles=None, max_iterations=100): 1.2039237022399902\n",
      "Evaluating entity classifier for calendar\n",
      "Evaluating entity classifier\n",
      "Cross validating with CRF(algorithm='lbfgs', all_possible_transitions=True, c1=0.1, c2=0.1,\n",
      "    keep_tempfiles=None, max_iterations=100)\n",
      "Time it took to cross validate CRF(algorithm='lbfgs', all_possible_transitions=True, c1=0.1, c2=0.1,\n",
      "    keep_tempfiles=None, max_iterations=100): 6.327247619628906\n",
      "Evaluating entity classifier for play\n",
      "Evaluating entity classifier\n",
      "Cross validating with CRF(algorithm='lbfgs', all_possible_transitions=True, c1=0.1, c2=0.1,\n",
      "    keep_tempfiles=None, max_iterations=100)\n",
      "Time it took to cross validate CRF(algorithm='lbfgs', all_possible_transitions=True, c1=0.1, c2=0.1,\n",
      "    keep_tempfiles=None, max_iterations=100): 5.761390686035156\n",
      "Evaluating entity classifier for general\n",
      "general has 0.9534007195477129% non-entities. It is too sparse to evaluate.\n",
      "Evaluating entity classifier for datetime\n",
      "Evaluating entity classifier\n",
      "Cross validating with CRF(algorithm='lbfgs', all_possible_transitions=True, c1=0.1, c2=0.1,\n",
      "    keep_tempfiles=None, max_iterations=100)\n",
      "Time it took to cross validate CRF(algorithm='lbfgs', all_possible_transitions=True, c1=0.1, c2=0.1,\n",
      "    keep_tempfiles=None, max_iterations=100): 0.6866157054901123\n",
      "Evaluating entity classifier for takeaway\n",
      "Evaluating entity classifier\n",
      "Cross validating with CRF(algorithm='lbfgs', all_possible_transitions=True, c1=0.1, c2=0.1,\n",
      "    keep_tempfiles=None, max_iterations=100)\n",
      "Time it took to cross validate CRF(algorithm='lbfgs', all_possible_transitions=True, c1=0.1, c2=0.1,\n",
      "    keep_tempfiles=None, max_iterations=100): 0.7446861267089844\n",
      "Evaluating entity classifier for news\n",
      "Evaluating entity classifier\n",
      "Cross validating with CRF(algorithm='lbfgs', all_possible_transitions=True, c1=0.1, c2=0.1,\n",
      "    keep_tempfiles=None, max_iterations=100)\n",
      "Time it took to cross validate CRF(algorithm='lbfgs', all_possible_transitions=True, c1=0.1, c2=0.1,\n",
      "    keep_tempfiles=None, max_iterations=100): 1.00028395652771\n",
      "Evaluating entity classifier for music\n",
      "Evaluating entity classifier\n",
      "Cross validating with CRF(algorithm='lbfgs', all_possible_transitions=True, c1=0.1, c2=0.1,\n",
      "    keep_tempfiles=None, max_iterations=100)\n",
      "Time it took to cross validate CRF(algorithm='lbfgs', all_possible_transitions=True, c1=0.1, c2=0.1,\n",
      "    keep_tempfiles=None, max_iterations=100): 0.1345055103302002\n",
      "Evaluating entity classifier for weather\n",
      "Evaluating entity classifier\n",
      "Cross validating with CRF(algorithm='lbfgs', all_possible_transitions=True, c1=0.1, c2=0.1,\n",
      "    keep_tempfiles=None, max_iterations=100)\n",
      "Time it took to cross validate CRF(algorithm='lbfgs', all_possible_transitions=True, c1=0.1, c2=0.1,\n",
      "    keep_tempfiles=None, max_iterations=100): 1.2526214122772217\n",
      "Evaluating entity classifier for qa\n",
      "Evaluating entity classifier\n",
      "Cross validating with CRF(algorithm='lbfgs', all_possible_transitions=True, c1=0.1, c2=0.1,\n",
      "    keep_tempfiles=None, max_iterations=100)\n",
      "Time it took to cross validate CRF(algorithm='lbfgs', all_possible_transitions=True, c1=0.1, c2=0.1,\n",
      "    keep_tempfiles=None, max_iterations=100): 3.120619297027588\n",
      "Evaluating entity classifier for recommendation\n",
      "Evaluating entity classifier\n",
      "Cross validating with CRF(algorithm='lbfgs', all_possible_transitions=True, c1=0.1, c2=0.1,\n",
      "    keep_tempfiles=None, max_iterations=100)\n",
      "Time it took to cross validate CRF(algorithm='lbfgs', all_possible_transitions=True, c1=0.1, c2=0.1,\n",
      "    keep_tempfiles=None, max_iterations=100): 1.074559211730957\n",
      "Evaluating entity classifier for cooking\n",
      "Evaluating entity classifier\n",
      "Cross validating with CRF(algorithm='lbfgs', all_possible_transitions=True, c1=0.1, c2=0.1,\n",
      "    keep_tempfiles=None, max_iterations=100)\n",
      "Time it took to cross validate CRF(algorithm='lbfgs', all_possible_transitions=True, c1=0.1, c2=0.1,\n",
      "    keep_tempfiles=None, max_iterations=100): 0.5290768146514893\n",
      "Evaluating entity classifier for email\n",
      "Evaluating entity classifier\n",
      "Cross validating with CRF(algorithm='lbfgs', all_possible_transitions=True, c1=0.1, c2=0.1,\n",
      "    keep_tempfiles=None, max_iterations=100)\n",
      "Time it took to cross validate CRF(algorithm='lbfgs', all_possible_transitions=True, c1=0.1, c2=0.1,\n",
      "    keep_tempfiles=None, max_iterations=100): 3.156578302383423\n",
      "Evaluating entity classifier for transport\n",
      "Evaluating entity classifier\n",
      "Cross validating with CRF(algorithm='lbfgs', all_possible_transitions=True, c1=0.1, c2=0.1,\n",
      "    keep_tempfiles=None, max_iterations=100)\n",
      "Time it took to cross validate CRF(algorithm='lbfgs', all_possible_transitions=True, c1=0.1, c2=0.1,\n",
      "    keep_tempfiles=None, max_iterations=100): 2.275449514389038\n",
      "Evaluating entity classifier for lists\n",
      "Evaluating entity classifier\n",
      "Cross validating with CRF(algorithm='lbfgs', all_possible_transitions=True, c1=0.1, c2=0.1,\n",
      "    keep_tempfiles=None, max_iterations=100)\n",
      "Time it took to cross validate CRF(algorithm='lbfgs', all_possible_transitions=True, c1=0.1, c2=0.1,\n",
      "    keep_tempfiles=None, max_iterations=100): 0.8082947731018066\n"
     ]
    }
   ],
   "source": [
    "domain_entity_reports_df = NLUEngine.get_entity_reports_for_domains(removed_nlu_data_refined_df)"
   ]
  },
  {
   "cell_type": "code",
   "execution_count": 25,
   "metadata": {},
   "outputs": [],
   "source": [
    "domain_entity_reports_df = domain_entity_reports_df[domain_entity_reports_df['entity-type'].str.contains(\n",
    "    'weighted avg')].sort_values(by='f1-score', ascending=True)"
   ]
  },
  {
   "cell_type": "code",
   "execution_count": 26,
   "metadata": {},
   "outputs": [
    {
     "data": {
      "text/html": [
       "<div>\n",
       "<style scoped>\n",
       "    .dataframe tbody tr th:only-of-type {\n",
       "        vertical-align: middle;\n",
       "    }\n",
       "\n",
       "    .dataframe tbody tr th {\n",
       "        vertical-align: top;\n",
       "    }\n",
       "\n",
       "    .dataframe thead th {\n",
       "        text-align: right;\n",
       "    }\n",
       "</style>\n",
       "<table border=\"1\" class=\"dataframe\">\n",
       "  <thead>\n",
       "    <tr style=\"text-align: right;\">\n",
       "      <th></th>\n",
       "      <th>entity-type</th>\n",
       "      <th>precision</th>\n",
       "      <th>recall</th>\n",
       "      <th>f1-score</th>\n",
       "      <th>support</th>\n",
       "      <th>domain</th>\n",
       "    </tr>\n",
       "  </thead>\n",
       "  <tbody>\n",
       "    <tr>\n",
       "      <th>27</th>\n",
       "      <td>weighted avg</td>\n",
       "      <td>0.644421</td>\n",
       "      <td>0.685911</td>\n",
       "      <td>0.659549</td>\n",
       "      <td>11051.0</td>\n",
       "      <td>play</td>\n",
       "    </tr>\n",
       "    <tr>\n",
       "      <th>14</th>\n",
       "      <td>weighted avg</td>\n",
       "      <td>0.684923</td>\n",
       "      <td>0.782016</td>\n",
       "      <td>0.725743</td>\n",
       "      <td>367.0</td>\n",
       "      <td>music</td>\n",
       "    </tr>\n",
       "    <tr>\n",
       "      <th>16</th>\n",
       "      <td>weighted avg</td>\n",
       "      <td>0.838414</td>\n",
       "      <td>0.846966</td>\n",
       "      <td>0.839535</td>\n",
       "      <td>2274.0</td>\n",
       "      <td>takeaway</td>\n",
       "    </tr>\n",
       "    <tr>\n",
       "      <th>18</th>\n",
       "      <td>weighted avg</td>\n",
       "      <td>0.844779</td>\n",
       "      <td>0.866175</td>\n",
       "      <td>0.852882</td>\n",
       "      <td>3527.0</td>\n",
       "      <td>recommendation</td>\n",
       "    </tr>\n",
       "    <tr>\n",
       "      <th>20</th>\n",
       "      <td>weighted avg</td>\n",
       "      <td>0.884246</td>\n",
       "      <td>0.888836</td>\n",
       "      <td>0.885063</td>\n",
       "      <td>18819.0</td>\n",
       "      <td>calendar</td>\n",
       "    </tr>\n",
       "    <tr>\n",
       "      <th>12</th>\n",
       "      <td>weighted avg</td>\n",
       "      <td>0.890012</td>\n",
       "      <td>0.892921</td>\n",
       "      <td>0.888886</td>\n",
       "      <td>4492.0</td>\n",
       "      <td>news</td>\n",
       "    </tr>\n",
       "    <tr>\n",
       "      <th>18</th>\n",
       "      <td>weighted avg</td>\n",
       "      <td>0.881286</td>\n",
       "      <td>0.900264</td>\n",
       "      <td>0.889026</td>\n",
       "      <td>2647.0</td>\n",
       "      <td>lists</td>\n",
       "    </tr>\n",
       "    <tr>\n",
       "      <th>16</th>\n",
       "      <td>weighted avg</td>\n",
       "      <td>0.878675</td>\n",
       "      <td>0.905823</td>\n",
       "      <td>0.890492</td>\n",
       "      <td>1975.0</td>\n",
       "      <td>cooking</td>\n",
       "    </tr>\n",
       "    <tr>\n",
       "      <th>11</th>\n",
       "      <td>weighted avg</td>\n",
       "      <td>0.909339</td>\n",
       "      <td>0.915642</td>\n",
       "      <td>0.912069</td>\n",
       "      <td>6508.0</td>\n",
       "      <td>weather</td>\n",
       "    </tr>\n",
       "    <tr>\n",
       "      <th>17</th>\n",
       "      <td>weighted avg</td>\n",
       "      <td>0.915545</td>\n",
       "      <td>0.921031</td>\n",
       "      <td>0.916768</td>\n",
       "      <td>4850.0</td>\n",
       "      <td>iot</td>\n",
       "    </tr>\n",
       "    <tr>\n",
       "      <th>9</th>\n",
       "      <td>weighted avg</td>\n",
       "      <td>0.919165</td>\n",
       "      <td>0.922014</td>\n",
       "      <td>0.918569</td>\n",
       "      <td>4052.0</td>\n",
       "      <td>datetime</td>\n",
       "    </tr>\n",
       "    <tr>\n",
       "      <th>18</th>\n",
       "      <td>weighted avg</td>\n",
       "      <td>0.918154</td>\n",
       "      <td>0.925614</td>\n",
       "      <td>0.919751</td>\n",
       "      <td>6762.0</td>\n",
       "      <td>transport</td>\n",
       "    </tr>\n",
       "    <tr>\n",
       "      <th>7</th>\n",
       "      <td>weighted avg</td>\n",
       "      <td>0.919051</td>\n",
       "      <td>0.921739</td>\n",
       "      <td>0.920187</td>\n",
       "      <td>345.0</td>\n",
       "      <td>audio</td>\n",
       "    </tr>\n",
       "    <tr>\n",
       "      <th>19</th>\n",
       "      <td>weighted avg</td>\n",
       "      <td>0.918911</td>\n",
       "      <td>0.923835</td>\n",
       "      <td>0.920545</td>\n",
       "      <td>10661.0</td>\n",
       "      <td>qa</td>\n",
       "    </tr>\n",
       "    <tr>\n",
       "      <th>21</th>\n",
       "      <td>weighted avg</td>\n",
       "      <td>0.929788</td>\n",
       "      <td>0.935575</td>\n",
       "      <td>0.931526</td>\n",
       "      <td>9251.0</td>\n",
       "      <td>email</td>\n",
       "    </tr>\n",
       "    <tr>\n",
       "      <th>12</th>\n",
       "      <td>weighted avg</td>\n",
       "      <td>0.949521</td>\n",
       "      <td>0.950988</td>\n",
       "      <td>0.944100</td>\n",
       "      <td>2530.0</td>\n",
       "      <td>alarm</td>\n",
       "    </tr>\n",
       "  </tbody>\n",
       "</table>\n",
       "</div>"
      ],
      "text/plain": [
       "     entity-type  precision    recall  f1-score  support          domain\n",
       "27  weighted avg   0.644421  0.685911  0.659549  11051.0            play\n",
       "14  weighted avg   0.684923  0.782016  0.725743    367.0           music\n",
       "16  weighted avg   0.838414  0.846966  0.839535   2274.0        takeaway\n",
       "18  weighted avg   0.844779  0.866175  0.852882   3527.0  recommendation\n",
       "20  weighted avg   0.884246  0.888836  0.885063  18819.0        calendar\n",
       "12  weighted avg   0.890012  0.892921  0.888886   4492.0            news\n",
       "18  weighted avg   0.881286  0.900264  0.889026   2647.0           lists\n",
       "16  weighted avg   0.878675  0.905823  0.890492   1975.0         cooking\n",
       "11  weighted avg   0.909339  0.915642  0.912069   6508.0         weather\n",
       "17  weighted avg   0.915545  0.921031  0.916768   4850.0             iot\n",
       "9   weighted avg   0.919165  0.922014  0.918569   4052.0        datetime\n",
       "18  weighted avg   0.918154  0.925614  0.919751   6762.0       transport\n",
       "7   weighted avg   0.919051  0.921739  0.920187    345.0           audio\n",
       "19  weighted avg   0.918911  0.923835  0.920545  10661.0              qa\n",
       "21  weighted avg   0.929788  0.935575  0.931526   9251.0           email\n",
       "12  weighted avg   0.949521  0.950988  0.944100   2530.0           alarm"
      ]
     },
     "execution_count": 26,
     "metadata": {},
     "output_type": "execute_result"
    }
   ],
   "source": [
    "domain_entity_reports_df"
   ]
  },
  {
   "cell_type": "code",
   "execution_count": 30,
   "metadata": {},
   "outputs": [],
   "source": [
    "import matplotlib.pyplot as plt"
   ]
  },
  {
   "cell_type": "code",
   "execution_count": null,
   "metadata": {},
   "outputs": [],
   "source": [
    "#TODO: rename plot_report to plot_intent_report and this code below should be a method called plot_entity_report\n",
    "label = domain_entity_reports_df.columns[5]\n",
    "\n",
    "fig, ax = plt.subplots()\n",
    "graph_report_df = domain_entity_reports_df.sort_values(\n",
    "            by='f1-score', ascending=True)\n",
    "y_axis = np.arange(len(graph_report_df[label]))\n",
    "\n",
    "ax.barh(y_axis, graph_report_df['f1-score'],\n",
    "        align='center', color='b')\n",
    "\n",
    "fig.set_figheight(16)\n",
    "fig.set_figwidth(12)\n",
    "\n",
    "ax.set_title(f'f1-scores by {label}', fontsize=24)\n",
    "ax.set_xlabel(\"f1-score\", fontsize=18)\n",
    "ax.tick_params(axis='x', labelsize=18)\n",
    "ax.set_ylabel(label, fontsize=18)\n",
    "ax.set_yticks(y_axis, graph_report_df[label], fontsize=16)\n",
    "fig.tight_layout()"
   ]
  },
  {
   "cell_type": "markdown",
   "metadata": {},
   "source": [
    "## entity classification \n",
    "\n",
    "We can get the `predicted_tagging` and find all of the entities that are being incorrectly classified."
   ]
  },
  {
   "cell_type": "markdown",
   "metadata": {},
   "source": [
    "If you don't already have a saved model (for the default data set there is already one), you can train a model and save it."
   ]
  },
  {
   "cell_type": "code",
   "execution_count": null,
   "metadata": {},
   "outputs": [],
   "source": [
    "crf_model = NLUEngine.train_entity_classifier(removed_nlu_data_refined_df)"
   ]
  },
  {
   "cell_type": "code",
   "execution_count": null,
   "metadata": {},
   "outputs": [],
   "source": [
    "model_path = 'models/analytics/entity_tagger.sav'"
   ]
  },
  {
   "cell_type": "code",
   "execution_count": null,
   "metadata": {},
   "outputs": [],
   "source": [
    "DataUtils.pickle_model(classifier=crf_model, model_path=model_path)"
   ]
  },
  {
   "cell_type": "markdown",
   "metadata": {},
   "source": [
    "You can open it from here."
   ]
  },
  {
   "cell_type": "code",
   "execution_count": 8,
   "metadata": {},
   "outputs": [],
   "source": [
    "model_path = 'models/analytics/entity_tagger.sav'"
   ]
  },
  {
   "cell_type": "code",
   "execution_count": 9,
   "metadata": {},
   "outputs": [],
   "source": [
    "crf_model = DataUtils.import_pickled_model(model_path)"
   ]
  },
  {
   "cell_type": "markdown",
   "metadata": {},
   "source": [
    "Now, let's run it across our data set to get the `predicted_tagging`."
   ]
  },
  {
   "cell_type": "code",
   "execution_count": 10,
   "metadata": {},
   "outputs": [],
   "source": [
    "nlu_data_refined_df['predicted_tagging'] = nlu_data_refined_df['answer_normalised'].apply(\n",
    "    lambda x: NLUEngine.create_entity_tagged_utterance(x, crf_model))"
   ]
  },
  {
   "cell_type": "code",
   "execution_count": 11,
   "metadata": {},
   "outputs": [],
   "source": [
    "removed_nlu_data_refined_df = nlu_data_refined_df[nlu_data_refined_df['remove'] != True]"
   ]
  },
  {
   "cell_type": "markdown",
   "metadata": {},
   "source": [
    "We can now load a dataset of all of the incorrectly predicted entities."
   ]
  },
  {
   "cell_type": "code",
   "execution_count": 9,
   "metadata": {},
   "outputs": [
    {
     "ename": "KeyError",
     "evalue": "'predicted_tagging'",
     "output_type": "error",
     "traceback": [
      "\u001b[0;31m---------------------------------------------------------------------------\u001b[0m",
      "\u001b[0;31mKeyError\u001b[0m                                  Traceback (most recent call last)",
      "\u001b[0;32m~/code/NLU-engine-prototype-benchmarks/.venv/lib/python3.7/site-packages/pandas/core/indexes/base.py\u001b[0m in \u001b[0;36mget_loc\u001b[0;34m(self, key, method, tolerance)\u001b[0m\n\u001b[1;32m   3360\u001b[0m             \u001b[0;32mtry\u001b[0m\u001b[0;34m:\u001b[0m\u001b[0;34m\u001b[0m\u001b[0;34m\u001b[0m\u001b[0m\n\u001b[0;32m-> 3361\u001b[0;31m                 \u001b[0;32mreturn\u001b[0m \u001b[0mself\u001b[0m\u001b[0;34m.\u001b[0m\u001b[0m_engine\u001b[0m\u001b[0;34m.\u001b[0m\u001b[0mget_loc\u001b[0m\u001b[0;34m(\u001b[0m\u001b[0mcasted_key\u001b[0m\u001b[0;34m)\u001b[0m\u001b[0;34m\u001b[0m\u001b[0;34m\u001b[0m\u001b[0m\n\u001b[0m\u001b[1;32m   3362\u001b[0m             \u001b[0;32mexcept\u001b[0m \u001b[0mKeyError\u001b[0m \u001b[0;32mas\u001b[0m \u001b[0merr\u001b[0m\u001b[0;34m:\u001b[0m\u001b[0;34m\u001b[0m\u001b[0;34m\u001b[0m\u001b[0m\n",
      "\u001b[0;32m~/code/NLU-engine-prototype-benchmarks/.venv/lib/python3.7/site-packages/pandas/_libs/index.pyx\u001b[0m in \u001b[0;36mpandas._libs.index.IndexEngine.get_loc\u001b[0;34m()\u001b[0m\n",
      "\u001b[0;32m~/code/NLU-engine-prototype-benchmarks/.venv/lib/python3.7/site-packages/pandas/_libs/index.pyx\u001b[0m in \u001b[0;36mpandas._libs.index.IndexEngine.get_loc\u001b[0;34m()\u001b[0m\n",
      "\u001b[0;32mpandas/_libs/hashtable_class_helper.pxi\u001b[0m in \u001b[0;36mpandas._libs.hashtable.PyObjectHashTable.get_item\u001b[0;34m()\u001b[0m\n",
      "\u001b[0;32mpandas/_libs/hashtable_class_helper.pxi\u001b[0m in \u001b[0;36mpandas._libs.hashtable.PyObjectHashTable.get_item\u001b[0;34m()\u001b[0m\n",
      "\u001b[0;31mKeyError\u001b[0m: 'predicted_tagging'",
      "\nThe above exception was the direct cause of the following exception:\n",
      "\u001b[0;31mKeyError\u001b[0m                                  Traceback (most recent call last)",
      "\u001b[0;32m/tmp/ipykernel_416602/2386320060.py\u001b[0m in \u001b[0;36m<module>\u001b[0;34m\u001b[0m\n\u001b[1;32m      1\u001b[0m \u001b[0;31m#TODO: I might move this out since it is only being done after the overlapping entities have been removed\u001b[0m\u001b[0;34m\u001b[0m\u001b[0;34m\u001b[0m\u001b[0;34m\u001b[0m\u001b[0m\n\u001b[1;32m      2\u001b[0m incorrect_predicted_entities_df = removed_nlu_data_refined_df[removed_nlu_data_refined_df['answer_annotation']\n\u001b[0;32m----> 3\u001b[0;31m                             != removed_nlu_data_refined_df['predicted_tagging']]\n\u001b[0m",
      "\u001b[0;32m~/code/NLU-engine-prototype-benchmarks/.venv/lib/python3.7/site-packages/pandas/core/frame.py\u001b[0m in \u001b[0;36m__getitem__\u001b[0;34m(self, key)\u001b[0m\n\u001b[1;32m   3456\u001b[0m             \u001b[0;32mif\u001b[0m \u001b[0mself\u001b[0m\u001b[0;34m.\u001b[0m\u001b[0mcolumns\u001b[0m\u001b[0;34m.\u001b[0m\u001b[0mnlevels\u001b[0m \u001b[0;34m>\u001b[0m \u001b[0;36m1\u001b[0m\u001b[0;34m:\u001b[0m\u001b[0;34m\u001b[0m\u001b[0;34m\u001b[0m\u001b[0m\n\u001b[1;32m   3457\u001b[0m                 \u001b[0;32mreturn\u001b[0m \u001b[0mself\u001b[0m\u001b[0;34m.\u001b[0m\u001b[0m_getitem_multilevel\u001b[0m\u001b[0;34m(\u001b[0m\u001b[0mkey\u001b[0m\u001b[0;34m)\u001b[0m\u001b[0;34m\u001b[0m\u001b[0;34m\u001b[0m\u001b[0m\n\u001b[0;32m-> 3458\u001b[0;31m             \u001b[0mindexer\u001b[0m \u001b[0;34m=\u001b[0m \u001b[0mself\u001b[0m\u001b[0;34m.\u001b[0m\u001b[0mcolumns\u001b[0m\u001b[0;34m.\u001b[0m\u001b[0mget_loc\u001b[0m\u001b[0;34m(\u001b[0m\u001b[0mkey\u001b[0m\u001b[0;34m)\u001b[0m\u001b[0;34m\u001b[0m\u001b[0;34m\u001b[0m\u001b[0m\n\u001b[0m\u001b[1;32m   3459\u001b[0m             \u001b[0;32mif\u001b[0m \u001b[0mis_integer\u001b[0m\u001b[0;34m(\u001b[0m\u001b[0mindexer\u001b[0m\u001b[0;34m)\u001b[0m\u001b[0;34m:\u001b[0m\u001b[0;34m\u001b[0m\u001b[0;34m\u001b[0m\u001b[0m\n\u001b[1;32m   3460\u001b[0m                 \u001b[0mindexer\u001b[0m \u001b[0;34m=\u001b[0m \u001b[0;34m[\u001b[0m\u001b[0mindexer\u001b[0m\u001b[0;34m]\u001b[0m\u001b[0;34m\u001b[0m\u001b[0;34m\u001b[0m\u001b[0m\n",
      "\u001b[0;32m~/code/NLU-engine-prototype-benchmarks/.venv/lib/python3.7/site-packages/pandas/core/indexes/base.py\u001b[0m in \u001b[0;36mget_loc\u001b[0;34m(self, key, method, tolerance)\u001b[0m\n\u001b[1;32m   3361\u001b[0m                 \u001b[0;32mreturn\u001b[0m \u001b[0mself\u001b[0m\u001b[0;34m.\u001b[0m\u001b[0m_engine\u001b[0m\u001b[0;34m.\u001b[0m\u001b[0mget_loc\u001b[0m\u001b[0;34m(\u001b[0m\u001b[0mcasted_key\u001b[0m\u001b[0;34m)\u001b[0m\u001b[0;34m\u001b[0m\u001b[0;34m\u001b[0m\u001b[0m\n\u001b[1;32m   3362\u001b[0m             \u001b[0;32mexcept\u001b[0m \u001b[0mKeyError\u001b[0m \u001b[0;32mas\u001b[0m \u001b[0merr\u001b[0m\u001b[0;34m:\u001b[0m\u001b[0;34m\u001b[0m\u001b[0;34m\u001b[0m\u001b[0m\n\u001b[0;32m-> 3363\u001b[0;31m                 \u001b[0;32mraise\u001b[0m \u001b[0mKeyError\u001b[0m\u001b[0;34m(\u001b[0m\u001b[0mkey\u001b[0m\u001b[0;34m)\u001b[0m \u001b[0;32mfrom\u001b[0m \u001b[0merr\u001b[0m\u001b[0;34m\u001b[0m\u001b[0;34m\u001b[0m\u001b[0m\n\u001b[0m\u001b[1;32m   3364\u001b[0m \u001b[0;34m\u001b[0m\u001b[0m\n\u001b[1;32m   3365\u001b[0m         \u001b[0;32mif\u001b[0m \u001b[0mis_scalar\u001b[0m\u001b[0;34m(\u001b[0m\u001b[0mkey\u001b[0m\u001b[0;34m)\u001b[0m \u001b[0;32mand\u001b[0m \u001b[0misna\u001b[0m\u001b[0;34m(\u001b[0m\u001b[0mkey\u001b[0m\u001b[0;34m)\u001b[0m \u001b[0;32mand\u001b[0m \u001b[0;32mnot\u001b[0m \u001b[0mself\u001b[0m\u001b[0;34m.\u001b[0m\u001b[0mhasnans\u001b[0m\u001b[0;34m:\u001b[0m\u001b[0;34m\u001b[0m\u001b[0;34m\u001b[0m\u001b[0m\n",
      "\u001b[0;31mKeyError\u001b[0m: 'predicted_tagging'"
     ]
    }
   ],
   "source": [
    "#TODO: I might move this out since it is only being done after the overlapping entities have been removed\n",
    "incorrect_predicted_entities_df = removed_nlu_data_refined_df[removed_nlu_data_refined_df['answer_annotation']\n",
    "                            != removed_nlu_data_refined_df['predicted_tagging']]"
   ]
  },
  {
   "cell_type": "code",
   "execution_count": null,
   "metadata": {},
   "outputs": [],
   "source": [
    "incorrect_predicted_entities_df"
   ]
  },
  {
   "cell_type": "markdown",
   "metadata": {},
   "source": [
    "# Domain specific entity analysis"
   ]
  },
  {
   "cell_type": "markdown",
   "metadata": {},
   "source": [
    "For a new domain start here!\n",
    "\n",
    "Pick a domain to start."
   ]
  },
  {
   "cell_type": "code",
   "execution_count": 20,
   "metadata": {},
   "outputs": [],
   "source": [
    "domain_selection = MacroDataRefinement.list_and_select_domain(\n",
    "    removed_nlu_data_refined_df)"
   ]
  },
  {
   "cell_type": "code",
   "execution_count": 21,
   "metadata": {},
   "outputs": [
    {
     "name": "stdout",
     "output_type": "stream",
     "text": [
      "Successfully loaded dataframe\n"
     ]
    }
   ],
   "source": [
    "domain_df = DataUtils.get_domain_df(\n",
    "    removed_nlu_data_refined_df, domain_selection)"
   ]
  },
  {
   "cell_type": "code",
   "execution_count": null,
   "metadata": {},
   "outputs": [],
   "source": [
    "domain_df"
   ]
  },
  {
   "cell_type": "markdown",
   "metadata": {},
   "source": [
    "Incorrectly predicted entities report"
   ]
  },
  {
   "cell_type": "code",
   "execution_count": 27,
   "metadata": {},
   "outputs": [
    {
     "name": "stdout",
     "output_type": "stream",
     "text": [
      "Entity type: person\n",
      "Correct entities: 1\n",
      "Incorrect entities: 0\n",
      "Total entities: 1\n",
      "Entity type: timeofday\n",
      "Correct entities: 1\n",
      "Incorrect entities: 0\n",
      "Total entities: 1\n",
      "Entity type: change_amount\n",
      "Correct entities: 26\n",
      "Incorrect entities: 2\n",
      "Total entities: 28\n",
      "Entity type: player_setting\n",
      "Correct entities: 1\n",
      "Incorrect entities: 0\n",
      "Total entities: 1\n",
      "Entity type: date\n",
      "Correct entities: 4\n",
      "Incorrect entities: 1\n",
      "Total entities: 5\n",
      "Entity type: house_place\n",
      "Correct entities: 261\n",
      "Incorrect entities: 39\n",
      "Total entities: 300\n",
      "Entity type: place_name\n",
      "Correct entities: 0\n",
      "Incorrect entities: 1\n",
      "Total entities: 1\n",
      "Entity type: device_type\n",
      "Correct entities: 305\n",
      "Incorrect entities: 47\n",
      "Total entities: 352\n",
      "Entity type: time\n",
      "Correct entities: 28\n",
      "Incorrect entities: 14\n",
      "Total entities: 42\n",
      "Entity type: general_frequency\n",
      "Correct entities: 0\n",
      "Incorrect entities: 3\n",
      "Total entities: 3\n",
      "Entity type: color_type\n",
      "Correct entities: 126\n",
      "Incorrect entities: 19\n",
      "Total entities: 145\n",
      "Entity type: business_name\n",
      "Correct entities: 0\n",
      "Incorrect entities: 1\n",
      "Total entities: 1\n",
      "Entity type: business_type\n",
      "Correct entities: 0\n",
      "Incorrect entities: 2\n",
      "Total entities: 2\n",
      "Entity type: relation\n",
      "Correct entities: 0\n",
      "Incorrect entities: 1\n",
      "Total entities: 1\n",
      "Entity type: coffee_type\n",
      "Correct entities: 24\n",
      "Incorrect entities: 8\n",
      "Total entities: 32\n"
     ]
    }
   ],
   "source": [
    "incorrect_predicted_entities_report = MacroEntityRefinement.get_incorrect_predicted_entities_report(\n",
    "    domain_df, entity_report_df, domain_entity_reports_df)"
   ]
  },
  {
   "cell_type": "markdown",
   "metadata": {},
   "source": [
    "Let's have a better look at this report of incorrectly predicted entities."
   ]
  },
  {
   "cell_type": "code",
   "execution_count": null,
   "metadata": {},
   "outputs": [],
   "source": [
    "RenderJSON(incorrect_predicted_entities_report)"
   ]
  },
  {
   "cell_type": "code",
   "execution_count": null,
   "metadata": {},
   "outputs": [],
   "source": [
    "# TODO: add next two cells to a method"
   ]
  },
  {
   "cell_type": "code",
   "execution_count": 28,
   "metadata": {},
   "outputs": [],
   "source": [
    "entity_f1_scores = [incorrect_predicted_entities_report[entity]['f1-score']\n",
    "                    for entity in incorrect_predicted_entities_report.keys()]\n",
    "entity_counts = [incorrect_predicted_entities_report[entity]['total_count']\n",
    "                 for entity in incorrect_predicted_entities_report.keys()]\n",
    "entity_types = [entity for entity in incorrect_predicted_entities_report.keys()]"
   ]
  },
  {
   "cell_type": "code",
   "execution_count": 31,
   "metadata": {},
   "outputs": [
    {
     "data": {
      "image/png": "[encoded data removed]",
      "text/plain": [
       "<Figure size 1152x576 with 2 Axes>"
      ]
     },
     "metadata": {
      "needs_background": "light"
     },
     "output_type": "display_data"
    }
   ],
   "source": [
    "# create a graph of subplots with two columns: the subplot on the left is a graph of entities by total count, the subplot on the right is entities by f1-score\n",
    "fig, (ax1, ax2) = plt.subplots(1, 2, figsize=(16, 8))\n",
    "\n",
    "# plot the entities by total count\n",
    "ax1.barh(entity_types, entity_counts, align='center', color='b')\n",
    "ax1.set_title('Entities by total count', fontsize=24)\n",
    "ax1.set_xlabel(\"Total count\", fontsize=18)\n",
    "ax1.tick_params(axis='x', labelsize=18)\n",
    "ax1.set_ylabel(\"Entity\", fontsize=18)\n",
    "ax1.set_yticks(entity_types, fontsize=16)\n",
    "\n",
    "# plot the entities by f1-score\n",
    "ax2.barh(entity_types, entity_f1_scores, align='center', color='b')\n",
    "ax2.set_title('Entities by f1-score', fontsize=24)\n",
    "ax2.set_xlabel(\"f1-score\", fontsize=18)\n",
    "ax2.tick_params(axis='x', labelsize=18)\n",
    "ax2.set_ylabel(\"Entity\", fontsize=18)\n",
    "ax2.set_yticks(entity_types, fontsize=16)\n",
    "\n",
    "fig.tight_layout()"
   ]
  },
  {
   "cell_type": "markdown",
   "metadata": {},
   "source": [
    "## Refine sparse entity types\n",
    "\n",
    "In this step, we will look at the sparse entity types and select the ones we want to remove or untag."
   ]
  },
  {
   "cell_type": "code",
   "execution_count": 52,
   "metadata": {},
   "outputs": [],
   "source": [
    "#TODO: add this to a method"
   ]
  },
  {
   "cell_type": "code",
   "execution_count": null,
   "metadata": {},
   "outputs": [],
   "source": [
    "entity_types_and_counts = zip(entity_types, entity_counts)"
   ]
  },
  {
   "cell_type": "code",
   "execution_count": null,
   "metadata": {},
   "outputs": [],
   "source": [
    "# arrange the entities in entity_types by total count in ascending order\n",
    "entity_types_and_counts = sorted(entity_types_and_counts, key=lambda x: x[1])\n",
    "\n",
    "# create a list of the entities in entity_types in ascending order of total count\n",
    "entity_types = [entity_type for entity_type, count in entity_types_and_counts]\n",
    "\n",
    "# create a list of the total counts of the entities in entity_types in ascending order of total count\n",
    "entity_counts = [count for entity_type, count in entity_types_and_counts]\n",
    "\n",
    "# refactor above code to be more compact\n"
   ]
  },
  {
   "cell_type": "code",
   "execution_count": 34,
   "metadata": {},
   "outputs": [],
   "source": [
    "sorted_entity_types = [entity_type for entity_type, count in sorted(\n",
    "    zip(entity_types, entity_counts), key=lambda x: x[1])]\n",
    "sorted_entity_counts = [count for entity_type, count in sorted(\n",
    "    zip(entity_types, entity_counts), key=lambda x: x[1])]\n",
    "sorted_entity_types_and_counts = zip(\n",
    "    sorted_entity_types, sorted_entity_counts)"
   ]
  },
  {
   "cell_type": "code",
   "execution_count": 35,
   "metadata": {},
   "outputs": [],
   "source": [
    "# From sorted_entity_types get all entities with less than 5 total count and output a dataframe of entries in domain_df with those entities\n",
    "\n",
    "def get_entries_with_sparse_total(domain_df, sorted_entity_types_and_counts):\n",
    "    entity_types_with_sparse_total = []\n",
    "    entity_counts_with_sparse_total = []\n",
    "    for entity_type, entity_count in sorted_entity_types_and_counts:\n",
    "        if entity_count < 5:\n",
    "            print(f'Entity type: {entity_type}, Total count: {entity_count}')\n",
    "            entity_types_with_sparse_total.append(entity_type)\n",
    "            entity_counts_with_sparse_total.append(entity_count)\n",
    "    if len(entity_types_with_sparse_total) > 0:\n",
    "        sparse_total_df = pd.DataFrame(\n",
    "            {\n",
    "                'entity_type': entity_types_with_sparse_total,\n",
    "                'total_count': entity_counts_with_sparse_total\n",
    "                })\n",
    "        sparse_entity_entries_df = domain_df[domain_df['entity_types'].str.contains(\n",
    "            ('|').join(entity_types_with_sparse_total), na=False)]\n",
    "        return sparse_total_df, sparse_entity_entries_df\n",
    "    else: \n",
    "        return None\n"
   ]
  },
  {
   "cell_type": "code",
   "execution_count": 36,
   "metadata": {},
   "outputs": [
    {
     "name": "stdout",
     "output_type": "stream",
     "text": [
      "Entity type: person, Total count: 1\n",
      "Entity type: timeofday, Total count: 1\n",
      "Entity type: player_setting, Total count: 1\n",
      "Entity type: place_name, Total count: 1\n",
      "Entity type: business_name, Total count: 1\n",
      "Entity type: relation, Total count: 1\n",
      "Entity type: business_type, Total count: 2\n",
      "Entity type: general_frequency, Total count: 3\n"
     ]
    },
    {
     "data": {
      "text/html": [
       "<div>\n",
       "<style scoped>\n",
       "    .dataframe tbody tr th:only-of-type {\n",
       "        vertical-align: middle;\n",
       "    }\n",
       "\n",
       "    .dataframe tbody tr th {\n",
       "        vertical-align: top;\n",
       "    }\n",
       "\n",
       "    .dataframe thead th {\n",
       "        text-align: right;\n",
       "    }\n",
       "</style>\n",
       "<table border=\"1\" class=\"dataframe\">\n",
       "  <thead>\n",
       "    <tr style=\"text-align: right;\">\n",
       "      <th></th>\n",
       "      <th>question</th>\n",
       "      <th>answer_normalised</th>\n",
       "      <th>scenario</th>\n",
       "      <th>intent</th>\n",
       "      <th>predicted_label</th>\n",
       "      <th>answer_annotation</th>\n",
       "      <th>entities</th>\n",
       "      <th>entity_types</th>\n",
       "      <th>predicted_tagging</th>\n",
       "    </tr>\n",
       "  </thead>\n",
       "  <tbody>\n",
       "    <tr>\n",
       "      <th>392</th>\n",
       "      <td>Write what you would tell your PDA in the foll...</td>\n",
       "      <td>can you shuffle the light colors in the house</td>\n",
       "      <td>iot</td>\n",
       "      <td>hue_lightchange</td>\n",
       "      <td>hue_lightchange</td>\n",
       "      <td>can you [player_setting : shuffle] the light c...</td>\n",
       "      <td>[{'type': 'player_setting', 'words': ['shuffle...</td>\n",
       "      <td>player_setting,house_place</td>\n",
       "      <td>can you [player_setting : shuffle] the light c...</td>\n",
       "    </tr>\n",
       "    <tr>\n",
       "      <th>850</th>\n",
       "      <td>How would you ask your PDA to make you a coffee?</td>\n",
       "      <td>brew coffee at noon</td>\n",
       "      <td>iot</td>\n",
       "      <td>coffee</td>\n",
       "      <td>coffee</td>\n",
       "      <td>brew coffee at [timeofday : noon]</td>\n",
       "      <td>[{'type': 'timeofday', 'words': ['noon']}]</td>\n",
       "      <td>timeofday</td>\n",
       "      <td>brew coffee at [timeofday : noon]</td>\n",
       "    </tr>\n",
       "    <tr>\n",
       "      <th>1843</th>\n",
       "      <td>Write what you would tell your PDA in the foll...</td>\n",
       "      <td>start my robot vacuum cleaner by ten to eleven...</td>\n",
       "      <td>iot</td>\n",
       "      <td>cleaning</td>\n",
       "      <td>cleaning</td>\n",
       "      <td>start my [device_type : robot vacuum cleaner] ...</td>\n",
       "      <td>[{'type': 'device_type', 'words': ['robot', 'v...</td>\n",
       "      <td>device_type,time,time,general_frequency</td>\n",
       "      <td>start my [device_type : robot vacuum cleaner] ...</td>\n",
       "    </tr>\n",
       "    <tr>\n",
       "      <th>1844</th>\n",
       "      <td>Write what you would tell your PDA in the foll...</td>\n",
       "      <td>by ten to eleven am daily start my vacuum cleaner</td>\n",
       "      <td>iot</td>\n",
       "      <td>cleaning</td>\n",
       "      <td>cleaning</td>\n",
       "      <td>by [time : ten] to [time : eleven am] [general...</td>\n",
       "      <td>[{'type': 'time', 'words': ['ten']}, {'type': ...</td>\n",
       "      <td>time,time,general_frequency,device_type</td>\n",
       "      <td>by [time : ten to eleven am] [general_frequenc...</td>\n",
       "    </tr>\n",
       "    <tr>\n",
       "      <th>1845</th>\n",
       "      <td>Write what you would tell your PDA in the foll...</td>\n",
       "      <td>my vacuum cleaner should start between ten to ...</td>\n",
       "      <td>iot</td>\n",
       "      <td>cleaning</td>\n",
       "      <td>cleaning</td>\n",
       "      <td>my [device_type : vacuum cleaner] should start...</td>\n",
       "      <td>[{'type': 'device_type', 'words': ['vacuum', '...</td>\n",
       "      <td>device_type,time,time,general_frequency</td>\n",
       "      <td>my [device_type : vacuum cleaner] should start...</td>\n",
       "    </tr>\n",
       "    <tr>\n",
       "      <th>1985</th>\n",
       "      <td>How would you ask your PDA to make you a coffee?</td>\n",
       "      <td>order one coffee to starbucks coffee shop</td>\n",
       "      <td>iot</td>\n",
       "      <td>coffee</td>\n",
       "      <td>coffee</td>\n",
       "      <td>order one coffee to [business_name : starbucks...</td>\n",
       "      <td>[{'type': 'business_name', 'words': ['starbuck...</td>\n",
       "      <td>business_name,business_type</td>\n",
       "      <td>order one [business_type : coffee] to [busines...</td>\n",
       "    </tr>\n",
       "    <tr>\n",
       "      <th>1986</th>\n",
       "      <td>How would you ask your PDA to make you a coffee?</td>\n",
       "      <td>order one coffee from nearest coffee shop</td>\n",
       "      <td>iot</td>\n",
       "      <td>coffee</td>\n",
       "      <td>coffee</td>\n",
       "      <td>order one coffee from nearest [business_type :...</td>\n",
       "      <td>[{'type': 'business_type', 'words': ['coffee',...</td>\n",
       "      <td>business_type</td>\n",
       "      <td>order one [business_type : coffee] from neares...</td>\n",
       "    </tr>\n",
       "    <tr>\n",
       "      <th>2291</th>\n",
       "      <td>Write what you would tell your PDA in the foll...</td>\n",
       "      <td>turn on my son's room plug socket on off</td>\n",
       "      <td>iot</td>\n",
       "      <td>wemo_on</td>\n",
       "      <td>wemo_on</td>\n",
       "      <td>turn on my [relation : son's] [house_place : r...</td>\n",
       "      <td>[{'type': 'relation', 'words': ['son's']}, {'t...</td>\n",
       "      <td>relation,house_place,device_type</td>\n",
       "      <td>turn on my son's [house_place : room] [device_...</td>\n",
       "    </tr>\n",
       "    <tr>\n",
       "      <th>3213</th>\n",
       "      <td>Write what you would tell your PDA in the foll...</td>\n",
       "      <td>please clean the floor</td>\n",
       "      <td>iot</td>\n",
       "      <td>cleaning</td>\n",
       "      <td>cleaning</td>\n",
       "      <td>please clean the [place_name : floor]</td>\n",
       "      <td>[{'type': 'place_name', 'words': ['floor']}]</td>\n",
       "      <td>place_name</td>\n",
       "      <td>please clean the [house_place : floor]</td>\n",
       "    </tr>\n",
       "    <tr>\n",
       "      <th>3516</th>\n",
       "      <td>How would you ask your PDA to make you a coffee?</td>\n",
       "      <td>greg wants black coffee can you make one</td>\n",
       "      <td>iot</td>\n",
       "      <td>coffee</td>\n",
       "      <td>coffee</td>\n",
       "      <td>[person : greg] wants [coffee_type : black] co...</td>\n",
       "      <td>[{'type': 'person', 'words': ['greg']}, {'type...</td>\n",
       "      <td>person,coffee_type</td>\n",
       "      <td>[person : greg] wants [coffee_type : black] co...</td>\n",
       "    </tr>\n",
       "  </tbody>\n",
       "</table>\n",
       "</div>"
      ],
      "text/plain": [
       "                                               question  \\\n",
       "392   Write what you would tell your PDA in the foll...   \n",
       "850    How would you ask your PDA to make you a coffee?   \n",
       "1843  Write what you would tell your PDA in the foll...   \n",
       "1844  Write what you would tell your PDA in the foll...   \n",
       "1845  Write what you would tell your PDA in the foll...   \n",
       "1985   How would you ask your PDA to make you a coffee?   \n",
       "1986   How would you ask your PDA to make you a coffee?   \n",
       "2291  Write what you would tell your PDA in the foll...   \n",
       "3213  Write what you would tell your PDA in the foll...   \n",
       "3516   How would you ask your PDA to make you a coffee?   \n",
       "\n",
       "                                      answer_normalised scenario  \\\n",
       "392       can you shuffle the light colors in the house      iot   \n",
       "850                                 brew coffee at noon      iot   \n",
       "1843  start my robot vacuum cleaner by ten to eleven...      iot   \n",
       "1844  by ten to eleven am daily start my vacuum cleaner      iot   \n",
       "1845  my vacuum cleaner should start between ten to ...      iot   \n",
       "1985          order one coffee to starbucks coffee shop      iot   \n",
       "1986          order one coffee from nearest coffee shop      iot   \n",
       "2291           turn on my son's room plug socket on off      iot   \n",
       "3213                             please clean the floor      iot   \n",
       "3516           greg wants black coffee can you make one      iot   \n",
       "\n",
       "               intent  predicted_label  \\\n",
       "392   hue_lightchange  hue_lightchange   \n",
       "850            coffee           coffee   \n",
       "1843         cleaning         cleaning   \n",
       "1844         cleaning         cleaning   \n",
       "1845         cleaning         cleaning   \n",
       "1985           coffee           coffee   \n",
       "1986           coffee           coffee   \n",
       "2291          wemo_on          wemo_on   \n",
       "3213         cleaning         cleaning   \n",
       "3516           coffee           coffee   \n",
       "\n",
       "                                      answer_annotation  \\\n",
       "392   can you [player_setting : shuffle] the light c...   \n",
       "850                   brew coffee at [timeofday : noon]   \n",
       "1843  start my [device_type : robot vacuum cleaner] ...   \n",
       "1844  by [time : ten] to [time : eleven am] [general...   \n",
       "1845  my [device_type : vacuum cleaner] should start...   \n",
       "1985  order one coffee to [business_name : starbucks...   \n",
       "1986  order one coffee from nearest [business_type :...   \n",
       "2291  turn on my [relation : son's] [house_place : r...   \n",
       "3213              please clean the [place_name : floor]   \n",
       "3516  [person : greg] wants [coffee_type : black] co...   \n",
       "\n",
       "                                               entities  \\\n",
       "392   [{'type': 'player_setting', 'words': ['shuffle...   \n",
       "850          [{'type': 'timeofday', 'words': ['noon']}]   \n",
       "1843  [{'type': 'device_type', 'words': ['robot', 'v...   \n",
       "1844  [{'type': 'time', 'words': ['ten']}, {'type': ...   \n",
       "1845  [{'type': 'device_type', 'words': ['vacuum', '...   \n",
       "1985  [{'type': 'business_name', 'words': ['starbuck...   \n",
       "1986  [{'type': 'business_type', 'words': ['coffee',...   \n",
       "2291  [{'type': 'relation', 'words': ['son's']}, {'t...   \n",
       "3213       [{'type': 'place_name', 'words': ['floor']}]   \n",
       "3516  [{'type': 'person', 'words': ['greg']}, {'type...   \n",
       "\n",
       "                                 entity_types  \\\n",
       "392                player_setting,house_place   \n",
       "850                                 timeofday   \n",
       "1843  device_type,time,time,general_frequency   \n",
       "1844  time,time,general_frequency,device_type   \n",
       "1845  device_type,time,time,general_frequency   \n",
       "1985              business_name,business_type   \n",
       "1986                            business_type   \n",
       "2291         relation,house_place,device_type   \n",
       "3213                               place_name   \n",
       "3516                       person,coffee_type   \n",
       "\n",
       "                                      predicted_tagging  \n",
       "392   can you [player_setting : shuffle] the light c...  \n",
       "850                   brew coffee at [timeofday : noon]  \n",
       "1843  start my [device_type : robot vacuum cleaner] ...  \n",
       "1844  by [time : ten to eleven am] [general_frequenc...  \n",
       "1845  my [device_type : vacuum cleaner] should start...  \n",
       "1985  order one [business_type : coffee] to [busines...  \n",
       "1986  order one [business_type : coffee] from neares...  \n",
       "2291  turn on my son's [house_place : room] [device_...  \n",
       "3213             please clean the [house_place : floor]  \n",
       "3516  [person : greg] wants [coffee_type : black] co...  "
      ]
     },
     "execution_count": 36,
     "metadata": {},
     "output_type": "execute_result"
    }
   ],
   "source": [
    "sparse_total_df, sparse_entries_df = get_entries_with_sparse_total(\n",
    "    domain_df, sorted_entity_types_and_counts)\n",
    "# create a ipysheet for sparse_total_df with boolean buttons for merge, remove, untag\n",
    "# Should the merge be multiple buttons, one for each entity type to merge with?\n",
    "sparse_entries_df"
   ]
  },
  {
   "cell_type": "code",
   "execution_count": 37,
   "metadata": {},
   "outputs": [],
   "source": [
    "import ipysheet"
   ]
  },
  {
   "cell_type": "code",
   "execution_count": 38,
   "metadata": {},
   "outputs": [],
   "source": [
    "def create_sparse_entity_review_sheet(sparse_total_df):\n",
    "    '''\n",
    "    Create a sheet with the entity types and total counts of entities with boolean columns for whether the entity should be removed, merged, or untagged\n",
    "    :param sparse_total_df: a dataframe with the entity types and total counts of entities with less than 5 total count\n",
    "    :return: an ipysheet with the entity types and total counts of entities with boolean columns for whether the entity should be removed, merged, or untagged\n",
    "    '''\n",
    "\n",
    "    to_review_df = sparse_total_df.copy()\n",
    "    to_review_df = to_review_df.assign(remove=None)\n",
    "    to_review_df['remove'] = to_review_df['remove'].astype('bool')\n",
    "    to_review_df = to_review_df.assign(merge=None)\n",
    "    to_review_df['merge'] = to_review_df['merge'].astype('bool')\n",
    "    to_review_df = to_review_df.assign(untag_entity=None)\n",
    "    to_review_df['untag_entity'] = to_review_df['untag_entity'].astype('bool')\n",
    "    return ipysheet.from_dataframe(to_review_df)\n"
   ]
  },
  {
   "cell_type": "code",
   "execution_count": 39,
   "metadata": {},
   "outputs": [
    {
     "data": {
      "application/vnd.jupyter.widget-view+json": {
       "model_id": "2c2c1b97d7e044e5a413747fa11e448f",
       "version_major": 2,
       "version_minor": 0
      },
      "text/plain": [
       "Sheet(cells=(Cell(column_end=0, column_start=0, numeric_format=None, row_end=7, row_start=0, squeeze_row=False…"
      ]
     },
     "metadata": {},
     "output_type": "display_data"
    }
   ],
   "source": [
    "sparse_entity_review_sheet = create_sparse_entity_review_sheet(sparse_total_df)\n",
    "sparse_entity_review_sheet"
   ]
  },
  {
   "cell_type": "code",
   "execution_count": 50,
   "metadata": {},
   "outputs": [],
   "source": [
    "# FROM HERE\n",
    "#TODO: Clean up notebook!\n",
    "def get_sparse_entries_by_type(sparse_entries_df):\n",
    "    entity_types = sparse_total_df['entity_type'].tolist()\n",
    "    entity_type_index_dict = {\n",
    "        entity_type: index for index, entity_type in enumerate(entity_types)}\n",
    "    number_choice = input(\n",
    "        'Enter the number of the entity type you want to look at: ')\n",
    "    entity_type = entity_types[int(number_choice)]\n",
    "\n",
    "    return sparse_entries_df[sparse_entries_df['entity_types'].str.contains(entity_type, na=False)]\n"
   ]
  },
  {
   "cell_type": "code",
   "execution_count": 51,
   "metadata": {},
   "outputs": [
    {
     "data": {
      "text/html": [
       "<div>\n",
       "<style scoped>\n",
       "    .dataframe tbody tr th:only-of-type {\n",
       "        vertical-align: middle;\n",
       "    }\n",
       "\n",
       "    .dataframe tbody tr th {\n",
       "        vertical-align: top;\n",
       "    }\n",
       "\n",
       "    .dataframe thead th {\n",
       "        text-align: right;\n",
       "    }\n",
       "</style>\n",
       "<table border=\"1\" class=\"dataframe\">\n",
       "  <thead>\n",
       "    <tr style=\"text-align: right;\">\n",
       "      <th></th>\n",
       "      <th>question</th>\n",
       "      <th>answer_normalised</th>\n",
       "      <th>scenario</th>\n",
       "      <th>intent</th>\n",
       "      <th>predicted_label</th>\n",
       "      <th>answer_annotation</th>\n",
       "      <th>entities</th>\n",
       "      <th>entity_types</th>\n",
       "      <th>predicted_tagging</th>\n",
       "    </tr>\n",
       "  </thead>\n",
       "  <tbody>\n",
       "    <tr>\n",
       "      <th>3516</th>\n",
       "      <td>How would you ask your PDA to make you a coffee?</td>\n",
       "      <td>greg wants black coffee can you make one</td>\n",
       "      <td>iot</td>\n",
       "      <td>coffee</td>\n",
       "      <td>coffee</td>\n",
       "      <td>[person : greg] wants [coffee_type : black] co...</td>\n",
       "      <td>[{'type': 'person', 'words': ['greg']}, {'type...</td>\n",
       "      <td>person,coffee_type</td>\n",
       "      <td>[person : greg] wants [coffee_type : black] co...</td>\n",
       "    </tr>\n",
       "  </tbody>\n",
       "</table>\n",
       "</div>"
      ],
      "text/plain": [
       "                                              question  \\\n",
       "3516  How would you ask your PDA to make you a coffee?   \n",
       "\n",
       "                             answer_normalised scenario  intent  \\\n",
       "3516  greg wants black coffee can you make one      iot  coffee   \n",
       "\n",
       "     predicted_label                                  answer_annotation  \\\n",
       "3516          coffee  [person : greg] wants [coffee_type : black] co...   \n",
       "\n",
       "                                               entities        entity_types  \\\n",
       "3516  [{'type': 'person', 'words': ['greg']}, {'type...  person,coffee_type   \n",
       "\n",
       "                                      predicted_tagging  \n",
       "3516  [person : greg] wants [coffee_type : black] co...  "
      ]
     },
     "execution_count": 51,
     "metadata": {},
     "output_type": "execute_result"
    }
   ],
   "source": [
    "get_sparse_entries_by_type(sparse_entries_df)"
   ]
  },
  {
   "cell_type": "code",
   "execution_count": null,
   "metadata": {},
   "outputs": [],
   "source": [
    "#TODO: add a function to remove entries marked for removal\n",
    "#TODO: add a function to untag entities marked for untagging\n",
    "#TODO: add a function to merge entities?"
   ]
  },
  {
   "cell_type": "code",
   "execution_count": null,
   "metadata": {},
   "outputs": [],
   "source": [
    "# I am not sure if this part is necessary"
   ]
  },
  {
   "cell_type": "code",
   "execution_count": null,
   "metadata": {},
   "outputs": [],
   "source": [
    "def split_entity_types(domain_df):\n",
    "    '''\n",
    "    Split entity types by , and group entries by split entity types\n",
    "    :param domain_df: a dataframe with entries in the entity_types column\n",
    "    :return: a dataframe with entries grouped by entity type\n",
    "    '''\n",
    "    split_entity_types_df = domain_df.copy()\n",
    "    split_entity_types_df['entity_types'] = split_entity_types_df['entity_types'].str.split(\n",
    "        ',')\n",
    "    split_entity_types_df = split_entity_types_df.explode(\n",
    "        'entity_types').reset_index(drop=True)\n",
    "    return split_entity_types_df"
   ]
  },
  {
   "cell_type": "code",
   "execution_count": null,
   "metadata": {},
   "outputs": [],
   "source": [
    "# create multi index from sparse_entries_df with frame with the split entity_types and the answer_annotation as the sub column\n",
    "\n",
    "split_entity_types_df = split_entity_types(sparse_entries_df)\n",
    "\n",
    "split_entity_types_df = split_entity_types_df[['intent', 'entity_types', 'answer_annotation', 'predicted_tagging']]\n",
    "split_entity_types_df\n",
    "\n",
    "# TODO: make the entity_type the index and then group all of the answer_annotations by entity_type and then count the number of each answer_annotation\n",
    "# Do I need to use a multi index for this?\n",
    "pd.MultiIndex.from_frame(split_entity_types_df)\n"
   ]
  },
  {
   "cell_type": "code",
   "execution_count": null,
   "metadata": {},
   "outputs": [],
   "source": [
    "entity_types"
   ]
  },
  {
   "cell_type": "code",
   "execution_count": null,
   "metadata": {},
   "outputs": [],
   "source": [
    "split_entity_types_df = create_entity_type_df(sparse_entries_df)\n",
    "split_entity_types_df"
   ]
  },
  {
   "cell_type": "code",
   "execution_count": null,
   "metadata": {},
   "outputs": [],
   "source": [
    "# TODO: the entries should be arranged in the same order as the entity types in sparse_total_df\n",
    "# TODO: add use predicted tagging column as boolean?\n",
    "# TODO: make df that only has intent, predicted label, answer annotation, predicted tagging\n",
    "df = sparse_entries_df[['intent', 'predicted_label', 'answer_annotation', 'predicted_tagging']]\n",
    "\n",
    "# display the entire columns for answer_annotation and predicted_tagging\n",
    "with pd.option_context('display.max_rows', None, 'display.max_columns', None):\n",
    "    display(df)"
   ]
  },
  {
   "cell_type": "code",
   "execution_count": null,
   "metadata": {},
   "outputs": [],
   "source": [
    "#TODO: From here we will want to create an ipysheet of the above, and allow the user to select entries to remove or if there is an entity from the list to be untagged or merged:\n",
    "# Option 1: Remove entry\n",
    "# Option 2: Merge entry (how to get which one?)\n",
    "# Option 3: Untag entry (how to get which one?)"
   ]
  },
  {
   "cell_type": "code",
   "execution_count": null,
   "metadata": {},
   "outputs": [],
   "source": [
    "# TODO: place_name -> house_place\n",
    "# Add in ability to change a whole entity type to another. e.g. place_name -> house_place"
   ]
  },
  {
   "cell_type": "markdown",
   "metadata": {},
   "source": [
    "## Entity overlap refinement\n",
    "We want to find the entities that have overlapping entity types. Entities (the words themselves that get tagged), should very rarely have more than one entity type in a domain. If they do, then we need to refine the dataset."
   ]
  },
  {
   "cell_type": "markdown",
   "metadata": {},
   "source": [
    "take the `domain_df['entities']` and get a list of dictionaries for:\n",
    "* `id`: the original index of the row\n",
    "* `entity_type`: the entity type\n",
    "* `entity_words`: the joined words with spaces that make up the entity\n",
    "\n",
    "and then drop it into a dataframe"
   ]
  },
  {
   "cell_type": "code",
   "execution_count": 16,
   "metadata": {},
   "outputs": [],
   "source": [
    "correct_entity_types, incorrect_entity_types, overlapping_entity_words = MacroEntityRefinement.pick_correct_entity_type_for_overlapping_entities(\n",
    "    domain_df)\n",
    "\n",
    "    #TODO: add option to just press enter to skip picking a correct entity type (i.e. coffee type black but color black)"
   ]
  },
  {
   "cell_type": "markdown",
   "metadata": {},
   "source": [
    "We have the `correct_entity_types`. We will need those to know what to change the `entity_type` to."
   ]
  },
  {
   "cell_type": "code",
   "execution_count": null,
   "metadata": {},
   "outputs": [],
   "source": [
    "correct_entity_types"
   ]
  },
  {
   "cell_type": "markdown",
   "metadata": {},
   "source": [
    "We should probably get a list of the `incorrect_entity_types` to go along with our `correct_entity_types`, so we know what to replace."
   ]
  },
  {
   "cell_type": "code",
   "execution_count": null,
   "metadata": {},
   "outputs": [],
   "source": [
    "incorrect_entity_types"
   ]
  },
  {
   "cell_type": "markdown",
   "metadata": {},
   "source": [
    "How about we for loop over the zip of `incorrect_entity_types` and `correct_entity_types` and replace the `entity_type` in `overlapping_domain_df` with the `correct_entity_type`."
   ]
  },
  {
   "cell_type": "code",
   "execution_count": 17,
   "metadata": {},
   "outputs": [
    {
     "name": "stdout",
     "output_type": "stream",
     "text": [
      "replacing: timeofday : every morning\n",
      "with: general_frequency : every morning\n",
      "replacing: date : everyday\n",
      "with: general_frequency : everyday\n"
     ]
    }
   ],
   "source": [
    "refined_overlapping_domain_df = MacroEntityRefinement.refine_overlapping_entity_types(\n",
    "    domain_df, correct_entity_types, incorrect_entity_types, overlapping_entity_words)"
   ]
  },
  {
   "cell_type": "markdown",
   "metadata": {},
   "source": [
    "## Entity refinement\n",
    "We will want to refine all of the entries that have the incorrect entity types."
   ]
  },
  {
   "cell_type": "code",
   "execution_count": 18,
   "metadata": {},
   "outputs": [],
   "source": [
    "domain_incorrect_predicted_entities_df = refined_overlapping_domain_df[refined_overlapping_domain_df['answer_annotation']\n",
    "                                                              != refined_overlapping_domain_df['predicted_tagging']]\n"
   ]
  },
  {
   "cell_type": "code",
   "execution_count": null,
   "metadata": {},
   "outputs": [],
   "source": []
  },
  {
   "cell_type": "code",
   "execution_count": 19,
   "metadata": {},
   "outputs": [
    {
     "name": "stderr",
     "output_type": "stream",
     "text": [
      "/home/bartmoss/code/NLU-engine-prototype-benchmarks/.venv/lib/python3.7/site-packages/pandas/core/frame.py:4913: SettingWithCopyWarning: \n",
      "A value is trying to be set on a copy of a slice from a DataFrame\n",
      "\n",
      "See the caveats in the documentation: https://pandas.pydata.org/pandas-docs/stable/user_guide/indexing.html#returning-a-view-versus-a-copy\n",
      "  errors=errors,\n"
     ]
    },
    {
     "data": {
      "application/vnd.jupyter.widget-view+json": {
       "model_id": "fc50cd142b854279a783da0bf084934a",
       "version_major": 2,
       "version_minor": 0
      },
      "text/plain": [
       "Sheet(cells=(Cell(column_end=0, column_start=0, numeric_format=None, row_end=15, row_start=0, squeeze_row=Fals…"
      ]
     },
     "metadata": {},
     "output_type": "display_data"
    }
   ],
   "source": [
    "to_review_sheet = MacroDataRefinement.create_sheet(\n",
    "    domain_incorrect_predicted_entities_df)\n",
    "to_review_sheet"
   ]
  },
  {
   "cell_type": "code",
   "execution_count": 24,
   "metadata": {},
   "outputs": [
    {
     "data": {
      "application/vnd.jupyter.widget-view+json": {
       "model_id": "87082a9b86e64fe9a9e2c4271127e9e2",
       "version_major": 2,
       "version_minor": 0
      },
      "text/plain": [
       "Sheet(cells=(Cell(column_end=0, column_start=0, numeric_format=None, row_end=15, row_start=0, squeeze_row=Fals…"
      ]
     },
     "metadata": {},
     "output_type": "display_data"
    }
   ],
   "source": [
    "to_review_sheet"
   ]
  },
  {
   "cell_type": "code",
   "execution_count": null,
   "metadata": {},
   "outputs": [],
   "source": [
    "# TODO: start from here, refine then save to CSV the changes. Repeat until all domains have been refined."
   ]
  },
  {
   "cell_type": "code",
   "execution_count": null,
   "metadata": {},
   "outputs": [],
   "source": [
    "reviewed_domain_entities_df = MacroDataRefinement.convert_sheet_to_dataframe(to_review_sheet)"
   ]
  },
  {
   "cell_type": "code",
   "execution_count": null,
   "metadata": {},
   "outputs": [],
   "source": [
    "refined_domain_entities_df = reviewed_domain_entities_df.apply(\n",
    "    MacroDataRefinement.replace_annotated_utterance_with_predicted_tagging, axis=1)"
   ]
  },
  {
   "cell_type": "code",
   "execution_count": null,
   "metadata": {},
   "outputs": [],
   "source": [
    "refined_domain_entities_df.to_csv(\n",
    "    f'data/refined/entities/{domain_selection}_refined_entities_df.csv')"
   ]
  },
  {
   "cell_type": "code",
   "execution_count": null,
   "metadata": {},
   "outputs": [],
   "source": [
    "refined_domain_entities_df = MacroDataRefinement.mark_entries_as_refined(\n",
    "    refined_dataframe=refined_domain_entities_df, refined_type='entity')"
   ]
  },
  {
   "cell_type": "code",
   "execution_count": null,
   "metadata": {},
   "outputs": [],
   "source": [
    "nlu_data_refined_df.update(refined_domain_entities_df)"
   ]
  },
  {
   "cell_type": "code",
   "execution_count": null,
   "metadata": {},
   "outputs": [],
   "source": [
    "removed_nlu_data_refined_df = nlu_data_refined_df[nlu_data_refined_df['remove'] != True]"
   ]
  },
  {
   "cell_type": "code",
   "execution_count": null,
   "metadata": {},
   "outputs": [],
   "source": [
    "nlu_data_refined_df.to_csv(\n",
    "    f'data/refined/nlu_data_intent_and_entity_refined_df.csv')"
   ]
  },
  {
   "cell_type": "code",
   "execution_count": null,
   "metadata": {},
   "outputs": [],
   "source": [
    "# FROM HERE: loop back for each domain to refine the entities until done."
   ]
  },
  {
   "cell_type": "code",
   "execution_count": null,
   "metadata": {},
   "outputs": [],
   "source": [
    "# TODO: once all of the refinements of each domain have been completed the nlu_data_refined_df should be updated with the refined data from removed_nlu_data_refined_df!\n",
    "# Don't forget: The removed entries are no longer in the removed_nlu_data_refined_df so they need to be added back into the nlu_data_refined_df from the files!"
   ]
  },
  {
   "cell_type": "code",
   "execution_count": null,
   "metadata": {},
   "outputs": [],
   "source": [
    "nlu_data_df = pd.read_csv(\n",
    "    'data/refined/nlu_data_refined_df.csv', sep=',', index_col=0)"
   ]
  },
  {
   "cell_type": "code",
   "execution_count": null,
   "metadata": {},
   "outputs": [],
   "source": [
    "nlu_data_df = DataUtils.convert_annotated_utterances_to_normalised_utterances(\n",
    "    nlu_data_df)"
   ]
  },
  {
   "cell_type": "code",
   "execution_count": null,
   "metadata": {},
   "outputs": [],
   "source": [
    "import glob"
   ]
  },
  {
   "cell_type": "code",
   "execution_count": null,
   "metadata": {},
   "outputs": [],
   "source": [
    "# load and concat all csv files in the data/refined/entities folder\n",
    "path = 'data/refined/entities'\n",
    "all_files = glob.glob(path + \"/*.csv\")\n",
    "\n",
    "df = pd.concat((pd.read_csv(f, index_col=0)\n",
    "               for f in all_files))\n"
   ]
  },
  {
   "cell_type": "code",
   "execution_count": null,
   "metadata": {},
   "outputs": [],
   "source": [
    "refined_df = MacroDataRefinement.mark_entries_as_refined(\n",
    "    refined_dataframe=df, refined_type='entity')\n"
   ]
  },
  {
   "cell_type": "code",
   "execution_count": null,
   "metadata": {},
   "outputs": [],
   "source": [
    "refined_df = refined_df[refined_df['scenario'] != 'iot']\n"
   ]
  },
  {
   "cell_type": "code",
   "execution_count": null,
   "metadata": {},
   "outputs": [],
   "source": [
    "nlu_data_df.update(refined_df)"
   ]
  },
  {
   "cell_type": "code",
   "execution_count": null,
   "metadata": {},
   "outputs": [],
   "source": [
    "nlu_data_df.to_csv('data/refined/nlu_data_intent_and_entity_refined_df.csv')\n",
    "#FROM HERE!\n",
    "#TODO use this for the flow from the start instead of the removed_nlu_data_refined_updated_df!\n",
    "#TODO: test this on the flow and make sure it works before going to refinement\n",
    "#TODO: change after the report on entities with JSON to get a simple output of all the entities in the domain and examples like in the report but have the user see if any entities need to be totally removed as labels or merged with others before continuing to the refinement stage!"
   ]
  },
  {
   "cell_type": "code",
   "execution_count": null,
   "metadata": {},
   "outputs": [],
   "source": [
    "#TODO: refactor intent refinement to dump the csvs into a sub dir called intents!"
   ]
  },
  {
   "cell_type": "code",
   "execution_count": null,
   "metadata": {},
   "outputs": [],
   "source": [
    "#TODO: It is probably a good idea to drop all of the ones that lack a good support.\n",
    "#NOTE: But it didn't work to fix the problem.\n",
    "remove_entities = [\n",
    "    'music_album',\n",
    "    'game_type',\n",
    "    \n",
    "]\n",
    "removed_nlu_data_refined__entities_cleaned_df = removed_nlu_data_refined_df[~removed_nlu_data_refined_df['answer_annotation'].str.contains('|'.join(remove_entities))]"
   ]
  },
  {
   "cell_type": "code",
   "execution_count": null,
   "metadata": {},
   "outputs": [],
   "source": [
    "Analytics.plot_report(entity_report_df)"
   ]
  },
  {
   "cell_type": "code",
   "execution_count": null,
   "metadata": {},
   "outputs": [],
   "source": [
    "#TODO: Remove/replace worst: add in state features like here: https://sklearn-crfsuite.readthedocs.io/en/latest/tutorial.html#let-s-check-what-classifier-learned\n",
    "# Specifically, we want print_state_features()"
   ]
  },
  {
   "cell_type": "code",
   "execution_count": null,
   "metadata": {},
   "outputs": [],
   "source": [
    "def print_state_features(state_features):\n",
    "    for (attr, label), weight in state_features:\n",
    "        print(\"%0.6f %-8s %s\" % (weight, label, attr))\n"
   ]
  },
  {
   "cell_type": "code",
   "execution_count": null,
   "metadata": {},
   "outputs": [],
   "source": [
    "from nlu_engine import crf\n",
    "from collections import Counter"
   ]
  },
  {
   "cell_type": "code",
   "execution_count": null,
   "metadata": {},
   "outputs": [],
   "source": [
    "crf_model.state_features_"
   ]
  },
  {
   "cell_type": "code",
   "execution_count": null,
   "metadata": {},
   "outputs": [],
   "source": [
    "print_state_features(Counter(crf.state_features_).most_common(100))"
   ]
  },
  {
   "cell_type": "code",
   "execution_count": null,
   "metadata": {},
   "outputs": [],
   "source": [
    "# TODO: review the most common features, none of them are the word parts (chunks) or POS tags, are these even needed or helpful?\n",
    "# Can we remove them and speed up the process?\n",
    "# What other features could be used? Word2vec? Brown clustering?"
   ]
  },
  {
   "cell_type": "code",
   "execution_count": null,
   "metadata": {},
   "outputs": [],
   "source": [
    "domain_selection = MacroDataRefinement.list_and_select_domain(nlu_data_df)"
   ]
  },
  {
   "cell_type": "markdown",
   "metadata": {},
   "source": [
    "As we have seen from the entity extraction report, the entity extraction is not working for the alarm_type."
   ]
  },
  {
   "cell_type": "code",
   "execution_count": null,
   "metadata": {},
   "outputs": [],
   "source": [
    "#TODO: review all scoring 0, see if they can be completely dropped or what\n",
    "entity_to_refine = 'alarm_type'\n",
    "nlu_scenario_df = removed_nlu_data_refined_df[removed_nlu_data_refined_df['answer_annotation'].str.contains(\n",
    "    entity_to_refine)]"
   ]
  },
  {
   "cell_type": "code",
   "execution_count": null,
   "metadata": {},
   "outputs": [],
   "source": [
    "nlu_scenario_df"
   ]
  },
  {
   "cell_type": "code",
   "execution_count": null,
   "metadata": {},
   "outputs": [],
   "source": [
    "def remove_entity(df, entity_to_remove):\n",
    "    \"\"\"\n",
    "        Remove all entries of an entity type from the dataframe.\n",
    "        :param df: pandas dataframe\n",
    "        :return: pandas dataframe\n",
    "        \"\"\"\n",
    "    updated_df = df.copy()\n",
    "    updated_df.loc[updated_df['answer_annotation'].str.contains(\n",
    "        entity_to_remove), 'remove'] = True\n",
    "    return updated_df\n"
   ]
  },
  {
   "cell_type": "code",
   "execution_count": null,
   "metadata": {},
   "outputs": [],
   "source": [
    "updated_df = remove_entity(removed_nlu_data_refined_df, entity_to_refine)"
   ]
  },
  {
   "cell_type": "code",
   "execution_count": null,
   "metadata": {},
   "outputs": [],
   "source": [
    "removed_nlu_data_refined_df[removed_nlu_data_refined_df['answer_annotation'].str.contains(\n",
    "    entity_to_refine)]"
   ]
  },
  {
   "cell_type": "markdown",
   "metadata": {},
   "source": [
    "## Entity Convert to ipysheet and review\n",
    "TODO: add in description of the types of fixes we can do to the NLU data for entity\n"
   ]
  },
  {
   "cell_type": "code",
   "execution_count": null,
   "metadata": {},
   "outputs": [],
   "source": [
    "\n",
    "# TODO: same as above for intents but with predicted entities: report on them, break them down into a dictionary of dataframes and refine them.."
   ]
  },
  {
   "cell_type": "markdown",
   "metadata": {},
   "source": [
    "For the example with 'alarm' and the alarm_type:\n",
    "* We see that the alarm_type entities are really event_name(ie wake up, soccer practice) except for ID 5879, we will need to change them to event_name and remove ID 5879.\n",
    "* The last one(ID 6320) is a mistake. Someone got confused with the prompt and assumed alarm is a security system. This is out of scope for the alarm domain, as the alarms are ones set on a phone or other device. We will drop this utterance.\n",
    "Once you are done reviewing, you convert it back to a dataframe and check to make sure it looks okay.\n",
    "Let's change all alarm_type entities to event_name."
   ]
  },
  {
   "cell_type": "code",
   "execution_count": null,
   "metadata": {},
   "outputs": [],
   "source": [
    "\n",
    "reviewed_scenario_df['answer_annotation'] = reviewed_scenario_df['answer_annotation'].str.replace(\n",
    "    'alarm_type', 'event_name')\n",
    "reviewed_scenario_df\n"
   ]
  },
  {
   "cell_type": "markdown",
   "metadata": {},
   "source": [
    "Okay dokey, now we can merge this with the original data set and see if it made a difference already(well of course it did!)."
   ]
  },
  {
   "cell_type": "code",
   "execution_count": null,
   "metadata": {},
   "outputs": [],
   "source": [
    "nlu_data_df.drop(\n",
    "    reviewed_scenario_df[reviewed_scenario_df['remove'] == True].index, inplace=True)\n",
    "\n",
    "reviewed_scenario_df = reviewed_scenario_df[~reviewed_scenario_df['remove'] == True]\n",
    "\n",
    "nlu_data_df.loc[nlu_data_df.index.intersection(\n",
    "    reviewed_scenario_df.index), 'answer_annotation'] = reviewed_scenario_df['answer_annotation']\n",
    "\n",
    "nlu_data_df[(nlu_data_df['scenario'].str.contains('alarm')) & (nlu_data_df['answer_annotation'].str.contains(\n",
    "    'event_name'))]\n"
   ]
  },
  {
   "cell_type": "markdown",
   "metadata": {},
   "source": [
    "### Benchmark changed data set\n",
    "TODO: repeat reports for the changed data set for domain and entities and compare\n"
   ]
  },
  {
   "cell_type": "code",
   "execution_count": null,
   "metadata": {},
   "outputs": [],
   "source": [
    "\n",
    "entity_reviewed_report_df = NLUEngine.evaluate_entity_classifier(\n",
    "    data_df=nlu_data_df)\n",
    "entity_reviewed_report_df.sort_values(by=['f1-score'])"
   ]
  },
  {
   "cell_type": "markdown",
   "metadata": {},
   "source": [
    "If you are sure it is okay, you can save it as a csv file, make sure to name it correctly(i.e. `alarm_domain_first_review.csv`)"
   ]
  },
  {
   "cell_type": "code",
   "execution_count": null,
   "metadata": {},
   "outputs": [],
   "source": [
    "reviewed_scenario_df.to_csv('alarm_domain_first_review.csv')"
   ]
  },
  {
   "cell_type": "markdown",
   "metadata": {},
   "source": [
    "Load it back up and check to make sure it looks okay. Make sure to give it the right name!\n"
   ]
  },
  {
   "cell_type": "code",
   "execution_count": null,
   "metadata": {},
   "outputs": [],
   "source": [
    "audio_domain_first_review_df = pd.read_csv(\n",
    "    'alarm_domain_first_review.csv', index_col=0)\n",
    "audio_domain_first_review_df.tail(50)\n"
   ]
  },
  {
   "cell_type": "code",
   "execution_count": null,
   "metadata": {},
   "outputs": [],
   "source": [
    "# TODO: implement the evaluate_classifier in the NLU engine to check f1 score for intents and entities in the domain vs original NLU data of domain!\n",
    "# Value: benchmark!\n",
    "#TODO: implement a flow for getting the domains with the lowest f1 scores by intent/domain and entities and cleaning them by the order of the lowest f1 scores\n",
    "# TODO: concat all reviewed dfs and save to csv\n",
    "# TODO: add benchmark for whole NLU data set before and after cleaning! (by intents and domains!)\n",
    "# TODO: review the review marked entries\n",
    "# TODO: add new column for notes\n",
    "# TODO: change flow of review for only ones that should be reviewed, not all of the ones that have been changed (track changes by comparing against the original data set)\n",
    "# TODO: do the changed utterances have to be changed in other fields too or is it just enough for the tagged utterancve field?\n",
    "# TODO: add visualizations of domains, their intents, keywords in utterances, and entities to top\n"
   ]
  }
 ],
 "metadata": {
  "interpreter": {
   "hash": "f1ecf1ecc6a840da86e8b827c66035ad900dc97d6a10e234826dd106c37257af"
  },
  "kernelspec": {
   "display_name": "Python 3.7.7 ('.venv': venv)",
   "language": "python",
   "name": "python3"
  },
  "language_info": {
   "codemirror_mode": {
    "name": "ipython",
    "version": 3
   },
   "file_extension": ".py",
   "mimetype": "text/x-python",
   "name": "python",
   "nbconvert_exporter": "python",
   "pygments_lexer": "ipython3",
   "version": "3.7.7"
  },
  "orig_nbformat": 4
 },
 "nbformat": 4,
 "nbformat_minor": 2
}
